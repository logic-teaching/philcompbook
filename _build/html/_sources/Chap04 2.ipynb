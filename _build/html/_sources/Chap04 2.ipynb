{
 "cells": [
  {
   "cell_type": "markdown",
   "id": "7bf1f294",
   "metadata": {
    "slideshow": {
     "slide_type": "slide"
    }
   },
   "source": [
    "# Chapter 4\n",
    "\n",
    "Our main topic in this course is computability. But we will have occasion here and there to talk about a couple of non-computable sets. Today we do a survey of non-computability. Even if you only care about what is computable, knowing what is on the other side can help you get a sense of the terrain, and can help you understand what might be at stake in deciding whether something is computable. The examples all require a bit of 'local knowledge.' Hence, not all of the examples will make sense to everyone, at least on the first pass. This chapter will succeed if it can give everyone of an example or two of a non-computable set whose topic is something that they are already diposed to care about. "
   ]
  },
  {
   "cell_type": "markdown",
   "id": "529bb8f4",
   "metadata": {
    "slideshow": {
     "slide_type": "slide"
    }
   },
   "source": [
    "## Recall the halting set\n",
    "\n",
    "Recall the halting set $K = \\{e: \\varphi_e(e)\\downarrow\\}$.\n",
    "\n",
    "Last time we went over the argument that $K$ is not computable. \n",
    "\n",
    "Hence we know at least one example of a set which is not computable.\n",
    "\n",
    "Today we look at other examples. "
   ]
  },
  {
   "cell_type": "markdown",
   "id": "15921d80",
   "metadata": {
    "slideshow": {
     "slide_type": "slide"
    }
   },
   "source": [
    "## Non-computability in truth and theories"
   ]
  },
  {
   "cell_type": "markdown",
   "id": "9086b16b",
   "metadata": {
    "slideshow": {
     "slide_type": "slide"
    }
   },
   "source": [
    "### Kleene's characterization of computability in terms of definability\n",
    "\n",
    "Kleene showed that a set of natural numbers is computable iff both\n",
    "\n",
    "1. it has a definition in terms of a single unbounded existential quantifier over natural numbers, a so-called $\\Sigma_1$-definition.\n",
    "\n",
    "2. it has a definition in terms of single unbounded universal quantifier over natural numbers, a so-called $\\Pi_1$-definition.\n",
    "\n",
    "For a proof see e.g. {cite}`Soare2016-yz` p. 26, {cite}`Sipser2012-jg` p. 209."
   ]
  },
  {
   "cell_type": "markdown",
   "id": "e106385d",
   "metadata": {
    "slideshow": {
     "slide_type": "slide"
    }
   },
   "source": [
    "This is the logician's preferred characterization of computability. You can use it to show that e.g. the set of primes is computable, since it has a definition only in terms of bounded quantifiers:\n",
    "\n",
    "Primes $=\\{n : \\; n\\geq 1 \\wedge \\forall \\; 1<m\\leq n \\; \\forall \\; 1<\\ell<n \\; n\\neq m\\cdot \\ell\\}$\n",
    "\n",
    "You are allowed to use addition, multiplication, exponentiation, and less-than in the definition, and any bounded quantifiers (like the one in the example) and all of propositional logic (and, or, negation, if then). \n",
    "\n",
    "See e.g. {cite}`Soare2016-yz` pp. 80 ff \"quantifier manipulation.\""
   ]
  },
  {
   "cell_type": "markdown",
   "id": "de3b7d57",
   "metadata": {
    "slideshow": {
     "slide_type": "slide"
    }
   },
   "source": [
    "### Tarski's Theorem on Truth\n",
    "\n",
    "Tarski considered the following set of formulas in the language of arithmetic:\n",
    "\n",
    "$\\{\\varphi: \\varphi$  is true of the natural numbers $\\}$\n",
    "\n",
    "He used the liar paradox to show that this set was not definable in the natural numbers.\n",
    "\n",
    "Hence, by Kleene's result, it is not computable.\n",
    "\n",
    "It is beyond the very top of our map, it is \"non-arithmetical\", where this means \"not definable in first-order arithmetic.\"\n",
    "\n",
    "See e.g. {cite}`Shoenfield2018-pr` and {cite}`Rautenberg2010-bm`."
   ]
  },
  {
   "cell_type": "markdown",
   "id": "6fca4bd2",
   "metadata": {
    "slideshow": {
     "slide_type": "slide"
    }
   },
   "source": [
    "### Gödel's First Incompleteness Theorem\n",
    "\n",
    "Suppose a theory $T$ contains basic axioms for the arithmetic of addition and multiplication and is deductively consistent, that is, it does not prove a contradiction.\n",
    "\n",
    "If $T$ is computable, \n",
    "\n",
    "then $T$ is deductively incomplete, that is, there is a formula $\\varphi$ such that $T$ doesn't prove $\\varphi$ and $T$ doesn't prove $\\neg \\varphi$. \n",
    "\n",
    "See e.g. {cite}`Shoenfield2018-pr` and {cite}`Rautenberg2010-bm`."
   ]
  },
  {
   "cell_type": "markdown",
   "id": "8c6b4e44",
   "metadata": {
    "slideshow": {
     "slide_type": "slide"
    }
   },
   "source": [
    "### Gödel's First Incompleteness Theorem (expressed contrapositively)\n",
    "\n",
    "Suppose a theory $T$ contains basic axioms for the arithmetic of addition and multiplication and is deductively consistent, that is, it does not prove a contradiction.\n",
    "\n",
    "If $T$ is deductively complete, that is, for all formulas $\\varphi$ either $T$ proves $\\varphi$ or $T$ proves $\\neg \\varphi$, \n",
    "\n",
    "then $T$ is not computable."
   ]
  },
  {
   "cell_type": "markdown",
   "id": "90c8aa6f",
   "metadata": {
    "slideshow": {
     "slide_type": "slide"
    }
   },
   "source": [
    "### Completions of PA and ZF(C) are not computable\n",
    "\n",
    "The usual axioms for arithemtic are called PA, for 'Peano axioms.'\n",
    "\n",
    "The usual axioms for set theory are called ZF(C), for 'Zermelo-Fraenkel set theory (with Choice)'.\n",
    "\n",
    "For all we know, these are deductively consistent. \n",
    "\n",
    "Choose any *completion* of them, i.e. any way of filling them out so that they 'make calls' on all formulas. \n",
    "\n",
    "By Gödel's First Theorem, this is not computable.\n",
    "\n",
    "In a word: completions of PA and ZF(C) are not computable.\n",
    "\n",
    "See \"PA degrees\"  in {cite}`Soare2016-yz` Chapter 10, pp. 80 ff. "
   ]
  },
  {
   "cell_type": "markdown",
   "id": "0a5e90dd",
   "metadata": {
    "slideshow": {
     "slide_type": "slide"
    }
   },
   "source": [
    "### Comparing Tarski and Gödel's Theorems\n",
    "\n",
    "Tarski's theorem concerned one particular completion of PA, the 'real one' which is true of the natural numbers.\n",
    "\n",
    "Gödel's theorem concerns any completion of PA, regardless of whether it is true of the natural numbers.\n",
    "\n",
    "Tarski's set $\\{\\varphi: \\varphi $ is true of the natural numbers $\\}$ is not arithmetically definable. \n",
    "\n",
    "There are completions of PA which are $\\Delta_2$-definable, i.e. definable in both a $\\Sigma_2$ and $\\Pi_2$-way."
   ]
  },
  {
   "cell_type": "markdown",
   "id": "517d21f5",
   "metadata": {
    "slideshow": {
     "slide_type": "slide"
    }
   },
   "source": [
    "### Finding Gödel's Theorem in mathematical nature\n",
    "\n",
    "One can use the methods of Gödel's Theorem to find analogous phenomena in mathematical nature, such as the following (in 1 we repeat Gödel's Theorem in the desired format):\n",
    "\n",
    "1. There are computable theories which do not have computable completions.\n",
    "\n",
    "2. There are computable subtrees of the infinite binary branching tree without a computable path. \n",
    "\n",
    "3. There are computable continuous functions on the unit interval without a computable supremum. \n",
    "\n",
    "4. There are computable commutative rings without a computable prime ideal. \n",
    "\n",
    "5. There are computable uniformly continuous functions from the unit interval to itself without a computable fixed point. \n",
    "\n",
    "These and many other results are documented in the $WKL_0$ chapter of {cite}`Simpson2009-ra`"
   ]
  },
  {
   "cell_type": "markdown",
   "id": "32b442f7",
   "metadata": {
    "vscode": {
     "languageId": "plaintext"
    }
   },
   "source": [
    "## Non-computability and randomness"
   ]
  },
  {
   "cell_type": "markdown",
   "id": "17c72683",
   "metadata": {
    "slideshow": {
     "slide_type": "slide"
    }
   },
   "source": [
    "### Characteristic functions\n",
    "\n",
    "Given a set $A$ of natural numbers $\\mathbb{N}$, one can form its characteristic function \n",
    "\n",
    "$$\n",
    "\\omega(n) = \\begin{cases}\n",
    "    1 & \\text{if } n\\in A \\\\ \n",
    "    0 & \\text{otherwise.}\n",
    "\\end{cases}\n",
    "$$\n",
    "\n",
    "And given a function $\\omega^{\\prime}:\\mathbb{N}\\rightarrow \\{0,1\\}$ one can form the associated set\n",
    "\n",
    "$$A^{\\prime}=\\{n : \\omega^{\\prime}(n)=1\\}$$\n",
    "\n",
    "Hence, sets of natural numbers can be viewed as functions from natural numbres to $0,1$.\n",
    "\n",
    "This is really just a reformatting."
   ]
  },
  {
   "cell_type": "markdown",
   "id": "9c2d3e6a",
   "metadata": {
    "slideshow": {
     "slide_type": "slide"
    }
   },
   "source": [
    "### Viewing the subsets of natural numbers as points in a space\n",
    "\n",
    "One way to visualize sets of natural numbers is as paths through the infinte binary branching tree.\n",
    "\n",
    "This is called Cantor space (draw the picture). \n",
    "\n",
    "There is a natural topology on it, where distance between two paths is given by measuring their least point of disagreement. The basic opens are just the paths through a given finite string, e.g. $[\\sigma] = \\{\\omega: \\forall \\; i<\\left|\\sigma\\right| \\; \\omega(i)=\\sigma(i)\\}$.\n",
    "\n",
    "There is a natural probability measure on it, where $P([\\sigma]) = 2^{-\\left|\\sigma\\right|}$.\n",
    "\n",
    "One can generate non-computable sets by focusing on effective topology (genericity) or effective probability (randomness). In the interests of space, we focus on the latter."
   ]
  },
  {
   "cell_type": "markdown",
   "id": "ba3d8d79",
   "metadata": {
    "slideshow": {
     "slide_type": "slide"
    }
   },
   "source": [
    "### Randomness\n",
    "\n",
    "A *c.e. open* $U$ is a subset of Cantor space of the form $U=\\bigcup_i [\\sigma_i]$, where $\\sigma_0, \\sigma_1, \\ldots$ is a computable sequence of strings.\n",
    "\n",
    "A *Martin-L\\\"of test* is a computable sequence of c.e. opens $U_0, U_1, \\ldots$ such that $P(U_i)\\leq 2^{-i}$. \n",
    "\n",
    "Note that $P(\\bigcap_i U_i)=0$. \n",
    "\n",
    "A point $\\omega$ is *Martin-L\\\"of random* if $\\omega$ not in $\\bigcap_i U_i$ for any c.e. open.\n",
    "\n",
    "See {cite}`Downey2010-jj` and {cite}`Nies2012-rp`"
   ]
  },
  {
   "cell_type": "markdown",
   "id": "af683b11",
   "metadata": {
    "slideshow": {
     "slide_type": "slide"
    }
   },
   "source": [
    "### Randomness and where it occurs\n",
    "\n",
    "Intuitively, a point is Martin-L\\\"of random if it escapes all effective probability zero sets. That is, it is not both effectively and probabilistically impossible.\n",
    "\n",
    "Computable points are not random since one can choose $U_i=[\\omega\\upharpoonright i]$, where this refers to the initial segment of $\\omega$ of length $i$.\n",
    "\n",
    "For a long time, it was not understood where exactly the random points occur on the map to the left. In the 1980s, this was resolved by Kučera−Gács, who showed that they are unbounded as you go up (although it might be up on the $\\Sigma$ side or up on the $\\Pi$ side). See {cite}`Downey2010-jj` Theorem 6.3.10 p. 239."
   ]
  },
  {
   "cell_type": "markdown",
   "id": "2c9d0ac1",
   "metadata": {
    "slideshow": {
     "slide_type": "slide"
    }
   },
   "source": [
    "### Randomness and initial segment complexity\n",
    "\n",
    "In the 1970s, Levin-Schnorr showed that initial segments of Martin-L\\\"of randoms were complex in the sense of Kolmogorov, that is, their initial segments do not effectively have short descriptions. See {cite}`Downey2010-jj` Theorem 8.3.2 p. 326.\n",
    "\n",
    "E.g. why is $010101010101\\ldots$ not random? Because its initial segments have a short description: 'repeat 0 and 1', which is short because it takes like less than 20 characters."
   ]
  },
  {
   "cell_type": "markdown",
   "id": "59647a50",
   "metadata": {
    "slideshow": {
     "slide_type": "slide"
    }
   },
   "source": [
    "## What we are doing when we are studying non-computability"
   ]
  },
  {
   "cell_type": "markdown",
   "id": "8609647a",
   "metadata": {
    "slideshow": {
     "slide_type": "slide"
    }
   },
   "source": [
    "### Puzzle, version 1\n",
    "\n",
    "The following proposal seems plausible: computability is an epistemic constraint on human agents. The intended import is something like the following: the only sets that we can know about are computable, the only theories that we can grasp are computable, the only rings and continuous functions which we can work with are computable.\n",
    "\n",
    "(Caveat: contemporary epistemology studies what propositions one knows, not what sets one knows. But perhaps we might say that to know a set is to be in a position to know, of a given number when presented with it, whether it is in the set or not in the set).\n",
    "\n",
    "The puzzle: if you agree with the proposal, isn't the study of non-computable sets *not* the kind of inquiry that results in knowledge? Hence, what do you think that you're doing when you are thinking about non-computable sets?"
   ]
  },
  {
   "cell_type": "markdown",
   "id": "b51c1231",
   "metadata": {
    "slideshow": {
     "slide_type": "slide"
    }
   },
   "source": [
    "### Puzzle, version 2\n",
    "\n",
    "The following proposal seems plausible: physical computers can only compute sets of natural numbers which are computable. Indeed, something stronger is most likely true: physical computers can only compute sets of natural numbers which are feasibly computable.\n",
    "\n",
    "The puzzle: if you agree with the proposal, then why study non-computable sets at all, since there is no hope of actually implementing them on devices we actually use?"
   ]
  },
  {
   "cell_type": "markdown",
   "id": "882840f4",
   "metadata": {
    "slideshow": {
     "slide_type": "slide"
    }
   },
   "source": [
    "### Response 1: degrees of difficulty\n",
    "\n",
    "Humans are interested in problems and how to solve them. Some problems are harder than others. One way to measure degree of difficulty is  by showing that a method of solving one problem leads to a method for solving the other problem. You can understand the degree of diffulcty of a problem without being able to solve that problem yourself.\n",
    "\n",
    "Kolmogorov {cite}`Kolmogorov1932aa` {cite}`Kolmogorov1998aa` thought that this was what mathematical assertions were: claims about relative degrees of difficulty of solving mathematical problems. This is the basis of his problem interpretation of intuitionistic logic. E.g. he thinks $p\\rightarrow q$ means that one has a method by which to go from any method for solving problem $p$ to a method for solving problem $q$.\n",
    "\n",
    "Hence what you are doing in studying non-computability is just studying the *computational* degree of difficulty of a problem. See {cite}`Dean2015-du`, {cite}`Dean2024-pg` Section 3.5 and {cite}`Simpson2015-sq`."
   ]
  },
  {
   "cell_type": "markdown",
   "id": "6320059c",
   "metadata": {
    "slideshow": {
     "slide_type": "slide"
    }
   },
   "source": [
    "### Response 2: counterpossibles\n",
    "\n",
    "Consider: \n",
    "\n",
    "1. If New York City was in California, then New York City would be the biggest city in California.\n",
    "\n",
    "2. If 3+5 was 9 then 3+6 would be 10\n",
    "\n",
    "The antecedent of 2 is somehow much more impossible than the antecedent of 1. The received view is that the second is true but only vaucously so. A minority view is that both are equallly intelligble. See {cite}`Kocurek2021-oc` for an overview.\n"
   ]
  },
  {
   "cell_type": "markdown",
   "id": "5dc0acda",
   "metadata": {
    "slideshow": {
     "slide_type": "slide"
    }
   },
   "source": [
    "\n",
    "Jenny {cite}`Jenny2018-xh` suggests that there is parity between these two examples and the following two examples:\n",
    "\n",
    "1'. If the set of even numbers was computable, then the set of odd numbers would be computable. \n",
    "\n",
    "2'. If the halting set was computable, then some completion of PA would be computable.\n",
    "\n",
    "The antecedent of 1' is true and the antecedent of 2' is false. Jenny thinks that the map is essentially the study of things like 2'. He views the theory of computation as a science dealing in counterpossibles and hence as a way to make the minority view more intelligble. \n",
    "\n"
   ]
  },
  {
   "cell_type": "markdown",
   "id": "bda11191",
   "metadata": {
    "slideshow": {
     "slide_type": "slide"
    }
   },
   "source": [
    "### Response 3: agent meets nature\n",
    "\n",
    "A third response is that one can study the relation between the computable agents and the possibly non-computable sets in nature that they are encountering. \n",
    "\n",
    "This is the perspective of {cite}`Huttegger2024-zb`. The agent has a computable random variable and a computable probability assignment, but they are updating on a Martin-Löf random data stream.\n",
    "\n",
    "Maybe there is some dim analogue of this Gödel-like examples above: as an agent you are working with a computable commutative ring, and for various purposes you have to consult some external object like a prime ideal.\n"
   ]
  },
  {
   "cell_type": "markdown",
   "id": "7e41b06f",
   "metadata": {},
   "source": []
  }
 ],
 "metadata": {
  "celltoolbar": "Slideshow",
  "kernelspec": {
   "display_name": "Python 3 (ipykernel)",
   "language": "python",
   "name": "python3"
  },
  "language_info": {
   "codemirror_mode": {
    "name": "ipython",
    "version": 3
   },
   "file_extension": ".py",
   "mimetype": "text/x-python",
   "name": "python",
   "nbconvert_exporter": "python",
   "pygments_lexer": "ipython3",
   "version": "3.11.5"
  }
 },
 "nbformat": 4,
 "nbformat_minor": 5
}
