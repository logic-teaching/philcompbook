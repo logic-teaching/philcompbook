{
 "cells": [
  {
   "cell_type": "markdown",
   "id": "af8ad447",
   "metadata": {
    "slideshow": {
     "slide_type": "slide"
    }
   },
   "source": [
    "# Chapter 1\n",
    "\n",
    "We survey the precursors to the notion of computation in the 1920s. The primary formal notion is that of primitive recursion. It was articulated formally by Skolem in 1923, and we discuss the motivations for his definition. At first approximation, the notion is: a function is effective in this sense if its evaluation procedure for step $m>0$ is derived from step $m-1$ by recourse to functions already known to be effective. "
   ]
  },
  {
   "cell_type": "markdown",
   "id": "5a6e0f61",
   "metadata": {
    "slideshow": {
     "slide_type": "slide"
    }
   },
   "source": [
    "## Primitive recursion idea and examples"
   ]
  },
  {
   "cell_type": "markdown",
   "id": "23e0e072",
   "metadata": {
    "slideshow": {
     "slide_type": "slide"
    }
   },
   "source": [
    "### Definition (primitive recursion)\n",
    "\n",
    "Define a function $f$ on natural numbers by specifying\n",
    "\n",
    "*Base*: how it is defined on input $m=0$\n",
    "\n",
    "*Iterator*: how it is defined on $m>0$ in terms of how it is defined on the previous step $m-1$.\n",
    "\n",
    "To figure out the value of e.g. $f(3)$, write it in terms of $f(2)$ and the iterator; then write $f(2)$ in terms of $f(1)$ and the iterator; then write $f(1)$ in terms of $f(0)$ and the iterator; then use base to figure out $f(0)$."
   ]
  },
  {
   "cell_type": "markdown",
   "id": "20f0ca0b",
   "metadata": {
    "slideshow": {
     "slide_type": "slide"
    }
   },
   "source": [
    "### Example (addition)\n",
    "\n",
    "$$\n",
    "n+m = \\begin{cases}\n",
    "    n & \\text{if } m = 0 \\\\ \n",
    "   (n+(m-1))+1 & \\text{if } m>0\n",
    "\\end{cases}\n",
    "$$\n",
    "\n",
    "\n",
    "To figure out the value of $5+2$, we proceed as follows:\n",
    "\n",
    "$5+2 = (5+1)+1 =(5+0)+1+1 = 5+1+1 =6+1=7$"
   ]
  },
  {
   "cell_type": "code",
   "execution_count": 1,
   "id": "e68a7cca",
   "metadata": {
    "slideshow": {
     "slide_type": "slide"
    },
    "tags": []
   },
   "outputs": [
    {
     "data": {
      "text/plain": [
       "7"
      ]
     },
     "execution_count": 1,
     "metadata": {},
     "output_type": "execute_result"
    }
   ],
   "source": [
    "# here is a python implementation \n",
    "\n",
    "def add(n,m):\n",
    "    if m ==0:\n",
    "        return n\n",
    "    return add(n,m-1)+1\n",
    "\n",
    "add(5,2)"
   ]
  },
  {
   "cell_type": "markdown",
   "id": "0ce50b30",
   "metadata": {},
   "source": [
    "### Visualizing with Python tutor"
   ]
  },
  {
   "cell_type": "markdown",
   "id": "482bd394",
   "metadata": {},
   "source": [
    "[Python tutor](https://pythontutor.com) allows one to 'step through' very simple programs. For our purposes, it illustrates that the way that a modern programming language like python implements primitive recursion is similar to our intuitive procedure described above for implementing it."
   ]
  },
  {
   "cell_type": "code",
   "execution_count": 2,
   "id": "a65c4acd",
   "metadata": {
    "slideshow": {
     "slide_type": "slide"
    },
    "tags": [
     "hide-cell"
    ]
   },
   "outputs": [],
   "source": [
    "# this calls up python tutor (https://pythontutor.com), \n",
    "# which for very simple programs steps one through the computation\n",
    "\n",
    "from metakernel import register_ipython_magics\n",
    "register_ipython_magics()"
   ]
  },
  {
   "cell_type": "code",
   "execution_count": 3,
   "id": "1675ee45",
   "metadata": {
    "slideshow": {
     "slide_type": "slide"
    },
    "tags": [
     "hide-input"
    ]
   },
   "outputs": [
    {
     "data": {
      "text/html": [
       "\n",
       "        <iframe\n",
       "            width=\"100%\"\n",
       "            height=\"500\"\n",
       "            src=\"https://pythontutor.com/iframe-embed.html#code=%0Adef%20add%28n%2Cm%29%3A%0A%20%20%20%20if%20m%20%3D%3D0%3A%0A%20%20%20%20%20%20%20%20return%20n%0A%20%20%20%20return%20add%28n%2Cm-1%29%2B1%0A%0Aadd%285%2C2%29%0A&origin=opt-frontend.js&cumulative=false&heapPrimitives=false&textReferences=false&py=3&rawInputLstJSON=%5B%5D&curInstr=0&codeDivWidth=350&codeDivHeight=400\"\n",
       "            frameborder=\"0\"\n",
       "            allowfullscreen\n",
       "            \n",
       "        ></iframe>\n",
       "        "
      ],
      "text/plain": [
       "<IPython.lib.display.IFrame at 0x104c5fa50>"
      ]
     },
     "metadata": {},
     "output_type": "display_data"
    }
   ],
   "source": [
    "%%tutor\n",
    "\n",
    "def add(n,m):\n",
    "    if m ==0:\n",
    "        return n\n",
    "    return add(n,m-1)+1\n",
    "\n",
    "add(5,2)"
   ]
  },
  {
   "cell_type": "markdown",
   "id": "66cca3a6",
   "metadata": {
    "slideshow": {
     "slide_type": "slide"
    }
   },
   "source": [
    "### Example (multiplication)\n",
    "\n",
    "$$\n",
    "n*m = \\begin{cases}\n",
    "    0 & \\text{if } m = 0 \\\\ \n",
    "    n*(m-1)+n & \\text{if } m>0\n",
    "\\end{cases}\n",
    "$$\n",
    "\n",
    "In particular, we have:\n",
    "\n",
    "$5*2 = 5*1+5 = 5*0+5+5=5+5=10$"
   ]
  },
  {
   "cell_type": "code",
   "execution_count": 4,
   "id": "3c632718",
   "metadata": {
    "slideshow": {
     "slide_type": "slide"
    },
    "tags": []
   },
   "outputs": [
    {
     "data": {
      "text/html": [
       "\n",
       "        <iframe\n",
       "            width=\"100%\"\n",
       "            height=\"500\"\n",
       "            src=\"https://pythontutor.com/iframe-embed.html#code=%0Adef%20mult%28n%2Cm%29%3A%0A%20%20%20%20if%20m%20%3D%3D0%3A%0A%20%20%20%20%20%20%20%20return%200%0A%20%20%20%20return%20mult%28n%2Cm-1%29%2Bn%0A%0Amult%285%2C2%29%0A&origin=opt-frontend.js&cumulative=false&heapPrimitives=false&textReferences=false&py=3&rawInputLstJSON=%5B%5D&curInstr=0&codeDivWidth=350&codeDivHeight=400\"\n",
       "            frameborder=\"0\"\n",
       "            allowfullscreen\n",
       "            \n",
       "        ></iframe>\n",
       "        "
      ],
      "text/plain": [
       "<IPython.lib.display.IFrame at 0x104a7da90>"
      ]
     },
     "metadata": {},
     "output_type": "display_data"
    }
   ],
   "source": [
    "%%tutor\n",
    "\n",
    "def mult(n,m):\n",
    "    if m ==0:\n",
    "        return 0\n",
    "    return mult(n,m-1)+n\n",
    "\n",
    "mult(5,2)"
   ]
  },
  {
   "cell_type": "markdown",
   "id": "f00793d5",
   "metadata": {
    "slideshow": {
     "slide_type": "slide"
    }
   },
   "source": [
    "Below is a version where we appeal explicitly to our prior definition of addition instead of the built in version of addition. However, if one looks at it with the python tutor, it takes longer (about 63 steps)."
   ]
  },
  {
   "cell_type": "code",
   "execution_count": 5,
   "id": "ae3957ab",
   "metadata": {},
   "outputs": [
    {
     "data": {
      "text/html": [
       "\n",
       "        <iframe\n",
       "            width=\"100%\"\n",
       "            height=\"500\"\n",
       "            src=\"https://pythontutor.com/iframe-embed.html#code=%0Adef%20add%28n%2Cm%29%3A%0A%20%20%20%20if%20m%20%3D%3D0%3A%0A%20%20%20%20%20%20%20%20return%20n%0A%20%20%20%20return%20add%28n%2Cm-1%29%2B1%0A%0Adef%20mult%28n%2Cm%29%3A%0A%20%20%20%20if%20m%20%3D%3D0%3A%0A%20%20%20%20%20%20%20%20return%200%0A%20%20%20%20return%20add%28mult%28n%2Cm-1%29%2Cn%29%0A%0Amult%285%2C2%29%0A&origin=opt-frontend.js&cumulative=false&heapPrimitives=false&textReferences=false&py=3&rawInputLstJSON=%5B%5D&curInstr=0&codeDivWidth=350&codeDivHeight=400\"\n",
       "            frameborder=\"0\"\n",
       "            allowfullscreen\n",
       "            \n",
       "        ></iframe>\n",
       "        "
      ],
      "text/plain": [
       "<IPython.lib.display.IFrame at 0x104a7da90>"
      ]
     },
     "metadata": {},
     "output_type": "display_data"
    }
   ],
   "source": [
    "%%tutor\n",
    "\n",
    "def add(n,m):\n",
    "    if m ==0:\n",
    "        return n\n",
    "    return add(n,m-1)+1\n",
    "\n",
    "def mult(n,m):\n",
    "    if m ==0:\n",
    "        return 0\n",
    "    return add(mult(n,m-1),n)\n",
    "\n",
    "mult(5,2)"
   ]
  },
  {
   "cell_type": "markdown",
   "id": "d3f3946f",
   "metadata": {
    "slideshow": {
     "slide_type": "slide"
    }
   },
   "source": [
    "## Primitive recursion on strings\n",
    "\n",
    "In many cases, it is more natural to compute on strings of symbols than on numbers. \n",
    "\n",
    "E.g. we could compute on strings from the latin alphabet $a, b, \\ldots, z$."
   ]
  },
  {
   "cell_type": "markdown",
   "id": "cffb3b03",
   "metadata": {
    "slideshow": {
     "slide_type": "slide"
    }
   },
   "source": [
    "### Definition (primitive recursion on strings)\n",
    "\n",
    "Define a function $f$ on strings by specifying\n",
    "\n",
    "*Base*: how it is defined on the the length zero string $\\epsilon$\n",
    "\n",
    "*Iterator*: how it is defined on length $m>0$ strings in terms of how it is defined on length $m-1$ strings and on the last entry.\n",
    "\n",
    "To figure out the value of e.g. $f(aba)$, use iterator to compute it in terms of $f(ab)$ and last entry $a$; then use iterator to compute $f(ab)$ in terms of $f(a)$ and last entry $b$; then compute $f(\\epsilon)$.\n",
    "\n",
    "In this case, the iterator needs to tell you how to act when the last entry is $a$, how to act when it is $b$, etc. \n"
   ]
  },
  {
   "cell_type": "markdown",
   "id": "0e1b77bd",
   "metadata": {
    "slideshow": {
     "slide_type": "slide"
    }
   },
   "source": [
    "### Example (flipping a's to b's)\n",
    "\n",
    "Define \n",
    "\n",
    "\n",
    "$$\n",
    "\\mathrm{flip}(\\sigma) = \\begin{cases}\n",
    "    \\epsilon & \\text{if $\\sigma$ is length zero string $\\epsilon$} \\\\ \n",
    "    \\mathrm{flip}(\\tau) b & \\text{if  $\\sigma = \\tau a$} \\\\\n",
    "    \\mathrm{flip}(\\tau) a & \\text{if $\\sigma = \\tau b$}\n",
    "\\end{cases}\n",
    "$$\n",
    "\n",
    "In particular, where $\\cdot^{\\ast}$ changes $a$ to $b$ and vice-versa:\n",
    "\n",
    "$\\mathrm{flip}(aba) = \\mathrm{flip}(ab)a^{\\ast} = \\mathrm{flip}(a)b^{\\ast}a^{\\ast} = a^{\\ast} b^{\\ast} a^{\\ast} = b b^{\\ast} a^{\\ast}= baa^{\\ast} =bab$"
   ]
  },
  {
   "cell_type": "code",
   "execution_count": 6,
   "id": "fbc52d3c",
   "metadata": {
    "slideshow": {
     "slide_type": "slide"
    }
   },
   "outputs": [
    {
     "data": {
      "text/html": [
       "\n",
       "        <iframe\n",
       "            width=\"100%\"\n",
       "            height=\"500\"\n",
       "            src=\"https://pythontutor.com/iframe-embed.html#code=%0A%23%20a%20simple%20python%20program%20for%20flipping%20a%27s%20to%20b%27s%0A%23%20and%20vice%20versa%20in%20a%20string%20of%20a%27s%20and%20b%27s.%0A%0Adef%20flip%28str%29%3A%0A%20%20%20%20if%20str%20%3D%3D%27%27%3A%0A%20%20%20%20%20%20%20%20return%20%27%27%0A%20%20%20%20if%20str%5B-1%5D%20%3D%3D%20%27a%27%3A%0A%20%20%20%20%20%20%20%20return%20flip%28str%5B%3A-1%5D%29%2B%27b%27%0A%20%20%20%20if%20str%5B-1%5D%20%3D%3D%20%27b%27%3A%0A%20%20%20%20%20%20%20%20return%20flip%28str%5B%3A-1%5D%29%2B%27a%27%20%20%20%20%0Aflip%28%27aba%27%29%0A&origin=opt-frontend.js&cumulative=false&heapPrimitives=false&textReferences=false&py=3&rawInputLstJSON=%5B%5D&curInstr=0&codeDivWidth=350&codeDivHeight=400\"\n",
       "            frameborder=\"0\"\n",
       "            allowfullscreen\n",
       "            \n",
       "        ></iframe>\n",
       "        "
      ],
      "text/plain": [
       "<IPython.lib.display.IFrame at 0x104a7da90>"
      ]
     },
     "metadata": {},
     "output_type": "display_data"
    }
   ],
   "source": [
    "%%tutor\n",
    "\n",
    "# a simple python program for flipping a's to b's\n",
    "# and vice versa in a string of a's and b's.\n",
    "\n",
    "def flip(str):\n",
    "    if str =='':\n",
    "        return ''\n",
    "    if str[-1] == 'a':\n",
    "        return flip(str[:-1])+'b'\n",
    "    if str[-1] == 'b':\n",
    "        return flip(str[:-1])+'a'    \n",
    "flip('aba')"
   ]
  },
  {
   "cell_type": "markdown",
   "id": "0fdb3a39",
   "metadata": {
    "slideshow": {
     "slide_type": "slide"
    }
   },
   "source": [
    "## Primitive recursion formal definition\n",
    "\n",
    "Since it is in keeping with the historical record, we'll present the formal definition in terms of computation on numbers rather than strings. "
   ]
  },
  {
   "cell_type": "markdown",
   "id": "6c882c8c-54f0-4c14-a5d5-0cc6d7b7dbaf",
   "metadata": {
    "slideshow": {
     "slide_type": "slide"
    }
   },
   "source": [
    "\n",
    "### Definition (definition by primitive recursion, binary functions)\n",
    "\n",
    "Suppose a *base function* $B:\\mathbb{N}\\rightarrow \\mathbb{N}$ and an *iterator function* $I:\\mathbb{N}^{3}\\rightarrow \\mathbb{N}$ are given. Then the function $f:\\mathbb{N}^{2}\\rightarrow \\mathbb{N}$ defined by *primitive recursion* from this base and iterator is the function which satisfies the following, for all $n,m$:\n",
    "\n",
    "$$\n",
    "f(n,m) = \\begin{cases}\n",
    "    B(n) & \\text{if } m = 0 \\\\ \n",
    "   I(n,m-1,f(n,m-1)) & \\text{if } m>0\n",
    "\\end{cases}\n",
    "$$\n",
    "\n",
    "\n",
    "One can similarly define unary, ternary functions by primitive recursion."
   ]
  },
  {
   "cell_type": "markdown",
   "id": "fd3f431a",
   "metadata": {
    "slideshow": {
     "slide_type": "slide"
    }
   },
   "source": [
    "### Example (addition redeux)\n",
    "\n",
    "We must find functions $B$ and $I$ such that\n",
    "\n",
    "$$\n",
    "n+m = \\begin{cases}\n",
    "    B(n) & \\text{if } m = 0 \\\\ \n",
    "   I(n,m-1,n+(m-1)) & \\text{if } m>0\n",
    "\\end{cases}\n",
    "$$\n",
    "\n",
    "\n",
    "But just choose $B(n)=n$ and $I(n,m,\\ell)=\\ell+1$. \n",
    "\n",
    "Then we check:\n",
    "\n",
    "$n+0 =n= B(n)$\n",
    "\n",
    "$n+m = n+(m-1)+1 = I(n,m-1,n+(m-1))$."
   ]
  },
  {
   "cell_type": "markdown",
   "id": "494c7e64",
   "metadata": {
    "slideshow": {
     "slide_type": "slide"
    }
   },
   "source": [
    "### Example (multiplication redeux)\n",
    "\n",
    "We must find functions $B$ and $I$ such that\n",
    "\n",
    "$$\n",
    "n*m = \\begin{cases}\n",
    "    B(n) & \\text{if } m = 0 \\\\ \n",
    "   I(n,m-1,n*(m-1)) & \\text{if } m>0\n",
    "\\end{cases}\n",
    "$$\n",
    "\n",
    "But just choose $B(n)=0$ and $I(n,m,\\ell)=\\ell+n$. \n",
    "\n",
    "Then we check:\n",
    "\n",
    "$n*0 =0= B(n)$\n",
    "\n",
    "$n*m = n*(m-1)+n = I(n,m-1,n\\ast(m-1))$."
   ]
  },
  {
   "cell_type": "markdown",
   "id": "63a96c0b",
   "metadata": {
    "slideshow": {
     "slide_type": "slide"
    }
   },
   "source": [
    "### Definition (primitive recursive functions)\n",
    "\n",
    "The *primitive recursive functions* on natural numbers are defined as follows:\n",
    "\n",
    "- The identity function and constant functions and successor function $S(n)=n+1$ are primitive recursive. Further, the projection functions e.g. $f(n,m)=m$ and $g(n,m)=n$ are primitive recursive.\n",
    "\n",
    "- The composition of primitive recursive functions is primitive recursive. That is, the result of putting primitive recursive functions into the inputs of other primitive recursive functions is primitive recursive. E.g. $f(x,y)=g(h(x,y), k(y))$ is primitive recursive if $g,h,k$ are primitive recursive.\n",
    "\n",
    "- If the base function and the iterator function are primitive recursive, then the function defined from primitive recursion by this base and iterator is also primitive recursive.\n",
    "\n",
    "- Nothing else is a primitive recursive function.\n",
    "\n",
    "In other words: primitive recursive functions are closure of successor and projection and identity under composition and definition by primitive recursion. "
   ]
  },
  {
   "cell_type": "markdown",
   "id": "fc3327ff",
   "metadata": {
    "slideshow": {
     "slide_type": "slide"
    }
   },
   "source": [
    "## The map"
   ]
  },
  {
   "cell_type": "markdown",
   "id": "87e5b6a5",
   "metadata": {
    "slideshow": {
     "slide_type": "slide"
    }
   },
   "source": [
    "We're going to be looking at a number of different notions of computation in this course. \n",
    "\n",
    "There are two maps we will use to orientate ourselves.\n",
    "\n",
    "The come from {cite}`Soare2016-yz` p. 104 and the cover of {cite}`Immerman2012-em`"
   ]
  },
  {
   "cell_type": "markdown",
   "id": "afc3de16",
   "metadata": {
    "slideshow": {
     "slide_type": "slide"
    }
   },
   "source": [
    "This is the basic map, and [see here](img/map-handout.pdf) for a standalone version of it:\n",
    "\n",
    "![The map](img/map.png)\n",
    "\n",
    "The map on left is of non-computable sets of numbers. The bottom is the computable or recursive sets of numbers.\n",
    "\n",
    "The map on right zooms in on the computable sets of numbers and classifies them further. "
   ]
  },
  {
   "cell_type": "markdown",
   "id": "3bbe0933",
   "metadata": {
    "slideshow": {
     "slide_type": "slide"
    }
   },
   "source": [
    "This is the map with primtive recursive sets highlighted:\n",
    "\n",
    "![The map with pra highlighted](img/map-pra.png)"
   ]
  },
  {
   "cell_type": "markdown",
   "id": "04abec98",
   "metadata": {
    "slideshow": {
     "slide_type": "slide"
    }
   },
   "source": [
    "## Skolem on primitive recursive functions"
   ]
  },
  {
   "cell_type": "markdown",
   "id": "00ff5656",
   "metadata": {
    "slideshow": {
     "slide_type": "slide"
    }
   },
   "source": [
    "### Skolem on foundations\n",
    "\n",
    "The first to define the primitive recursive function was Skolem in the 1920s.\n",
    "\n",
    "Skolem was motivated by considerations in the foundations of mathematics. \n",
    "\n",
    "He thought that set theory was not a good foundation for mathematics, for reasons including the following:\n",
    "\n",
    "- There is no absolute notion of set-- it depends rather on what first-order model of set theory you are in (this is related to his epynmous paradox).\n",
    "\n",
    "- It is circular to base number on set, since to prove things about sets you will need to prove things by mathematical induction, which presupposes numbers (this point, or a version of it, was originally made by Poincaré against the early Hilbert).\n",
    "\n",
    "While set theory is widely used and applicable today, these two considerations of Skolem still resonate in modern philosophy of mathematics (see {cite}`Button2016-oa`).\n",
    "\n",
    "Our interest right now is in what Skolem thought the solution was. "
   ]
  },
  {
   "cell_type": "markdown",
   "id": "2e52f232",
   "metadata": {
    "slideshow": {
     "slide_type": "slide"
    }
   },
   "source": [
    "### Why Skolem needed to define primitive recursion\n",
    "\n",
    "Skolem was moved to try to figure out how much mathematics could be done just with concepts related to number:\n",
    "\n",
    ">If we consider the general theorems of arithmetic to be functional assertions and take the recursive mode of thought as a basis, then that science can be founded in a rigorous way without the use of [quantifiers] ({cite}`Skolem1967-pg` p. 304)\n",
    "\n",
    ">It occurred to me [in autumn of 1919] that already the use of logical variables that they call \"real\" would surely suffice to provide a foundation for a large part of mathematics ({cite}`Skolem1967-du` p. 332).\n",
    "\n",
    "Since Skolem wanted to base mathematics off of recursion, he needed to *define recursion* and then show that a whole lot of mathematics was computable. \n",
    "\n",
    "And Skolem's definition of recursion was the notion of primitive recursive function. \n",
    "\n",
    "It is not clear if Skolem is presenting this as an axiomatization or as something else."
   ]
  },
  {
   "cell_type": "markdown",
   "id": "265e3768",
   "metadata": {
    "slideshow": {
     "slide_type": "slide"
    }
   },
   "source": [
    "## The limits of primitive recursion"
   ]
  },
  {
   "cell_type": "markdown",
   "id": "ce42d173",
   "metadata": {
    "slideshow": {
     "slide_type": "slide"
    }
   },
   "source": [
    "### Definition (Ackermann function)\n",
    "\n",
    "\n",
    "In 1925 (published in {cite}`Ackermann1928-qk`), Ackermann found a function which was recursive in some sense and which was not primitive recursive. It is:\n",
    "\n",
    "$$\n",
    "\\varphi_{\\ell}(n,m) = \\begin{cases}\n",
    "    n+m & \\text{if } \\ell = 0 \\\\ \n",
    "   \\alpha(n,\\ell) & \\text{if } m=0, \\ell>0 \\\\\n",
    "   \\varphi_{\\ell-1}(n,\\varphi_{\\ell}(n,m-1)) & \\text{if } m>0, \\ell>0\n",
    "\\end{cases}\n",
    "$$\n",
    "\n",
    "Where we define:\n",
    "\n",
    "$$\n",
    "\\alpha(n,\\ell) = \\begin{cases}\n",
    "    \\ell & \\text{if } \\ell < 2 \\\\ \n",
    "    n & \\text{if } \\ell\\geq 2\n",
    "\\end{cases}\n",
    "$$\n",
    "\n",
    "A function like this was found simulatenously by Sudan (see {cite}`Calude1979-bn`)\n",
    "\n",
    "Experience suggests that this definition is hard to parse. "
   ]
  },
  {
   "cell_type": "markdown",
   "id": "2267661a",
   "metadata": {
    "slideshow": {
     "slide_type": "slide"
    }
   },
   "source": [
    "## Intuition behind the Ackermann function\n",
    "\n",
    "The Ackermann function becomes more intuitive when one realizes that it is designed so that:\n",
    "\n",
    "$\\varphi_0(n,m)= n+m$\n",
    "\n",
    "$\\varphi_1(n,m)= n*m$\n",
    "\n",
    "$\\varphi_2(n,m) = n^m$\n",
    "\n",
    "$\\varphi_3(n,m) = n^{n^{\\cdots^n}}$, with $m$-many $n$'s in the exponent.\n",
    "\n",
    "Ackermann showed that it was not primitive recursive by showing that $\\varphi(n,n,n)$ grew faster than any primitive recursive function. For a proof see{cite}`Cori2001-aw` $\\S\\S$ 5.1, 5.2.1.\n",
    "\n",
    "Unsurprisingly then, the Ackermann function is nearly impossible to compute on modern computers (see below)"
   ]
  },
  {
   "cell_type": "markdown",
   "id": "48cb5a5f",
   "metadata": {
    "slideshow": {
     "slide_type": "slide"
    }
   },
   "source": [
    "### Public comment on the Ackermann function in the 1920s\n",
    "\n",
    "At the time, the only public comment on the computability of this function was due to Ackerman's advisor Hilbert,who wrote that\n",
    "\n",
    "> To be sure, we could now define $\\varphi_{\\ell}(n,m)$ for variable $\\ell$ by means of substitutions and recursions, but these recursion would not be ordinary, stepwise ones; rather, we would be led to a manifold simulatenous recursion, that is a recursion on different variables at once, and a resolution of it into ordinary, stepwise recursions would be possible only if we make use of the notion of function variable ({cite}`Hilbert1967-ng` p. 388).\n",
    "\n",
    "From our perspective, what this shows is that the concept of recursion was in a bit of a flux in the 1920s. Primitive recursion was the paradigm they were working with, but they knew that there were functions which were recursive in some more general sense but which we were not primitive recursive."
   ]
  },
  {
   "cell_type": "code",
   "execution_count": 7,
   "id": "84f4e240",
   "metadata": {
    "slideshow": {
     "slide_type": "slide"
    }
   },
   "outputs": [
    {
     "data": {
      "text/plain": [
       "6143"
      ]
     },
     "execution_count": 7,
     "metadata": {},
     "output_type": "execute_result"
    }
   ],
   "source": [
    "# here is a python implementation of the ackermann function\n",
    "# it works for e.g. 3,2,2 but runs out of time/space for 3,3,3\n",
    "\n",
    "import sys\n",
    "sys.setrecursionlimit(10000000)\n",
    "\n",
    "def alpha(n,l):\n",
    "    if l <2:\n",
    "        return l\n",
    "    return n\n",
    "\n",
    "def phi(l,n,m):\n",
    "    if l==0:\n",
    "        return n+m\n",
    "    if m==0:\n",
    "        return alpha(n,l) \n",
    "    return phi(l-1,n, phi(l,n,m-1)) \n",
    "\n",
    "phi(3,2,2)\n"
   ]
  },
  {
   "cell_type": "markdown",
   "id": "761a3ba1",
   "metadata": {
    "slideshow": {
     "slide_type": "slide"
    }
   },
   "source": [
    "### The Ackermann function in mathematical nature\n",
    "\n",
    "The Ackermann function shows up occasionally in mathematical nature.\n",
    "\n",
    "A subset $I$ of polynomials $\\mathbb{Q}[X_1, \\ldots, X_N]$ is an *ideal* if it is closed under addition, and by multiplication by other polynomials. \n",
    "\n",
    "Hilbert showed that these are ideals are always finitely generated (the *Hilbert Basis Theorem*, which also holds when the rationals are replaced by other fields). \n",
    "\n",
    "This implies that any ascending chain of ideals $I_0 \\subseteq I_1 \\subseteq I_s\\subseteq\\cdots$ eventually stops growing, e.g. there is $s$ such that $I_t=I_s$ for all $t\\geq s$.\n",
    "\n",
    "Further, if $I_s$ is generated by polynomials of degree $\\leq s$, then all such chains stop at the same time, depending only on $N$.\n",
    "\n",
    "The problem of computing from $N$ this stopping number is not primitive recursive. Indeed, it is an Ackermann-like function. See {cite}`Socias1992-pu`.\n",
    "\n",
    "More generally, computational aspects of algebraic geometry seem are good source of computable but hard to compute functions and operations. These flow in part from the Buchberger algorithm. See {cite}`Cox1997-ak` and {cite}`Simpson1988-vn`."
   ]
  },
  {
   "cell_type": "markdown",
   "id": "574a56cc",
   "metadata": {},
   "source": []
  }
 ],
 "metadata": {
  "celltoolbar": "Slideshow",
  "kernelspec": {
   "display_name": "Python 3 (ipykernel)",
   "language": "python",
   "name": "python3"
  },
  "language_info": {
   "codemirror_mode": {
    "name": "ipython",
    "version": 3
   },
   "file_extension": ".py",
   "mimetype": "text/x-python",
   "name": "python",
   "nbconvert_exporter": "python",
   "pygments_lexer": "ipython3",
   "version": "3.11.7"
  }
 },
 "nbformat": 4,
 "nbformat_minor": 5
}