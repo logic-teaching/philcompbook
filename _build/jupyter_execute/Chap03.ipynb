{
 "cells": [
  {
   "cell_type": "markdown",
   "id": "ffe6af63",
   "metadata": {
    "slideshow": {
     "slide_type": "slide"
    }
   },
   "source": [
    "# Chapter 3\n",
    "\n",
    "We turn to Turing's 1937 notion of computation ({cite}`Turing1937-ep`), which is the received 'model' of computation still used today. In general, the idea is: a Turing machine program is a set of instructions for the bounded and local action of an idealized agent. The actions are limited to reading and writing symbols, and the actions are defined in terms of an agent's internal states. The computation of the machine is then the deterministic compliance with the instructions in response to a single piece of external stimuli."
   ]
  },
  {
   "cell_type": "markdown",
   "id": "fbbdc1bf",
   "metadata": {
    "slideshow": {
     "slide_type": "slide"
    }
   },
   "source": [
    "## Turing machines"
   ]
  },
  {
   "cell_type": "markdown",
   "id": "c31c5c36",
   "metadata": {
    "slideshow": {
     "slide_type": "slide"
    }
   },
   "source": [
    "### The components of a Turing machine\n",
    "\n",
    "The machines in question input strings and output strings that come from a finite list of symbols, say $s_1, \\ldots, s_{\\ell}$ (usually numbers or letters). "
   ]
  },
  {
   "cell_type": "markdown",
   "id": "de621bb3",
   "metadata": {
    "slideshow": {
     "slide_type": "slide"
    }
   },
   "source": [
    "\n",
    "The hardware of the Turing machine is an infinite two-way piece of tape on which the input finite string is written (the sense of \"tape\" is: \"long piece of paper\") and a machine head which sits above the tape and can read and write the contents of the cell over which it is sitting, it can move one cell to the right ($R$), or it can move one cell to the left ($L$), and it can switch its state. "
   ]
  },
  {
   "cell_type": "markdown",
   "id": "8020f371",
   "metadata": {
    "slideshow": {
     "slide_type": "slide"
    }
   },
   "source": [
    "\n",
    "The states are finite in number $q_1, \\ldots, q_k$ and used in conjunction with a program to instruct the machine how to move. "
   ]
  },
  {
   "cell_type": "markdown",
   "id": "39079f0c",
   "metadata": {
    "slideshow": {
     "slide_type": "slide"
    }
   },
   "source": [
    "### Definition (Turing machine program)\n",
    "\n",
    "A *Turing machine program* consists of a specification of an *initial state* and a *halting state* and a *finite* set of instructions for the machine head of the following form:\n",
    "\n",
    "\"If you (the machine head) are in state $q_i$ and read symbol $s_m$ on the cell of the tape below you, then write symbol $s_n$ on the cell below you, switch to state $q_j$, and move one cell to the right (or left).\""
   ]
  },
  {
   "cell_type": "markdown",
   "id": "fa3aac13",
   "metadata": {
    "slideshow": {
     "slide_type": "subslide"
    }
   },
   "source": [
    "We abbreviate such an instruction as $(q_i, s_m, s_n, q_j, d)$ where $d$ is either $R$ (for right) or $L$ (for left).\n",
    "\n",
    "As the formulation of the instruction suggests, it is *not* allowed for there to be a pair $(q_i, s_m, s_n, q_j, d)$ and $(q_i, s_m, s_{n^{\\prime}}, q_{j^{\\prime}}, d^{\\prime})$ in a given Turing machine program wherein $(s_n, q_j, d)$ is distinct from $(s_{n^{\\prime}}, q_{j^{\\prime}}, d^{\\prime})$, since this would correspond to two contrary instructions."
   ]
  },
  {
   "cell_type": "markdown",
   "id": "80f3441d",
   "metadata": {
    "slideshow": {
     "slide_type": "slide"
    }
   },
   "source": [
    "### The meaning of states\n",
    "\n",
    "The states $q_1, \\ldots, q_k$ have no intrinsic meaning, and are characterised only by the role that they play within how these finitely many practical conditionals act in concert with the hardware of the tape and machine head. \n",
    "\n",
    "Sometimes states are called \"internal states\" to indicate that it is only in the context of the internal functioning of the machine that they have significance.\n"
   ]
  },
  {
   "cell_type": "markdown",
   "id": "2acf37d6",
   "metadata": {
    "slideshow": {
     "slide_type": "slide"
    }
   },
   "source": [
    "### Turing machine program vs. Turing machine\n",
    "\n",
    "Each such program has the same hardware (the machine head and tape), and so often people just abbreviate  Turing machine program as *Turing machine*, since they take the hardware description to be already fixed, and we will slip into that usage fairly quickly. "
   ]
  },
  {
   "cell_type": "markdown",
   "id": "9b76abf9",
   "metadata": {
    "slideshow": {
     "slide_type": "slide"
    }
   },
   "source": [
    "### The list of Turing machine programs\n",
    "\n",
    "Finally, in terms of notation, $M,N$ are often used for Turing machine programs. Since each Turing machine is a finite set of instructions, there are only countably many Turing machines, and so it is also typical to see them listed as $\\varphi_0, \\varphi_1, \\varphi_2, \\ldots$ or as $\\Phi_0, \\Phi_1, \\Phi_2, \\ldots$."
   ]
  },
  {
   "cell_type": "markdown",
   "id": "cbe1233b",
   "metadata": {
    "slideshow": {
     "slide_type": "slide"
    }
   },
   "source": [
    "## Visualizing Turing machines"
   ]
  },
  {
   "cell_type": "markdown",
   "id": "28c9334b",
   "metadata": {
    "slideshow": {
     "slide_type": "slide"
    }
   },
   "source": [
    "Turing machine programs are best understood by way of example, and with visualisation. There are many helpful Turing machine visualisers. We use one freely available one at [http://turingmachine.io/](http://turingmachine.io/). "
   ]
  },
  {
   "cell_type": "markdown",
   "id": "bfe1dad5",
   "metadata": {
    "slideshow": {
     "slide_type": "slide"
    }
   },
   "source": [
    "In this visualizer, the five-tuples are written in one of the following four forms:\n",
    "\n",
    "*Option 1*\n",
    "\n",
    "```\n",
    "state-i: \n",
    "    symbol-m : {write: symbol-n, R: state-j} \n",
    "```\n",
    "\n",
    "The intended meaning of this instruction is:\n",
    "\n",
    "if you are in state-i, and if you read symbol-m then write symbol-n and move one cell to the right and go into state-j\n",
    "\n",
    "*Option 2*\n",
    "\n",
    "```\n",
    "state-i: \n",
    "    symbol-m : {R: state-j}  \n",
    "```\n",
    "\n",
    "The intended meaning of this instruction is: if you are in state-i, and if you read symbol-m then write nothing and move one cell to the right and go into state-j\n",
    "\n",
    "*Option 3*\n",
    "\n",
    "```\n",
    "state-i: \n",
    "    symbol-m : {write: symbol-n, L: state-j}\n",
    "```\n",
    "\n",
    "The intended meaning of this instruction is: if you are in state-i, and if you read symbol-m then write symbol-n and move one cell to the left and go into state-j\n",
    "\n",
    "*Option 4*:\n",
    "\n",
    "```\n",
    "state-i: \n",
    "    symbol-m : {L: state-j}\n",
    "```\n",
    "\n",
    "The intended meaning of this instruction is: if you are in state-i, and if you read symbol-m then write nothing and move one cell to the left and go into state-j"
   ]
  },
  {
   "cell_type": "markdown",
   "id": "f0d673a6",
   "metadata": {
    "slideshow": {
     "slide_type": "slide"
    }
   },
   "source": [
    "A couple of notational observations. \n",
    "\n",
    "First, we are still using $R$ for right and $L$ for left. \n",
    "\n",
    "Second, the names for the states are arbitrary-- one can choose anything you want, so long as it is one word (perhaps separated by hyphens). The symbols we read and write on the tape are either numbers or single letters with single-quotes around them, like $a$. \n",
    "\n",
    "Third, we group all of the instructions about what to do if you are in a given state together. \n",
    "\n",
    "Fourth, the visualiser creates an arrow diagram from the program in which all these conditionals are represented as arrows in-between the states. The diagrammatic convention for the arrow diagram is the states are the points, and the arrows are between the states, and the label on the arrow indicates what the machine is supposed to do in-between when it reads the state at the start of the arrow and switches to the state at the close of the arrow."
   ]
  },
  {
   "cell_type": "markdown",
   "id": "5390dfd8",
   "metadata": {
    "slideshow": {
     "slide_type": "slide"
    }
   },
   "source": [
    "**Example 1**\n",
    "\n",
    "In this example, we imagine that our machine head is an animal-like creature who is encountering the colours red, blue, green, so that the symbols are only three in number $r$, $b$, $g$. \n",
    "\n",
    "\n",
    "```\n",
    "#Example 1: find the first b and delete it\n",
    "input: 'rrrggrbrbrr'\n",
    "blank: ' '       \n",
    "start state: sweep-right  \n",
    "table:\n",
    "  sweep-right:           \n",
    "    'r' : {R: sweep-right} \n",
    "    'b' : {write: ' ', R: halting-state} \n",
    "    'g' : {R: sweep-right} \n",
    "  halting-state: \n",
    "```"
   ]
  },
  {
   "cell_type": "markdown",
   "id": "1c7724d5",
   "metadata": {
    "slideshow": {
     "slide_type": "slide"
    }
   },
   "source": [
    "The intuitive description of the commands in the table are as follows:\n",
    "\n",
    "if you are in the sweep-right state\n",
    "- and if you read 'r' then write nothing and move one cell to the right and go into sweep-right state\n",
    "- and if you read 'b' then write a blank ' ' and move one cell to the right and go into the halting-state\n",
    "- and if you read 'g' then write nothing and move one cell to the right and go into the sweep-right state\n",
    " if you are halting-state then do nothing"
   ]
  },
  {
   "cell_type": "markdown",
   "id": "3305ab8e",
   "metadata": {
    "slideshow": {
     "slide_type": "slide"
    }
   },
   "source": [
    "Here is the state diagram of Example 1:\n",
    "\n",
    "![Example 1](img/turing-ex01.png)\n",
    "\n"
   ]
  },
  {
   "cell_type": "markdown",
   "id": "43398f2e",
   "metadata": {
    "slideshow": {
     "slide_type": "slide"
    }
   },
   "source": [
    "There are only two circles since there are only two states in the program. Since there are only two instructions in the program, there are only two arrows. \n",
    "\n",
    "Since both these instructions begin with reading the sweep-right state, both of the arrows begin at the sweep-right state. \n",
    "\n",
    "The arrow head of the arrow from sweep-right to itself is a little obscured by the word \"sweep-right.\" \n",
    "\n",
    "Note that there are two expressions on this arrow from sweep-right to itself, since when shifting from this state to itself, there are two separate actions that the machine can take (if it sees $g$ it moves right, and if it sees $r$ it moves right). The symbol on the arrow from the sweep-right state to the halting state is a traditional choice for describing the \"blank\" symbol which features in the Turing machine program and written in the program just as ' '. "
   ]
  },
  {
   "cell_type": "markdown",
   "id": "fe25936b",
   "metadata": {
    "slideshow": {
     "slide_type": "slide"
    }
   },
   "source": [
    "### Example 2\n",
    "\n",
    "This next program finds and deletes not just the first $b$, but all the $b$'s:\n",
    "\n",
    "```\n",
    "#Example 2: find and delete all b's\n",
    "input: 'rrrggrbrbrr'\n",
    "blank: ' '       \n",
    "start state: sweep-right  \n",
    "table:\n",
    "  sweep-right:           \n",
    "    'r' : {R: sweep-right} \n",
    "    'b' : {write: ' ', R: sweep-right} \n",
    "    'g' : {R: sweep-right} \n",
    "    ' ' : {R: halting-state}\n",
    "  halting-state:  \n",
    "```"
   ]
  },
  {
   "cell_type": "markdown",
   "id": "213cd5bb",
   "metadata": {
    "slideshow": {
     "slide_type": "slide"
    }
   },
   "source": [
    "This program differs from the Example 1 in the line pertaining to what happens when you are in the sweep-right state and you see a $b$. \n",
    "\n",
    "Whereas Example 1 switched into the halting state after reading a $b$ and then deleted it, \n",
    "\n",
    "Example 2 stays in the sweep-right state after reading a $b$. \n",
    "\n",
    "We then add a line which tells the machine to go into the halting-state when it reads a blank. \n"
   ]
  },
  {
   "cell_type": "markdown",
   "id": "278b13df",
   "metadata": {
    "slideshow": {
     "slide_type": "slide"
    }
   },
   "source": [
    "Here is the state diagram for this Turing machine program:\n",
    "\n",
    "![Example 2](img/turing-ex02.png)"
   ]
  },
  {
   "cell_type": "markdown",
   "id": "a56ea4c3",
   "metadata": {},
   "source": [
    "We again have two states and two arrows. But above the arrow from sweep-right to itself, we have three pieces of information, since when shifting from this state to itself, the machine takes three separate actions, depending on what it sees on the tape below. And in this Turing machine program, we move from sweep-right to halting-state only if we see a blank. "
   ]
  },
  {
   "cell_type": "markdown",
   "id": "774545de",
   "metadata": {
    "slideshow": {
     "slide_type": "slide"
    }
   },
   "source": [
    "Finally, note that there was a kind of redundancy in our program, since we did the same thing when we read a 'r' as when we read a 'g'. We can simplify this as \n",
    "\n",
    "```\n",
    "#Example 2 revised: find and delete all b's\n",
    "input: 'rrrggrbrbrr'\n",
    "blank: ' '       \n",
    "start state: sweep-right  \n",
    "table:\n",
    "  sweep-right:           \n",
    "    ['r', 'g'] : {R: sweep-right} \n",
    "    'b' : {write: ' ', R: sweep-right} \n",
    "    ' ' : {R: halting-state}\n",
    "  halting-state:      \n",
    "```\n",
    "\n",
    "The brackets $[\\ldots]$ has the sense of: if you read any symbol listed in the brackets, then take the action described after the brackets."
   ]
  },
  {
   "cell_type": "markdown",
   "id": "b5beefdc",
   "metadata": {
    "slideshow": {
     "slide_type": "slide"
    }
   },
   "source": [
    "**Using states to remember, example 3**\n",
    "\n",
    "The Turing machine programs are allowed to have an arbitrarily large number of states. One elementary application of this is to use them as a kind of short-term memory to retain what has been recently seen or done. \n",
    "\n",
    "```\n",
    "#Example 3 : finds the second b and changes it to an r\n",
    "input: 'rrrggrbrbbrr'\n",
    "blank: ' '       \n",
    "start state: sweep-right  \n",
    "table:\n",
    "  sweep-right:           \n",
    "    'r' : {R: sweep-right} \n",
    "    'b' : {R: saw-first-b} \n",
    "    'g' : {R: sweep-right} \n",
    "    ' ' : {R: halting-state}\n",
    "  saw-first-b:           \n",
    "    'r' : {R: saw-first-b} \n",
    "    'b' : {write: 'r', R: halting-state} \n",
    "    'g' : {R: saw-first-b} \n",
    "    ' ' : {R: halting-state}    \n",
    "  halting-state:   \n",
    "```"
   ]
  },
  {
   "cell_type": "markdown",
   "id": "b1e855b9",
   "metadata": {
    "slideshow": {
     "slide_type": "slide"
    }
   },
   "source": [
    "The program begins by sweeping-right, and when it sees a $b$, it switches into the state saw-first $b$. In this state, it then looks for another $b$ and changes it to an $r$. \n"
   ]
  },
  {
   "cell_type": "markdown",
   "id": "84d6f18e",
   "metadata": {
    "slideshow": {
     "slide_type": "slide"
    }
   },
   "source": [
    "Here is the state diagram for this Turing machine program:\n",
    "\n",
    "![Example 3](img/turing-ex03v2.png)"
   ]
  },
  {
   "cell_type": "markdown",
   "id": "5ab64e9d",
   "metadata": {
    "slideshow": {
     "slide_type": "slide"
    }
   },
   "source": [
    "There are three states in this Turing machine model and so three circles. Perhaps what is distinctive about this diagram, in contradistinction to the previous diagrams, is that the arrow marking the transition from the saw-first-$b$ state to the halting-state has two labels on it, reflective of the fact that there are two circumstances in which it makes this transition: first if it sees another $b$ (in which case it changes it to an $r$), and second if it sees a blank (this would happen if there was no second $b$)."
   ]
  },
  {
   "cell_type": "markdown",
   "id": "50ae6a87",
   "metadata": {
    "slideshow": {
     "slide_type": "slide"
    }
   },
   "source": [
    "## Turing on Turing machines"
   ]
  },
  {
   "cell_type": "markdown",
   "id": "6a3f756f",
   "metadata": {
    "slideshow": {
     "slide_type": "slide"
    }
   },
   "source": [
    "The most philosophically rich section of Turing's 1937 paper is section 9. He says ({cite}`Turing1937-ep` p. 249):\n",
    "\n",
    "> No attempt has yet been made to show that the \"computable\" numbers include all numbers which would naturally be regarded as computable. All arguments which can be given are bound to be, fundamentally, appeals to intuition, and for this reason rather unsatisfactory mathematically. The real question at issue is \"What are the possible processes which can be carried out in computing a number?\"\n",
    "\n",
    "> The arguments which I shall use are of three kinds.\n",
    "\n",
    "> (a) A direct appeal to intuition\n",
    "\n",
    "> (b) A proof of the equivalence of two definitions (in case the new definition has greater intuitive appeal). \n",
    "\n",
    "> (c) Giving examples of a large classes of numbers which are computable."
   ]
  },
  {
   "cell_type": "markdown",
   "id": "9606b9a9",
   "metadata": {
    "slideshow": {
     "slide_type": "slide"
    }
   },
   "source": [
    "Today we are going to focus on the arguments which Turing classes under the first option\n",
    "\n",
    "> (a) A direct appeal to intuition\n",
    "\n",
    "It is clear that Turing means by \"intuition\" roughly what we mean: a wholesome amalgam of gut-reactions, untutored views, and common-sense. That is, he does not mean Hilbert's sense of \"intuition\" as a Kantian quasi-perceptual cognitive ability."
   ]
  },
  {
   "cell_type": "markdown",
   "id": "d8c7f04c",
   "metadata": {
    "slideshow": {
     "slide_type": "slide"
    }
   },
   "source": [
    "Turing thought the important question was: \"What are the possible processes which can be carried out in computing a number?\" \n",
    "\n",
    "His answer to this question involved a thought experiment pertaining to what a human \"computer\" could do-- \"computer\" was at Turing's time a name for a kind of work or occupation. \n",
    "\n",
    "He thought \n",
    "\n",
    "> We may suppose that there is a bound $B$ to the number of the symbols or squares which the computer can observe at one moment. [...] I think that it is reasonable to suppose that they can only be squares whose distance from the closest of the immediately previously observed squares does not exceed a fixed amount [$L$] ({cite}`Turing1937-ep` p. 250)\n",
    "\n",
    "\n",
    "As one can see, Turing seems to be taking himself to be setting out sensible limits on human cognition.\n",
    "\n",
    "Turing's student Gandy (and later Sieg) thematized $B$ and $L$ as the 'boundedness and locality' conditions. Gandy took them to be contraints on certain kind of machines as opposed to Turing's focus on human computation."
   ]
  },
  {
   "cell_type": "markdown",
   "id": "ae31c98f",
   "metadata": {
    "slideshow": {
     "slide_type": "slide"
    }
   },
   "source": [
    "From the contemporary perspective, one wants to know more about the nature of mental states which Turing was appealing to, since he obviously thinks that they are well-represented by the internal states of a Turing machine. The text is sparse here and all occurs on pp. 250-251. \n",
    "\n",
    "We get claim that states of mind, together with observations, determine actions, and later we are told that these actions determine the subsequent states of mind:\n",
    "\n",
    "> The behaviour of the computor at any moment is determinedy by the symbols which he is observing, and his \"state of mind\" at that moment ({cite}`Turing1937-ep` p. 250).\n",
    "\n",
    "> In particular they determine the state of mind of the computer after the operation is carried out ({cite}`Turing1937-ep` p. 251)\n"
   ]
  },
  {
   "cell_type": "markdown",
   "id": "2c5b9c9c",
   "metadata": {
    "slideshow": {
     "slide_type": "slide"
    }
   },
   "source": [
    "We get an argument that states of mind are finite in number:\n",
    "\n",
    "> If we admitted an infinity of states of mind, some of them will be \"arbitrarily close\" to one another and will be confused. Again, the restriction is not one which seriously affects computation, since the use of more complicated states of mind can be avoided by writing more symbols on the tape ({cite}`Turing1937-ep` p. 250).\n",
    "\n"
   ]
  },
  {
   "cell_type": "markdown",
   "id": "6cc18aa7",
   "metadata": {
    "slideshow": {
     "slide_type": "slide"
    }
   },
   "source": [
    "The most important contemporary commentator on these pages of Turing is Sieg.\n",
    "\n",
    "He calls *Turing's central thesis* the claim that \n",
    "\n",
    "> the calculations of a computor can be mimicked by a particular kind of machine ({cite}`Sieg2009-xd` p. 593)\n",
    "\n",
    "Hence, it is the claim that anything that a human mind of a certain kind ('a computor') can do, a certain kind of machine (his kind of machine) can do.\n",
    "\n",
    "Sieg is concerned that we aren't given an argument for Turing's restrictions on ({cite}`Sieg2009-xd` p. 593):\n",
    "\n",
    "1. 'what symbolic configurations' are.\n",
    "\n",
    "2. 'what changes mechnical operations can effect.'"
   ]
  },
  {
   "cell_type": "markdown",
   "id": "e095e19b",
   "metadata": {
    "slideshow": {
     "slide_type": "slide"
    }
   },
   "source": [
    "## The universal machine and diagonalization"
   ]
  },
  {
   "cell_type": "markdown",
   "id": "ae19d403",
   "metadata": {
    "slideshow": {
     "slide_type": "slide"
    }
   },
   "source": [
    "### The universal machine\n",
    "\n",
    "Since there are only countably many machines, let us enumerate them as $\\varphi_0, \\varphi_1, \\varphi_2, \\ldots$ \n",
    "\n",
    "A key fact about Turing machines is that there is a specific Turing machine $\\varphi_{e_0}$ such that for all other Turing machines $\\varphi_e$, one has $\\varphi_{e_0}(e,n) \\cong \\varphi_e(n)$ for all inputs $n$. \n",
    "\n",
    "This is called a *universal machine*.\n",
    "\n",
    "The notation $ \\cong$ means that if either reaches a halting state, then the other does, and they have the same result on the tape.\n",
    "\n",
    "Here I am appealing to a convention whereby we code numbers as strings in some natural way."
   ]
  },
  {
   "cell_type": "markdown",
   "id": "699b6fe7",
   "metadata": {
    "slideshow": {
     "slide_type": "slide"
    }
   },
   "source": [
    "### The existence of the universal machine\n",
    "\n",
    "Why should there exist a universal machine? \n",
    "\n",
    "Well, each program is just a finite set of instructions about a finite set of symbols, which we can represent as a finite string of symbols.\n",
    "\n",
    "Hence, program $e_0$ on input $(e,n)$ just inspects $e$ and figures out which (if any) Turing machine program it represents, and then it proceeds to run input $n$ on this Turing machine program. \n",
    "\n",
    "Are there more details? Yes. Are the more details illuminating? No. \n",
    "\n",
    "In each case, it is mostly just because it is complicated to learn to program Turing machines themselves. The 'hardware' is so built into the instruction sets that one has to spend a lot of time learning how to get the machine head to go back and forth in the right way. And then one will have to settle on some representation device whereby the infinitely many possible symbols are represented as strings in some finite alphabet."
   ]
  },
  {
   "cell_type": "markdown",
   "id": "04b115d8",
   "metadata": {
    "slideshow": {
     "slide_type": "slide"
    }
   },
   "source": [
    "## Diagonalization and the halting set\n",
    "\n",
    "Consider the following set of natural numbers, called the \"halting set\"\n",
    "\n",
    "$$K = \\{e: \\varphi_e(e)\\downarrow\\}$$\n",
    "\n",
    "where the downarrow indicates that the computation converges. \n",
    "\n",
    "That is, the halting set is the set of indexes of Turing machine programs $e$ such that when you input the code $e$ into the program $\\varphi_e$, the resulting computation converges."
   ]
  },
  {
   "cell_type": "markdown",
   "id": "014103a2",
   "metadata": {
    "slideshow": {
     "slide_type": "slide"
    }
   },
   "source": [
    "**The argument that the halting set is not computable**\n",
    "\n",
    "Again, $K = \\{e: \\varphi_e(e)\\downarrow\\}$.\n",
    "\n",
    "Here is the traditional argument that $K$ is not computable by a Turing machine.\n",
    "\n",
    "Suppose not. Then the following program, call it $i$, is a Turing program:\n",
    "\n",
    "```\n",
    "def φ_i(n):\n",
    "    if n in K:\n",
    "        return φ_n(n)+1\n",
    "    else:\n",
    "        return 0\n",
    "```\n",
    "\n",
    "Then we get a contradiction as follows.\n",
    "\n",
    "Case 1: if $i$ in $K$, then $\\varphi_i(i)=\\varphi_i(i)+1$ and both computations converge by definition of $K$.\n",
    "\n",
    "Case 2: if $i$ not in $K$, then $\\varphi_i(i)=0$, and so does converge, contradicting the definition of \"not being in $K$.\"\n",
    "\n",
    "In both cases, we get a contradiction."
   ]
  },
  {
   "cell_type": "markdown",
   "id": "b3a49b31",
   "metadata": {},
   "source": [
    "## Key definitions"
   ]
  },
  {
   "cell_type": "markdown",
   "id": "3269b6a8",
   "metadata": {
    "slideshow": {
     "slide_type": "slide"
    }
   },
   "source": [
    "There are a couple of definitions which we used in the previous proofs which we should make explicit."
   ]
  },
  {
   "cell_type": "markdown",
   "id": "43853ad3",
   "metadata": {
    "slideshow": {
     "slide_type": "slide"
    }
   },
   "source": [
    "### Definition (computable)\n",
    "\n",
    "A set of natural numbers $A$ is computable if there is a Turing machine program $i$ such that \n",
    "\n",
    "1. for all natural numbers $n$, one has $\\varphi_i(n)\\downarrow$ and $\\varphi_i(n)\\downarrow=0$ or $\\varphi_i(n)\\downarrow=1$\n",
    "\n",
    "2. for all natural numbers $n$, one has $n$ in $A$ iff $\\varphi_i(n)=1$."
   ]
  },
  {
   "cell_type": "markdown",
   "id": "671cdccb",
   "metadata": {
    "slideshow": {
     "slide_type": "slide"
    }
   },
   "source": [
    "### Definition (halting)\n",
    "\n",
    "If $i$ is an index for a Turing machine program and $n$ is a natural number, then we say \"the program $i$ halts on input $n$\", written $\\varphi_i(n)\\downarrow$, if when you run the program with input $n$, then it eventually reaches a halting state.\n",
    "\n",
    "The negation of $\\varphi_i(n)\\downarrow$ is writen $\\varphi_i(n)\\uparrow$, that is, this indicates that the program does not halt.\n",
    "\n",
    "What is a halting state? It is just a state of the machine that doesn't have any further instructions in the program about what to do if you see that state. "
   ]
  },
  {
   "cell_type": "markdown",
   "id": "490b4832",
   "metadata": {},
   "source": [
    "### On the terminology of computable and recursive and effective\n",
    "\n",
    "First, on terminology: \n",
    "\n",
    "Synonyms for *computable* are *recursive* or *decidable*. \n",
    "\n",
    "Different communities have strong views about which you should use; I will tend to stick with computable.\n",
    "\n",
    "Sometimes *effective* means the same thing as computable and recursive.\n",
    "\n",
    "Othertimes *effective* can be used in a broader sense."
   ]
  },
  {
   "cell_type": "markdown",
   "id": "86a74ae5",
   "metadata": {},
   "source": [
    "### On what kind of symbols one computes on\n",
    "\n",
    "The definition was in terms of computability of sets of numbers, because we can think about Turing machines inputting and outputting numbers. \n",
    "\n",
    "More generally, Turing machines input and output strings from a finite alphabet, and hence you can think about the computabilty of sets of such strings. And you can 'encode' a bunch of things in such strings, like finite graphs or finite polynomials or formulas. \n",
    "\n",
    "In some sense this is a conventional choice: you have to choose 'what kind of thing gets computed', but your choice will probably be dictated by interest at hand, and any two reasonable choices usually end up not formally changing much. "
   ]
  },
  {
   "cell_type": "markdown",
   "id": "7eba11d0",
   "metadata": {},
   "source": [
    "## The map, revisited\n",
    "\n",
    "This is the map with the computable / recursive sets highlighted ([see here](img/map-handout.pdf) for a standalone version without the highlighting.)\n",
    "\n",
    "![The map](img/map-computable.png)\n",
    "\n"
   ]
  }
 ],
 "metadata": {
  "celltoolbar": "Slideshow",
  "kernelspec": {
   "display_name": "Python 3 (ipykernel)",
   "language": "python",
   "name": "python3"
  },
  "language_info": {
   "codemirror_mode": {
    "name": "ipython",
    "version": 3
   },
   "file_extension": ".py",
   "mimetype": "text/x-python",
   "name": "python",
   "nbconvert_exporter": "python",
   "pygments_lexer": "ipython3",
   "version": "3.11.7"
  }
 },
 "nbformat": 4,
 "nbformat_minor": 5
}