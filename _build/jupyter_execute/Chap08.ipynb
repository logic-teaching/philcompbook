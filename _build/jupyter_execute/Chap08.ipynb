{
 "cells": [
  {
   "cell_type": "markdown",
   "metadata": {},
   "source": [
    "# Chapter 8\n",
    "\n",
    "In Chapter 4, we looked at Gödel's Incompleteness Theorem as a source of non-computable sets. In this chapter we look at it as a puzzle about whehther there is a tension between \n",
    "\n",
    "- computability as a constraint on human theorizing or intellectual ability\n",
    "\n",
    "- epistemic \"completeness,\" in the sense of always being in a position to resolve questions of a certain kind in the affirmative or in the negative. \n",
    "\n",
    "We do so in reference to Gödel's famous Gibbs lecture {cite}`Godel1995-bg`."
   ]
  },
  {
   "cell_type": "markdown",
   "metadata": {
    "vscode": {
     "languageId": "plaintext"
    }
   },
   "source": [
    "## Gödel's Theorems"
   ]
  },
  {
   "cell_type": "markdown",
   "metadata": {},
   "source": [
    "### Gödel's First Incompleteness Theorem\n",
    "\n",
    "Suppose that $T$ is a theory in an extension of the language of arithmetic.\n",
    "\n",
    "Then $T$ cannot have all four of the following properties:\n",
    "\n",
    "1. $T$ contains Robinson's $Q$\n",
    "2. $T$ is deductively consistent\n",
    "3. $T$ is computable\n",
    "4. $T$ is deductively complete"
   ]
  },
  {
   "cell_type": "markdown",
   "metadata": {},
   "source": [
    "### Robinson's Q\n",
    "\n",
    "This is a set of eight axioms which describe behavior of zero and successor and less than and which contain the primitive recursive definitions of plus and times:\n",
    "\n",
    "1. $\\forall \\; x \\; \\forall \\; y \\; (S(x)=S(y)\\rightarrow x=y)$\n",
    "2. $\\forall \\; x \\; S(x)\\neq 0$\n",
    "3. $\\forall \\; x \\; (x\\neq 0\\rightarrow \\exists \\; w \\; x=S(w))$   \n",
    "4. $\\forall \\; x \\; x+0=x$\n",
    "5. $\\forall \\; x \\; \\forall \\; y \\; x+S(y)=S(x+y)$\n",
    "6. $\\forall \\; x \\; x\\cdot 0 =0$ \n",
    "7. $\\forall \\; x\\; x\\cdot S(y)=x\\cdot y +x$ \n",
    "8. $\\forall \\; x \\; \\forall \\; y \\; (x\\leq y \\leftrightarrow \\exists \\; z \\; z+x=y)$  \n",
    "\n",
    "The language of arithmetic is just the language of these axioms: zero, successor, addition, multiplication, plus, times.\n",
    "\n",
    "Note that axiom 4-5 are the primitive recursive definition of addition; and axioms 6-7 are the primitive recursive definition of multiplication."
   ]
  },
  {
   "cell_type": "markdown",
   "metadata": {},
   "source": [
    "### Peano arithmetic PA and $I\\Sigma^0_1$\n",
    "\n",
    "*Peano arithmetic* (*PA*) is just Robinon's Q plus all instances of the first-order induction schema:\n",
    "\n",
    "$$[\\varphi(0) \\wedge \\forall \\; x \\; (\\varphi(x)\\rightarrow \\varphi(S(x))]\\rightarrow [\\forall \\; x \\; \\varphi(x)]$$\n",
    "\n",
    "The theory $I\\Sigma^0_1$ is jsut Robinson's Q plus all instances of the induction schema where $\\varphi(x)$ is a $\\Sigma_1$-formula."
   ]
  },
  {
   "cell_type": "markdown",
   "metadata": {
    "vscode": {
     "languageId": "plaintext"
    }
   },
   "source": [
    "### Gödel's First Incompleteness Theorem (redeux)\n",
    "\n",
    "Suppose that $T$ is a theory in an extension of the language of arithmetic.\n",
    "\n",
    "Then $T$ cannot have all four of the following properties:\n",
    "\n",
    "1. $T$ contains Robinson's $Q$\n",
    "2. $T$ is deductively consistent\n",
    "3. $T$ is computable\n",
    "4. $T$ is deductively complete"
   ]
  },
  {
   "cell_type": "markdown",
   "metadata": {
    "vscode": {
     "languageId": "plaintext"
    }
   },
   "source": [
    "### The proof idea\n",
    "\n",
    "The proof is hard and would take awhile to do carefully. But I can say briefly and accurately a word about the proof idea. \n",
    "\n",
    "The proof starts by assuming 1-3 and then \n",
    "\n",
    "- shows that there is a $\\Sigma_1$-sentence $\\varphi$ which \"says of itself\" that it is not provable, \n",
    "- argues that $T$ does not prove $\\varphi$: if it did, then $Q$ would know that it did ($Q$ knows all true $\\Sigma_1$-statements) and then $T$ would know that it did, and then by \"what $\\varphi$ says\" $T$ would prove $\\neg \\varphi$, contradicting deductive consistency. \n",
    "- argues that $T$ does not prove $\\neg \\varphi$: by a more complicated version of the previous argument which goes through \"the Rosser trick\"\n",
    "\n"
   ]
  },
  {
   "cell_type": "markdown",
   "metadata": {},
   "source": [
    "### Gödel's Second Incompleteness Theorem\n",
    "\n",
    "Suppose that $T$ is a theory in an extension of the language of arithmetic.\n",
    "\n",
    "Suppose further that $T$ has the following three properites:\n",
    "\n",
    "1. $T$ contains $I\\Sigma^0_1$\n",
    "2. $T$ is true on the standard model\n",
    "3. $T$ is computable\n",
    "\n",
    "Then \n",
    "\n",
    "4. $T$ does not prove or disprove $Con(T)$, the statement which expresses the deductive consistency of $T$, i.e. the statement which says that there is no proof of a contradiction from $T$."
   ]
  },
  {
   "cell_type": "markdown",
   "metadata": {
    "vscode": {
     "languageId": "plaintext"
    }
   },
   "source": [
    "### Brief remarks on the second theorem\n",
    "\n",
    "- The second theorem is proven by \"internalizing\" the proof of the first theorem. I.e. take a carefully written down version of the first theorem, and then note to yourself that this can all be formalized in any theory containing $I\\Sigma^0_1$. The difficulty will be in convinving yourself that this is true. It can be made easier by reducing it to verifying the so-called derivability conditions.\n",
    "\n",
    "- The second theorem complicates any attempt to say that Gödel's Theorem gives one examples of statements which are unknowable. For, presumably you have some strong reasons for thinking that $T$ is consistent, and those might even be apriori in character. And the thought is that these reasons might well then transfer to $Con(T)$. "
   ]
  },
  {
   "cell_type": "markdown",
   "metadata": {},
   "source": [
    "## Gödel's Disjunction\n",
    "\n",
    "\n"
   ]
  },
  {
   "cell_type": "markdown",
   "metadata": {},
   "source": [
    " ### The statement in the Gibb's lecture\n",
    " \n",
    " In his 1951 talk \"Some basic theorems on the foundations of mathematics and their implications\" (also known as the Gibbs lecture), Gödel says the following:\n",
    "\n",
    ">So the following disjunctive conclusion is inevitable: *Either mathematics is incompletable in this sense, that its evident axioms can never be comprised in a finite rule, that is to say, the human mind (even within the realm of pure mathematics) infinitely surpasses the powers of any finite machine, or else there exist absolutely unsolvable diophantine problems of the type specified* (where the case that both terms of the disjunction are true is not excluded, so that there are, strictly speaking, three alternatives) ({cite}`Godel1995-bg` p. 310)\n",
    "\n",
    "By a \"diophantine problem\" Gödel is referring to the fact that the sentences which show deductive incompleteness are $\\Sigma_1$-formulas and so can be-- after a long reduction -- expressed in terms of existence of solutions to polynomial equations, known as Diophatine equations. To my knowledge the details of this reduction were only worked out by Matiyasevich in the course of his decisive contribution to the resultion of Hilbert's 10th problem."
   ]
  },
  {
   "cell_type": "markdown",
   "metadata": {},
   "source": [
    "### Why the disjunction is a *primae facie* puzzle\n",
    "\n",
    "One way of understanding G\\\"odel's disjunction is then as follows. Consider the following theory $T$ in an extension of the language of arithmetic:\n",
    "\n",
    "$T = \\{ \\varphi:$ I have a good reason to believe $\\varphi \\}$\n",
    "\n",
    "Assuming that $T$ contains Robinson's $Q$ and is deductively consistent, it then follows that at least one of the following happens:\n",
    "\n",
    "1. $T$ is not computable \n",
    "2. $T$ is not deductively complete\n",
    "\n",
    "The choice of $T$ is designed to make it hard to figure out *apriori* which of 1-2 is true:\n",
    "\n",
    "- *Why the first disjunction is hard to assent to*: Since $T$ is defined in terms of a certain kind of human ability, if $T$ is not computable, then presumably there is some aspect of the types of reasons that we can give that resists being formalised in an algorithmic manner. To many contemporory thinkers this seems implausible since the human mind seems to be well-modeled in various ways by Turing machines.\n",
    "\n",
    "- *Why the second disjunction is hard to assent to*: we sketched up above Gödel's Second Incompleteness Theorem, on which the incomplete sentence $Con(T)$ expresses the consistency of $T$. But given the description of $T$ and an assumption that what we have good reason to believe we have good reason to be consistent, one should have a good reason to believe $Con(T)$ and so $Con(T)$ should be in $T$ and thus deducible from $T$."
   ]
  },
  {
   "cell_type": "markdown",
   "metadata": {},
   "source": [
    "\n",
    "### Some ways out and some ways to develop it\n",
    "\n",
    "This was a way of making vivid why the disjunction is a primae facie puzzle. \n",
    "\n",
    "Of course there are some ways out and some ways to develop it, which merit careful consideration:\n",
    "\n",
    "- One could deny that there's anything puzzling about knowing a true disjunction but not knowing which disjunct is true. E.g. \"I know that I should go left or right but I don't know which\" is not a puzzle, it is just life. \n",
    "\n",
    "- One should try to make clear what the relevant epstemic notion of \"good reason\" is. I put it in there since it is easy and short and I think that we all have some grip on the notion. But it is clearly a notion that would benefit from further analysis or explication. Feel free to replace it with your preferred concept which carries with it positive epistemic valence. Gödel himself describes it in terms of \"evident axioms\" about mathematics ({cite}`Godel1995-bg` p. 309). \n",
    "\n",
    "- One could push back on my remarks about the first disjunction by saying: maybe human mentality is computable but human intellectual abilities somehow push to the limits of the relevant kind of mentality and so need not be computable.\n",
    "\n",
    "- One could push back on my remarks about the second disjunction by suggesting that it rests on a discredited epistemic idea that knowledge entails some kind of higher-order knowledge. To be sure, higher-order knowledge seems rare in the ordinary course of events when we think about what we know about the external world. But it seems at least a little more plausible when we think about mathematics.\n",
    "\n",
    "- There are subtletiess in the interpretation of the second theorem about whether the sentence really *expresses* consistency ({cite}`Feferman1985-fs`, {cite}`Detlefsen2001-gu`).\n"
   ]
  },
  {
   "cell_type": "markdown",
   "metadata": {},
   "source": [
    "## Gödel on the disjunction"
   ]
  },
  {
   "cell_type": "markdown",
   "metadata": {},
   "source": [
    "### The 1931 conference\n",
    "\n",
    "G\\\"odel first presented his Incompleteness Theorem at a 1931 conference on the foundations of mathematics at Königsberg ({cite}`godel1986` pp. 196 ff). At the conference, \n",
    "\n",
    "- von Neumann defended the Hilbert program (or formalism)\n",
    "- Carnap defended a version of logicism\n",
    "- Heyting defended Brouwer's intuitionism. \n",
    "\n",
    "These papers of von Neumann, Heyting, and Carnap are in the standard anthology on the philosophy of mathematics as representatives of these three main schools in the philosophy of mathematics ({cite}`Benacerraf1983aa` pp. 41-65,{cite}`neumann1931formalistische`, {cite}`Heyting1931aa`, {cite}`Carnap1931ab`).\n",
    "\n",
    "One way of understanding Gödel's 1951 Gibbs lecture is by drawing out the consequences of his disjunction for some of these schools. I am going to focus on intuitionism and logicism since that is what Gödel devotes the most attention to."
   ]
  },
  {
   "cell_type": "markdown",
   "metadata": {},
   "source": [
    "### The implications of the first disjunct for intuitionism à la Heyting\n",
    "\n",
    "In the 1931 conference, Browuer's student Heyting opened his contribution this way:\n",
    "\n",
    "> The intuitionist mathematician proposes to do mathematics as a natural function of his intellect, as a free, vital activity of thought. For him, mathematics is a production of the human mind. He uses language, both natural and formalized, only for communicating thoughts, i.e. to get others or himself to follow his own mathematical ideas. Such a lingusitics accompaniment is not a representation of mathematics; still less is it mathematics itself ({cite}`Heyting1931aa` p. 106, {cite}`Benacerraf1983aa p. 52).\n",
    "\n",
    "This of course echos what we heard from Brouwer himself in Chapter 2. \n",
    "\n",
    "Here is what Gödel says about the second disjunct:\n",
    "\n",
    "> On the other hand, the second alternative, where there exist absolutely undecidable mathematical propositions, seems to disprove the view that mathematics is only our creation; for the creator necesssarily knows all properties of his creatures, because they can't have any others except those he has given to them ({cite}`Godel1995-bg` p. 311).\n",
    "\n",
    "> As far as the second alternative is concenred, one might object that the  constructor need not necessarily know *every* property of what he constructs. For example, we build machines and still cannot predict their behaviour in every detail. But this objection is very poor. For we don't create the machines out of nothing, but built them out of some given material. If the situation were similar in mathematics, then this material or basis for our constructions would be something and would force some realistic viewpoint upon us even if certain other ingredients of mathematics were of our own creation ({cite}`Godel1995-bg` p. 312).\n",
    "\n",
    "This passage deserves careful reconstruction, but perhaps as a first attempt we can suggest that the argument goes something like this:\n",
    "\n",
    "- Take whatever \"material basis\" the intuitionist is willing to grant, like constructions or proofs or the like. Collect together everything we can assert about them into a theory $T$.\n",
    "\n",
    "- The intuitionist will be forced into the second disjunct, and so there will be claims $\\varphi$ about their constructions and proofs such that they cannot assert $\\varphi$ and they cannot assert $\\neg \\varphi$.  \n",
    "\n",
    "- Brouwer and his followers (think back to the $\\pi$ example), were happy to banish such epistemically undecidable sentences out of the realm of the mathematically meaningful. But since $\\varphi$ pertains to their own view about constructions and proofs, this seems implausible. "
   ]
  },
  {
   "cell_type": "markdown",
   "metadata": {
    "vscode": {
     "languageId": "plaintext"
    }
   },
   "source": [
    "### Implications for logicism à la Carnap\n",
    "\n",
    "At the 1931 conference, Carnap wrote the exposition and defense of the logicist view. He closes by saying:\n",
    "\n",
    "> Logicism as here described has several features in common both with intuitionism and with formalism. It shares with intuitionism a constructivistic tendency with respect to definition, a tendency which Frege also emphatically endorsed. A concept may not be introduced axiomatically but must be constructed from undefined, primitive concepts step by step through explicit definition ({cite}`Carnap1931ab` pp. 104-105, {cite}`Benacerraf1983aa` p. 52).\n",
    "\n",
    "Earlier Carnap stated the logicist view as:\n",
    "\n",
    "> 1. The *concepts* of mathematics can be derived from logical concepts through explicit definitions. [\\P] 2. The *theorems* of mathematics can be derived from logical axioms through purely logical deduction. ({cite}`Carnap1931ab`pp. 91-92, {cite}`Benacerraf1983aa` p. 41).\n",
    "\n",
    "Here is the problem that Gödel saw with this: \n",
    "\n",
    "> Therefore the simplest version of the view in question would consist in the assertion that mathematical propositions are true solely owing to the definitions of the terms occurring in them, that is, that by successively replacing all terms by their definietia, any theorem can be reduced to an explicit tautology $a=a$. [... But this] would immediately yield a mechanical procedure for deciding the truth or falsehood of every mathematical proposition. Such a procedure, however, cannot exist, not even for number theory ({cite}`Godel1995-bg` p. 317).\n",
    "\n",
    "Hence, Gödel is imagining a version of Carnap's 1-2 on which every true proposition of mathematics gets reduced to some specific tautology like $a=a$. Then presumably every false proposition of mathematics would get reduced to some specific contradiction like $a\\neq a$. If this were true, then G\\\"odel is just noting that there would be a computable deductively complete extension of $PA$, since the procedure would just be: do the reduction and figure out whether you reduced to $a=a$ or $a\\neq a$, and in the former case put it in the extension and in the second case don't put it in the extension. \n",
    "\n",
    "G\\\"odel also suggests that versions of Carnap's program could fall afoul of the Second Incompleteness Theorem:\n",
    "\n",
    "> Namely, it follows by the metatheorems mentioned that a proof for the tautological character is at the same time a proof for their consistency, and cannot be achieved with any \\emph{weaker} means of proof than are contained in the axioms themselves ({cite}`Godel1995-bg` p. 317).\n",
    "\n",
    "The thought here seems to be that if one succeeded in proving, in $PA$, that every axiom of $PA$ was equivalent in some sense to a tautology, then this would be a proof, in $PA$, that $PA$ was consistent since $0=1$ cannot be derived from a collection of tautologies.\n"
   ]
  },
  {
   "cell_type": "markdown",
   "metadata": {},
   "source": []
  },
  {
   "cell_type": "markdown",
   "metadata": {
    "vscode": {
     "languageId": "plaintext"
    }
   },
   "source": [
    "### Gödel's own view conceptual realism"
   ]
  },
  {
   "cell_type": "markdown",
   "metadata": {
    "vscode": {
     "languageId": "plaintext"
    }
   },
   "source": [
    "At the end of the Gibb's lecture, Gödel describes his own view as a kind of platonism:\n",
    "\n",
    "> Thereby I mean the view that mathematics describes a non-sensual reality, which exists independently both of the acts and of the dispositions of the human mind and is only preceived, probably perceived very incompletely, by the human mind ({cite}`Godel1995-bg` p. 323)\n",
    "\n",
    "It is usually referred to now as conceptual realism, due to passages like the following, where Gödel suggests that what is true of sets is just what follows from the concept of set:\n",
    "\n",
    "> I wish to repeat that \"analytic\" here does not mean \"true owing to our definitions,\" but rather \"true owing to the nature of the concepts occurring [therein]\" in contradistinction to \"true owing to the properties and behavior of things.\" This concept of analytic is so far from meaning \"void of content\" that it is perfectly possible that an analytic proposition might be undecidable (or decidable only with a [certain] probability).  ({cite}`Godel1995-bg` p. 321)"
   ]
  },
  {
   "cell_type": "markdown",
   "metadata": {
    "vscode": {
     "languageId": "plaintext"
    }
   },
   "source": [
    "### How does Gödel respond to the disjunction? \n",
    "\n",
    "I don't think that the Gibbs' lecture is entirely clear on this. \n",
    "\n",
    "Conceptual realism would explain the second disjunct. There are just some things which are true but which we can't know: the concepts make them true but our ways of knowing are limited.\n",
    "\n",
    "But recall the pressure on the second disjunct, e.g. that $Con(T)$ should be in $T$. In other parts of Gödel's work, there is the idea that $Con(T)$ is known to us on the basis of our knowledge of a higher system, say $T^{\\prime}$:\n",
    "\n",
    "> [...] the true reason for the incompleteness inherent in all formal systems of mathematics is that the formation of even higher types can be continued into the transfinite [...] while in any formal system at most denumerably many of them are available. For it can be shown that the undecidable propositions constructed here become decidable whenever appropriate higher types are added [\\ldots] An analogous situation prevails for the axioms system of set theory ({cite}`Godel1931-ju` p. 191 fn 48a, {cite}`godel1986` p. 180 fn 48a).\n",
    "\n",
    "It is exactly this \"inexhaustibility of mathematics\" with which Gödel begins the lecture. This might lend itself to the idea that the first disjunct is true since this inexhaustibility cannot be computationally captured.\n",
    "\n",
    "Hence there are hints in Gödel's Gibbs lecture for reasons why he might endorse both disjuncts.\n"
   ]
  },
  {
   "cell_type": "markdown",
   "metadata": {},
   "source": []
  }
 ],
 "metadata": {
  "language_info": {
   "codemirror_mode": {
    "name": "ipython",
    "version": 3
   },
   "file_extension": ".py",
   "mimetype": "text/x-python",
   "name": "python",
   "nbconvert_exporter": "python",
   "pygments_lexer": "ipython3",
   "version": "3.12.0"
  }
 },
 "nbformat": 4,
 "nbformat_minor": 2
}