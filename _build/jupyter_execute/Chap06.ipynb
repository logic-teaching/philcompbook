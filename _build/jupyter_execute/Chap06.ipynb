{
 "cells": [
  {
   "cell_type": "markdown",
   "metadata": {},
   "source": [
    "# Chapter 6"
   ]
  },
  {
   "cell_type": "markdown",
   "metadata": {},
   "source": [
    "## Rice's Theorem"
   ]
  },
  {
   "cell_type": "markdown",
   "metadata": {},
   "source": [
    "### Recall the halting set\n",
    "\n",
    "The halting set is $K = \\{e: \\varphi_e(e)\\downarrow\\}$.\n",
    "\n",
    "Note that $e$ in $K$ iff there is a stage $s$ where the $e$-th machine on $e$-th input is in a halting state. \n",
    "\n",
    "Further, note that given fixed $e,s$, we can compute whether $e$-th machine on $e$-th input is in a halting state. We just run the machine $s$ steps and see whether we are in a halting state. Recall a halting state is just one which issues no further instructions."
   ]
  },
  {
   "cell_type": "markdown",
   "metadata": {},
   "source": [
    "### Definition (extensional)\n",
    "\n",
    "A property of a Turing machine program is *extensional* if it just concerns the input-output behavior of the program.\n",
    "\n",
    "Equivalently, a property of a Turing machine program is extensional if for all $e,i$, if  $\\varphi_e\\cong \\varphi_i$ (i.e. the one halts iff the other does and they have the same output) then $\\varphi_e$ has the property iff $\\varphi_i$ has the property."
   ]
  },
  {
   "cell_type": "markdown",
   "metadata": {},
   "source": [
    "### Remark (closed under boolean operations)\n",
    "\n",
    "The extensional properties of Turing machines are closed under Boolean operations. E.g. suppose that $P,Q$ are two extensional properties. Then, by definition, for all $e,i$, if  $\\varphi_e\\cong \\varphi_i$ then:\n",
    "\n",
    "- $\\varphi_e$ has $P$ iff $\\varphi_i$ has P$.\n",
    "- $\\varphi_e$ has $Q$ iff $\\varphi_i$ has Q$.\n",
    "\n",
    "From what it follows that for all $e,i$, if  $\\varphi_e\\cong \\varphi_i$ then:\n",
    "\n",
    "- $\\varphi_e$ has $P\\wedge Q$ iff $\\varphi_i$ has $P\\wedge Q$\n",
    "- $\\varphi_e$ has $P\\vee Q$ iff $\\varphi_i$ has $P\\vee Q$\n",
    "- $\\varphi_e$ has $P\\rightarrow Q$ iff $\\varphi_i$ has $P\\rightarrow Q$\n",
    "- $\\varphi_e$ has $\\neg P$ iff $\\varphi_i$ has $\\neg P$\n",
    "\n"
   ]
  },
  {
   "cell_type": "markdown",
   "metadata": {},
   "source": [
    "### Examples (extensional)\n",
    "\n",
    "Here are some notions of extensional properties of Turing machines $\\varphi_e$ conceived of as acting on numbers:\n",
    "\n",
    "- Total: for all $n$ there is $m$ with $\\varphi_e(n)\\downarrow m$\n",
    "\n",
    "- Total and constant: total and there is $m$ such that all $n$ one has $\\varphi_e(n)\\downarrow m$.\n",
    "\n",
    "- Total and non-constant: total and there are $n,n^{\\prime}$ with $\\varphi_e(n)\\downarrow \\neq \\varphi_e(n^{\\prime})\\downarrow$.\n",
    "\n",
    "- Halts on infinitely many values: for all $n$ there is $m\\geq n$ such that $\\varphi_e(m)\\downarrow$"
   ]
  },
  {
   "cell_type": "markdown",
   "metadata": {},
   "source": [
    "### Examples (non-extensional)\n",
    "\n",
    "Here are some notions of non-extensional properties of Turing machines $\\varphi_e$ conceived of as acting on numbers:\n",
    "\n",
    "- Having exactly 5 internal states. (This is non-extensional b/c one can always add on a bunch of dummy states that don't affect the ultimate outputs).\n",
    "\n",
    "- Having instructions which say go right, but none which say go left (This is non-extensional on our usual two-way tape set up since one can add an instruction at the beginning that says 'go left' then immediately 'go right').\n",
    "\n",
    "- Being such that the program converges fast, say, within polynomial time of length of the input. For, just add on dummy instructions which go back and forth across the tape $2^n$ many times before proceeding with the original program."
   ]
  },
  {
   "cell_type": "markdown",
   "metadata": {},
   "source": [
    "### Rice's Theorem\n",
    "\n",
    "Let $P$ be an extensional property of Turing machine programs. \n",
    "\n",
    "Consider the set $A=\\{e: \\varphi_e$ has $P \\}$.\n",
    "\n",
    "Suppose that $A$ is not everything and $A$ is not empty.\n",
    "\n",
    "Then $A$ is non-computable."
   ]
  },
  {
   "cell_type": "markdown",
   "metadata": {},
   "source": [
    "*Proof*: (following {cite}`Soare2016-yz` p. 16):\n",
    "\n"
   ]
  },
  {
   "cell_type": "markdown",
   "metadata": {},
   "source": [
    "Since $A$ is not everything and $A$ is not empty, choose $c$ not in $A$ and $d$ in $A$.\n",
    "\n",
    "Without loss of generality, assume that $c$ does not halt on any input ('c' for crash). If this assumption is not met, run the argument on the complement of $A$ (since a set is computable iff its complement is).\n",
    "\n",
    "Consider the following computable function $r$ (for 'Rice') and how it acts on input $e$:\n",
    "\n",
    "```\n",
    "def r(e):\n",
    "    return index for Turing machine program which on input y\n",
    "    searches for a stage s where φ_e(e) converges\n",
    "    and if it finds it runs φ_d(y)\n",
    "```"
   ]
  },
  {
   "cell_type": "markdown",
   "metadata": {},
   "source": [
    "Claim 1: for all $e$, if $e$ in $K$, then $r(e)$ in $A$.\n",
    "\n",
    "Suppose $e$ in $K$. Then eventually there is a stage $s$ where $\\varphi_e(e)$ converges, and given $e,s$ we can compute when this happens. The $\\varphi_{r(e)}(y)$ is the same as $\\varphi_d(y)$ in terms of convergence and ouputs, for all $y$.\n",
    "\n",
    "Since $d$ is $A$ and $A$ is extensional, $r(e)$ is in $A$."
   ]
  },
  {
   "cell_type": "markdown",
   "metadata": {},
   "source": [
    "Claim 2: for all $e$, if $e$ not in $K$, then $r(e)$ not in $A$.\n",
    "\n",
    "Suppose $e$ not in $K$. Then program $\\varphi_{r(e)}(y)$ crashes on all inputs $y$, since it just keeps on searching and never returns anything. So it has the same input-output behavior as program $\\varphi_c$.\n",
    "\n",
    "Since $c$ is not in $A$ and $A$ is extensional, $r(e)$ is not in $A$. "
   ]
  },
  {
   "cell_type": "markdown",
   "metadata": {},
   "source": [
    "Claim 3: $A$ is not computable.\n",
    "\n",
    "Suppose not. Then $A$ is computable. \n",
    "\n",
    "In claims 1,2 we showed that $r$ has the following feature: \n",
    "\n",
    "For all $e$: $e$ in $K$ iff $r(e)$ in $A$.\n",
    "\n",
    "Since $r$ is computable and $A$ is computable, $K$ would be computable, a contradiction."
   ]
  },
  {
   "cell_type": "markdown",
   "metadata": {},
   "source": [
    "## Morals for verification"
   ]
  },
  {
   "cell_type": "markdown",
   "metadata": {},
   "source": [
    "You have worked really hard and have written a program to solve some task.\n",
    "\n",
    "How do you know that it actually accomplishes the task? \n",
    "\n",
    "You could run it on a few inputs and check that it works, but this will at best be an inductive kind of evidence (interesting question why this isn't viewed as enough).\n",
    "\n",
    "Couldn't you just, with a little extra work, write a second program that checks that your first program accomplished its task? \n",
    "\n",
    "Rice's theorem says that the answer is a resounding **no** when the task is specified in terms of input-output behaviour.\n",
    "\n",
    "Moral 1 of Rice's Theorem for verification: verification cannot be automated.\n",
    "\n"
   ]
  },
  {
   "cell_type": "markdown",
   "metadata": {},
   "source": [
    "Moral 2 of the setup of Rice's Theorem: input-output behaviors can be specified by formulas of logic.\n",
    "\n",
    "Return to the examples:\n",
    "\n",
    "- Total: $\\forall \\; n \\; \\exists \\; m \\; \\varphi_e(n)\\downarrow m$\n",
    "\n",
    "- Total and constant: total and $\\exists \\; m \\; \\forall \\; n \\; \\varphi_e(n)\\downarrow m$.\n",
    "\n",
    "- Total and non-constant: total and $\\exists \\; n,n^{\\prime} \\; \\varphi_e(n)\\downarrow \\neq \\varphi_e(n^{\\prime})\\downarrow$.\n",
    "\n",
    "- Halts on infinitely many values: $\\forall \\; n \\; \\exists \\; m \\; (m\\geq n\\rightarrow \\varphi_e(m)\\downarrow)$"
   ]
  },
  {
   "cell_type": "markdown",
   "metadata": {},
   "source": [
    "### Uridea of verification as proof: \n",
    "\n",
    "Blend your writing of the program $e$ itself with a mathematical proof that the program $e$ does what you want it to do.\n",
    "\n",
    "Given some extensional task $P$, express it in logical terms as a formula, and then produce a program $e$ which is simulatenously a proof that $e$ has property $P$.\n",
    "\n",
    "This is in some sense not new: our proofs in mathematics (or elsewhere) are proofs $e$ of some claim $P$, and experience suggests that good proofs often contain procedures embeded inside them. "
   ]
  },
  {
   "cell_type": "markdown",
   "metadata": {},
   "source": [
    "## Curry-Howard and a glimpse at Lean"
   ]
  },
  {
   "cell_type": "markdown",
   "metadata": {},
   "source": [
    "### Recall the three most famous combinators\n",
    "\n",
    "These are the three most famous combinators, whose [bird names](https://www.angelfire.com/tx4/cus/combinator/birds.html) come from {cite}`Smullyan2000-fo`:\n",
    "\n",
    "- *Identity bird* (*I*) is $\\lambda x.x$\n",
    "- *Kestrel*  (*K*) is $\\lambda xy.  x$\n",
    "- *Starling* (*S*) is $\\lambda xyz. xz(yz)$"
   ]
  },
  {
   "cell_type": "markdown",
   "metadata": {},
   "source": [
    "### Typing identity bird\n",
    "\n",
    "In the untyped lambda calculus, we didn't assign any types to these objects. \n",
    "\n",
    "But obviously given a type or kind of things $A$, one should have that $\\lambda x: A. x$ is function from $A$ to $A$.\n",
    "\n",
    "Let us agree to write the type of functions from $A$ to $A$ as $A\\rightarrow A$.\n",
    "\n",
    "Hence, we have found that $I:A\\rightarrow A$.\n"
   ]
  },
  {
   "cell_type": "markdown",
   "metadata": {},
   "source": [
    "### We write function types with arrow\n",
    "\n",
    "More generally let us write the type of functions from $A$ to $B$ as $A\\rightarrow B$"
   ]
  },
  {
   "cell_type": "markdown",
   "metadata": {},
   "source": [
    "### Typing Kestrel\n",
    "\n",
    "Suppose that we have a type of objects $A$ and a type $B$. \n",
    "\n",
    "Then if $x$ has type $A$, written $x:A$, we should have that $\\lambda y: B . x$ has type $B\\rightarrow A$.\n",
    "\n",
    "Likewise, $\\lambda x:A . \\lambda y:B . x$ has type $A\\rightarrow (B\\rightarrow A)$.\n",
    "\n",
    "Hence $K:A\\rightarrow (B\\rightarrow A)$."
   ]
  },
  {
   "cell_type": "markdown",
   "metadata": {},
   "source": [
    "### Typing Starling\n",
    "\n",
    "Suppose that we have three types of objects $A,B,C$.\n",
    "\n",
    "Suppose that $x:A\\rightarrow (B\\rightarrow C)$ and $y:A\\rightarrow B$ and $z:A$. \n",
    "\n",
    "Then $xz: B\\rightarrow C$, since you just fed the $z:A$ value into the $x:A\\rightarrow (B\\rightarrow C)$ function and so outputted something in $B\\rightarrow C$.\n",
    "\n",
    "And $yz:B$, since you just fed the $z:A$ value into the $y:A\\rightarrow B$ function and so outputted something in $B$.\n",
    "\n",
    "Finally $xz (yz):C$ since you just fed the $yz:B$ value into the $xz: B\\rightarrow C$ function, and it resulted in something in $C$.\n",
    "\n",
    "Moving back up, one then has:\n",
    "\n",
    "- $\\lambda z:A . xz (yz)$ has type $A\\rightarrow C$.\n",
    "\n",
    "- $\\lambda y:A\\rightarrow B . \\lambda z:A . xz (yz)$ has type $(A\\rightarrow B)\\rightarrow (A\\rightarrow C)$.\n",
    "\n",
    "- $\\lambda x: A\\rightarrow (B\\rightarrow C) . \\lambda y:A\\rightarrow B . \\lambda z:A . xz (yz)$ has type $(A\\rightarrow (B\\rightarrow C))\\rightarrow ((A\\rightarrow B)\\rightarrow (A\\rightarrow C))$."
   ]
  },
  {
   "cell_type": "markdown",
   "metadata": {},
   "source": [
    "### When you forget about the terms these are tautologies\n",
    "\n",
    "The following are all tautologies of intuitionistic logic:\n",
    "\n",
    "- $A\\rightarrow A$\n",
    "\n",
    "- $A\\rightarrow (B\\rightarrow A)$\n",
    "\n",
    "- $(A\\rightarrow (B\\rightarrow C))\\rightarrow ((A\\rightarrow B)\\rightarrow (A\\rightarrow C))$\n",
    "\n",
    "(Write out the proofs)"
   ]
  },
  {
   "cell_type": "markdown",
   "metadata": {},
   "source": [
    "### The Curry-Howard isomorphism\n",
    "\n",
    "This is not an accident.\n",
    "\n",
    "The *Curry-Howard* isomorphism says that whenever you type something in our very simple typed lambda calculus, what is the \"type side\" is a theorem of intuitionistic propositional logic; and moreover, whenever you have a theorem of intuitionistic propositional logic, you can decorate with our a lambda term in our simply typed lambda calculus."
   ]
  },
  {
   "cell_type": "markdown",
   "metadata": {},
   "source": [
    "## Lean code\n",
    "\n",
    "Run these on: https://leanprover-community.github.io"
   ]
  },
  {
   "cell_type": "markdown",
   "metadata": {},
   "source": [
    "### I combinator\n",
    "\n",
    "```\n",
    "variables A : Prop\n",
    "\n",
    "variable hx : A\n",
    "\n",
    "#check hx\n",
    "```"
   ]
  },
  {
   "cell_type": "markdown",
   "metadata": {},
   "source": [
    "### K combinator\n",
    "\n",
    "```\n",
    "variables A B : Prop\n",
    "\n",
    "variable hx : A\n",
    "variable hy : B\n",
    "\n",
    "#check hx\n",
    "```"
   ]
  },
  {
   "cell_type": "markdown",
   "metadata": {},
   "source": [
    "### S combinator \n",
    "\n",
    "```\n",
    "variables A B C : Prop\n",
    "\n",
    "variable hx : A → (B → C)\n",
    "variable hy : A → B\n",
    "variable hz : A\n",
    "\n",
    "#check hy hz\n",
    "#check hx hz\n",
    "#check (hx hz) (hy hz)\n",
    "```\n"
   ]
  },
  {
   "cell_type": "markdown",
   "metadata": {},
   "source": [
    "## Proof and program verification\n",
    "\n",
    "One of the original aims of logic, as it developed in the late 19th and early 20th century, was to provide a way to argue rigorously about mathematics and the kinds of set theory or type theory that it seems to necessarily involve. The chief means of achieving this was to develop deductive systems very much like what one learns in introductory logic, and to train people in them. At the end of this training, the ideal outcome was to be able to do proofs effortlessly and without really thinking about the deductive system too much, just like one reads words on the page effortlessly and without really thinking about the underlying phonetics too much.\n",
    "\n",
    "There are two problems with this. First, the deductive system from elementary logic do not have any set theory (or type theory) built into it, and so one has to learn this separately and undergo a kind of second training (if one's goal is proofs in mathematics). Second, this kind of rigor does not help with the kind of error that we tend to be worried about in mathematics today. Today the worry tends to be mathematical proofs are so big and the product of so many hands and so many generations, that error will creep in not by a lapse in rigor by one individual hand as by miscommunications and mismatches in the hand-off of one mathematician to another.\n",
    "\n",
    "For these reasons, people have been interested in tools for the mechanical verification of proofs. It needs to be like proof-checkers for elementary logic classes, but it needs to have some set theory or type-theory built in. And it needs to be responsive to the social nature of mathematics: I need to be able to take your proof and apply it to my setting, ideally without having to recapitulate the proof line by line for my specific purpose. Of course, in traditional mathematics, I just believe your proof or I check it myself, but if we want to mechanically verify then we need to do something else.\n",
    "\n",
    "Many important proof verification systems, like [Coq](https://coq.inria.fr/) and [Lean](https://leanprover.github.io/) and [Agda](https://agda.readthedocs.io/en/v2.6.3/getting-started/what-is-agda.html), are built on extensions of the simply typed lambda calculus, extensions which go beyond the implicational fragment. They have the type theory built-in, which handles the need for some set theory or type theory. And since they are built on intimations of BHK, the proofs come with a built-in way to \"apply it\" to any setting. E.g. if you prove $p\\rightarrow q$, then your proof-term is a way to go from any proof of $p$ to a proof of $q$. And then I can just apply that proof-term to my proof of $p$.\n",
    "\n",
    "These systems are built on intuitionsitic logic rather than classical logic. We have suggested that $p\\rightarrow q$ is to be thought of as all the functions which take you from proofs of $p$ to proof of $q$. And it is not too hard to see that $p\\wedge q$ is going to consist of pairs of proofs, one of $p$ and one of $q$. And $p\\vee q$ is going to consist of proofs of either $p$ or $q$ along with a specification of which. And $\\bot$ is going to be the empty set or some uninstantiated type. But then it is not obvious that $p\\vee (p\\rightarrow \\bot)$ should consist of all the proofs: after all, there are going to be proofs that aren't proofs of $p$ and aren't refutations of $p$. Hence, in short, these approaches are all intuitionistic since on all the obvious interpretations of the propositional connectives as set-like entities, it's not clear that $p\\vee (p\\rightarrow \\bot)$ is going to have the same status as tautology for which most anything will count as a proof.\n",
    "\n",
    "A final reason that these proof assistants are being developed nowadays is, as suggested by our above discussion of Rice's theorem, $M:P$ can be interpreted both as \"M is a proof of P\", as well as \"M is a program that accomplishes P.\" While we can't say more about the theory of computation in this course, this should not be too surprising, given all the BHK-like talk of constructions we had today. Hence, in a word, these systems are simultaneously ways of verifying that programs, in a certain functional programming language, do what they say they are going to do."
   ]
  },
  {
   "cell_type": "markdown",
   "metadata": {},
   "source": []
  }
 ],
 "metadata": {
  "kernelspec": {
   "display_name": ".venv",
   "language": "python",
   "name": "python3"
  },
  "language_info": {
   "codemirror_mode": {
    "name": "ipython",
    "version": 3
   },
   "file_extension": ".py",
   "mimetype": "text/x-python",
   "name": "python",
   "nbconvert_exporter": "python",
   "pygments_lexer": "ipython3",
   "version": "3.11.7"
  }
 },
 "nbformat": 4,
 "nbformat_minor": 2
}