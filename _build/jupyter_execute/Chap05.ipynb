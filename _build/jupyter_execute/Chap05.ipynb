{
 "cells": [
  {
   "cell_type": "markdown",
   "metadata": {},
   "source": [
    "# Chapter 5\n",
    "\n",
    "In this chapter we go over the untyped lambda calculus. This was invented by Church in the early 1930s and was one of the original definitions of computability."
   ]
  },
  {
   "cell_type": "markdown",
   "metadata": {},
   "source": [
    "## Lambda notation\n",
    "\n",
    "The lambda notation is a simple notation system designed to describe the input-output behaviour of functions that are equipped with a distinguished rule. The basic idea is to take a rule like $2v+5$ and add a preface $\\lambda v.$ to turn the rule into a function."
   ]
  },
  {
   "cell_type": "markdown",
   "metadata": {},
   "source": [
    " For example \n",
    " \n",
    " - $\\lambda v. 2v+5$, for example, is a name for the function \"multiply by two and then add five.\" \n",
    " \n",
    "- $\\lambda v. 3v+5$ is a name for the function \"multiply by three and then add five.\"\n",
    "\n",
    " This process of function-formation is called *lambda-abstraction*, and the resulting expressions which begin with $\\lambda$'s are called *lambda abstracts*. "
   ]
  },
  {
   "cell_type": "markdown",
   "metadata": {},
   "source": [
    "To describe the input-output behaviour, one writes things like the following:\n",
    "\n",
    "- $(\\lambda v. 2v+5)(1) = 2\\cdot 1+5 = 7$,\n",
    "- $(\\lambda v. 2v+5)(2) = 2\\cdot 2 +5 = 9$\n",
    "- $(\\lambda v. 3v+5)(1) = 3\\cdot 1 +5 = 8$\n",
    "- $(\\lambda v. 3v+5)(2) = 3\\cdot 2+ 5 = 11$.\n",
    "\n",
    "The name given to inputting a value into a function written with lambda-abstraction, as is done in $(\\lambda v. 2v+5)(1)$, is *application*."
   ]
  },
  {
   "cell_type": "markdown",
   "metadata": {},
   "source": [
    "Using this notation, we can also describe functions that take two or more variables. For instance, $\\lambda u. \\lambda v. u\\cdot v+5$ is the function that given two inputs, multiplies them together and then adds five. \n",
    "\n",
    "The notation for input-output behaviour illustrated in the previous equations carries over here as well:\n",
    "\n",
    "- $(\\lambda u. \\lambda v. u\\cdot v+5)(2) = \\lambda v.2\\cdot v+5$\n",
    "\n",
    "- $((\\lambda u. \\lambda v. u\\cdot v+5)(2))(1) = (\\lambda v.2\\cdot v+5)(1) = 2\\cdot 1+5 = 7$\n",
    "\n",
    "- $(\\lambda u. \\lambda v. u\\cdot v+5)(3) = \\lambda v.3\\cdot v+5$\n",
    "\n",
    "- $((\\lambda u. \\lambda v. u\\cdot v+5)(3))(1) = (\\lambda v.3\\cdot v+5)(1) = 3\\cdot 1 +5 = 8$"
   ]
  },
  {
   "cell_type": "markdown",
   "metadata": {},
   "source": [
    "## Beta reduction\n",
    "\n",
    "The lambda calculus is, in the first instance, simply an attempt to axiomatize the rules for lambda-abstraction and application implicit in such simple calculations."
   ]
  },
  {
   "cell_type": "markdown",
   "metadata": {},
   "source": [
    "On the basis of these examples, it is natural to expect that $(\\lambda u.M)N$ is the result of replacing $u$ by $N$ throughout $M$."
   ]
  },
  {
   "cell_type": "markdown",
   "metadata": {},
   "source": [
    "If we use $M[u:=N]$ for the latter, we define a *one-step beta reduction* as follows:\n",
    "\n",
    "$$(\\lambda u.M)N \\triangleright_1 M[u:=N]$$\n",
    "\n",
    "The intended interpretation of a one-step beta reduction is the following: when one inputs in the value $N$ into the function $\\lambda u. M$, one goes through the term $M$, and everywhere where one sees an instance of the variable $u$, one replaces it with the input value $N$, and the result of doing so is $M[u:=N]$. "
   ]
  },
  {
   "cell_type": "markdown",
   "metadata": {},
   "source": [
    "Suppose $M = 2\\cdot u+5$ and $N=1$.\n",
    "\n",
    "Then $(\\lambda u.M)(N) =(\\lambda u. 2\\cdot u+5)(1)\\triangleright_1 2\\cdot 1+5$,"
   ]
  },
  {
   "cell_type": "markdown",
   "metadata": {},
   "source": [
    "Just as with the rules for quantifiers in predicate logic, so with Axiom Beta one should *only do the substitution if no free variables become bound as a result of the substitution*:\n",
    "\n",
    "E.g. from $\\forall \\; x \\; \\exists \\; y \\; x\\cdot y=-1$, we do not allow ourselves to infer $\\exists \\; y \\; y^2 = -1$. \n",
    "\n",
    "Likewise, from $(\\lambda x \\; \\lambda y . \\; x\\cdot y)(y)$ we do not allow ourselves to reduce to $\\lambda y . y^2$"
   ]
  },
  {
   "cell_type": "markdown",
   "metadata": {
    "vscode": {
     "languageId": "plaintext"
    }
   },
   "source": [
    "### Reduction relation\n",
    "\n",
    "We write $M\\triangleright N$ if one can use just any number of one-step beta reductions to get from $M$ to $N$.\n",
    "\n",
    "That is, $\\triangleright$ the transitive closure of the one-step beta-reduction relation $\\triangleright_1$."
   ]
  },
  {
   "cell_type": "markdown",
   "metadata": {},
   "source": [
    "## The combinators"
   ]
  },
  {
   "cell_type": "markdown",
   "metadata": {},
   "source": [
    "### The three most famous combinators\n",
    "\n",
    "These are the three most famous combinators, whose [bird names](https://www.angelfire.com/tx4/cus/combinator/birds.html) come from {cite}`Smullyan2000-fo`:\n",
    "\n",
    "- *Identity bird* (*I*) is $\\lambda x.x$\n",
    "- *Kestrel*  (*K*) is $\\lambda xy.  x$\n",
    "- *Starling* (*S*) is $\\lambda xyz. xz(yz)$"
   ]
  },
  {
   "cell_type": "markdown",
   "metadata": {},
   "source": []
  },
  {
   "cell_type": "markdown",
   "metadata": {
    "vscode": {
     "languageId": "plaintext"
    }
   },
   "source": [
    "### Proposition (the action of identity bird)\n",
    "\n",
    "For all terms $M$, one has $IM \\triangleright M$.\n",
    "\n",
    "*Proof*\n",
    "\n",
    "$IM = (\\lambda x. x)M = M$"
   ]
  },
  {
   "cell_type": "markdown",
   "metadata": {
    "vscode": {
     "languageId": "plaintext"
    }
   },
   "source": [
    "### Corollary (identity acting on itself bird)\n",
    "\n",
    "$II \\triangleright I$\n",
    "\n",
    "*Proof*\n",
    "\n",
    "Let $M$ be $I$ in the above."
   ]
  },
  {
   "cell_type": "markdown",
   "metadata": {
    "vscode": {
     "languageId": "plaintext"
    }
   },
   "source": [
    "### Proposition (the action of Kestral)\n",
    "\n",
    "For any terms $M,N$ one has $KMN \\triangleright M$.\n",
    "\n",
    "*Proof*:\n",
    "\n",
    "$(\\lambda xy.  x)MN = (\\lambda y.M)N = M$"
   ]
  },
  {
   "cell_type": "markdown",
   "metadata": {
    "vscode": {
     "languageId": "plaintext"
    }
   },
   "source": [
    "### Proposition (the action of starling)\n",
    "\n",
    "For any terms $P,Q,R$ one has $SPQR \\triangleright PR(QR)$\n",
    "\n",
    "*Proof*\n",
    "\n",
    "$SPQR = (\\lambda xyz. xz(yz))PQR = (\\lambda yz. Pz(yz))QR = (\\lambda z. Pz(Qz))R = PR(QR)$"
   ]
  },
  {
   "cell_type": "markdown",
   "metadata": {},
   "source": [
    "### Corollary (SKK acts like I)\n",
    "\n",
    "For any terms $M$, one has $SKKM \\triangleright M$.\n",
    "\n",
    "*Proof*:\n",
    "\n",
    "Let $P, Q$ be $K$ and let $M$ be $R$. Then by the above one has \n",
    "\n",
    "$SKKM = KM(KM)= M$, where the last identity follows from the action of $K$."
   ]
  },
  {
   "cell_type": "markdown",
   "metadata": {},
   "source": [
    "## Untypedness\n",
    "\n",
    "The untyped nature of this calclus is evident in claims like $II\\triangleright I$. For instance, if $I$ was just the identity function on natural numbers, it would make no sense to input in $I$ to itself. \n",
    "\n",
    "Here's what Church says about this in his 1951 book:\n",
    "\n",
    "> In particular it is not excluded that one of the elements of the range of arguments of a function $f$ should be the function $f$ itself. This possibility has frequently been denied, and indeed, if a function is defined as a correspondence between two previously given ranges, the reason for the denial is clear. Here, however, we regard the operation or rule of correspondence, which constitutes the function, as being first given, and the range of arguments then determined as consisting of the things to which the operation is applicable ({cite}`Church1951-lk` p. 2).\n",
    "\n",
    "Hence on Church's way of thinking, since his calculus is one which tries to describe rules rather than the extensional functions which they determine, one should just take the rule to have primacy, and try to determine its range of application as one goes along. For instance, presumably identity is applicable to anything."
   ]
  },
  {
   "cell_type": "markdown",
   "metadata": {},
   "source": [
    "## Associativity conventions"
   ]
  },
  {
   "cell_type": "markdown",
   "metadata": {},
   "source": [
    "### Application\n",
    "\n",
    "Application associates to the **left**\n",
    "\n",
    "That is, $MNO$ means $(MN)O$\n",
    "\n",
    "For instance, \n",
    "\n",
    "- $MNOP$ means $((MN)O)P$\n",
    "\n",
    "- $MN(OP)$ means $(MN)(OP)$"
   ]
  },
  {
   "cell_type": "markdown",
   "metadata": {
    "vscode": {
     "languageId": "plaintext"
    }
   },
   "source": [
    "### Iterated lambda abstracts\n",
    "\n",
    "Nested lambda abstracts associate to the **right**\n",
    "\n",
    "That is, $\\lambda xyz. M$ means $\\lambda x. (\\lambda y. (\\lambda z . M))$\n"
   ]
  },
  {
   "cell_type": "markdown",
   "metadata": {
    "vscode": {
     "languageId": "plaintext"
    }
   },
   "source": [
    "## The non-convergent terms"
   ]
  },
  {
   "cell_type": "markdown",
   "metadata": {
    "vscode": {
     "languageId": "plaintext"
    }
   },
   "source": [
    "### Looping \n",
    "\n",
    "Let $M$ be $(\\lambda x. xx)(\\lambda x. xx)$.\n",
    "\n",
    "Then $M\\triangleright M$\n",
    "\n",
    "*Proof*\n",
    "\n",
    "Let $N$ be $(\\lambda x. xx)$, so that $M$ is $NN$. \n",
    "\n",
    "Then one has $M = (\\lambda x. xx)N \\triangleright NN = M$."
   ]
  },
  {
   "cell_type": "markdown",
   "metadata": {
    "vscode": {
     "languageId": "plaintext"
    }
   },
   "source": [
    "### Crashing\n",
    "\n",
    "Let $M$ be $(\\lambda x. xxy)(\\lambda x. xxy)$.\n",
    "\n",
    "Then $M\\triangleright My$\n",
    "\n",
    "*Proof*:\n",
    "\n",
    "Let $N$ be $(\\lambda x. xxy)$, so that $M$ is $NN$.\n",
    "\n",
    "Then one has $M= (\\lambda x. xxy)N \\triangleright NNy = My$."
   ]
  },
  {
   "cell_type": "markdown",
   "metadata": {},
   "source": [
    "## Formalizing convergence\n",
    "\n",
    "### Normal and normalizable\n",
    "\n",
    "We say that $L$ is *normal* if no further beta-reductions can be appplied to it. \n",
    "\n",
    "We say that $L$ is *normalizable* if there is normal $M$ such that $L\\triangleright M$."
   ]
  },
  {
   "cell_type": "markdown",
   "metadata": {},
   "source": [
    "### Church-Rosser Theorem \n",
    "\n",
    "If $L\\triangleright M$ and $L\\triangleright N$, then there is $O$ such that $M \\triangleright O$ and $N\\triangleright O$.\n",
    "\n",
    "*Proof*:\n",
    "\n",
    "This is a hard theorem. See e.g. {cite}`Roger_Hindley2008-vw` p. 14 and Appendix A2."
   ]
  },
  {
   "cell_type": "markdown",
   "metadata": {},
   "source": [
    "### Corollary (normal forms are unique)\n",
    "\n",
    "If a term is normalizable, then its normal form is unique. \n",
    "\n",
    "*Proof*:\n",
    "\n",
    "Suppose that $L\\triangleright M$ And  $L\\triangleright N$, and both $M,N$ are normal. Then by Church-Rosser, there is $O$ such that $M \\triangleright O$ and $N\\triangleright O$. But since $M,N$ are normal, no further beta-reductions can be applied to them. Hence they are identical (module change of bound variables). "
   ]
  },
  {
   "cell_type": "markdown",
   "metadata": {},
   "source": [
    "## Defining the numbers"
   ]
  },
  {
   "cell_type": "markdown",
   "metadata": {},
   "source": [
    "### Iterates of successor\n",
    "\n",
    "One way to think about numbers is a follows. \n",
    "\n",
    "There is $0$, and there is the successor function which sends $x$ to $x+1$, and the numbers are just \n",
    "\n",
    "- $0 = 0$, i.e. 0 is the first\n",
    "- $1 = 0+1$, i.e. 1 is the result of applying successor *once* to the first thing\n",
    "- $2 = (0+1)+1$, i.e. 2 is the result of applying successor *twice* to the first thing\n",
    "- $3 = ((0+1)+1)+1$, i.e. 3 is the result of applying successor *thrice* to the first thing\n",
    "\n",
    "To implement these in the untyped lambda calculus, one needs to find some functions that correspond to these ideas."
   ]
  },
  {
   "cell_type": "markdown",
   "metadata": {},
   "source": [
    "### Church numerals \n",
    "\n",
    "Church's idea was to lambda abstract over the successor and zero and define, for each nuatural number $n$, the *Church numeral* $\\ulcorner n\\urcorner$ as follows:\n",
    "\n",
    "- $\\ulcorner 0\\urcorner$ is $\\lambda S. \\lambda z. z$\n",
    "- $\\ulcorner 1\\urcorner$ is $\\lambda S. \\lambda z. Sz$\n",
    "- $\\ulcorner 2\\urcorner$ is $\\lambda S. \\lambda z. SSz$\n",
    "- $\\ulcorner 3\\urcorner$ is $\\lambda S. \\lambda z. SSSz$\n",
    "\n",
    "etc. \n",
    "\n",
    "Note that on this way of talking, $n$ is a natural number (whatever that is), and $\\ulcorner n\\urcorner$ is a term in the untyped lambda calculus.\n",
    "\n",
    "Key point about definition: each Church numeral is normal."
   ]
  },
  {
   "cell_type": "markdown",
   "metadata": {},
   "source": [
    "### Lambda definable\n",
    "\n",
    "A function $f:\\mathbb{N}\\rightarrow \\mathbb{N}$ is *lambda definable* if there is a term $M$ of the untype lambda calculus such that for all $n,m$ one has \n",
    "\n",
    "$f(n)=m$ iff $M\\ulcorner n\\urcorner \\triangleright \\ulcorner m\\urcorner$\n",
    "\n",
    "Note that each $M\\ulcorner n\\urcorner$ is thereby normalizable, since $ \\ulcorner m\\urcorner$ is normal.\n",
    "\n",
    "Hence we have Church's basic idea: computation can be understood in terms of successive beta reduction (i.e. normalization) of terms which represent the numbers. "
   ]
  },
  {
   "cell_type": "markdown",
   "metadata": {},
   "source": [
    "### Theorem (equivalence of lambda definability and computable)\n",
    "\n",
    "A function $f:\\mathbb{N}\\rightarrow \\mathbb{N}$ is computable by a Turing machine iff it is lambda definable.\n",
    "\n",
    "For the right-to-left direction, one simply implements beta-reduction on a Turing machine. The Church-Rosser theorem says no matter how you reduce you will eventually get to the right answer. Indeed, Church even says that  beta reduction provides an intuitive algorithm for the calculation of the values:\n",
    "\n",
    "> It is clear that, in the case of any $\\lambda$-definable fucntion of positive integers, the process of reduction of formulas to normal form provides an algorithm for the effective calculation of particular values of the function ({cite}`Church1936-ru` p. 349, see remark on effectively calucluability on p. 356).\n",
    "\n",
    "The hard part of the left to right direction is the fixed point theorem. "
   ]
  },
  {
   "cell_type": "markdown",
   "metadata": {},
   "source": [
    "### Theorem (fixed point theorem)\n",
    "\n",
    "For each lambda-term $M$ there is a lambda-terms $N,L$ such that $MN\\triangleleft L$ and $N\\triangleleft L$.\n",
    "\n",
    "*Proof*\n",
    "\n",
    "Let $W$ be $\\lambda x. v(xx)$, and let $N$ be $(\\lambda v.WW)M$. \n",
    "\n",
    "Then one has\n",
    "\n",
    "$MN \\hspace{2mm} = \\hspace{2mm} M( (\\lambda v. WW)M)$ by definition of $N$\n",
    "\n",
    "$\\hspace{5mm}\\triangleright\\hspace{2mm} M(W[v:=M] W[v:=M])$ by beta reduction \n",
    "\n",
    "and \n",
    "\n",
    "$N = \\hspace{2mm} (\\lambda v. WW)M$ by definition of $N$\n",
    "\n",
    "$\\hspace{5mm}\\triangleright \\hspace{2mm} W[v:=M] W[v:=M]$ by beta reduction\n",
    "\n",
    "$\\hspace{5mm}=\\hspace{2mm} (\\lambda x. M(xx)) W[v:=M]$ by definition of $W$\n",
    "\n",
    "$\\hspace{5mm}\\triangleright\\hspace{2mm} M(W[v:=M] W[v:=M])$ by beta reduction \n",
    "\n"
   ]
  },
  {
   "cell_type": "markdown",
   "metadata": {},
   "source": []
  },
  {
   "cell_type": "markdown",
   "metadata": {},
   "source": []
  },
  {
   "cell_type": "markdown",
   "metadata": {},
   "source": []
  },
  {
   "cell_type": "markdown",
   "metadata": {},
   "source": []
  }
 ],
 "metadata": {
  "kernelspec": {
   "display_name": ".venv",
   "language": "python",
   "name": "python3"
  },
  "language_info": {
   "codemirror_mode": {
    "name": "ipython",
    "version": 3
   },
   "file_extension": ".py",
   "mimetype": "text/x-python",
   "name": "python",
   "nbconvert_exporter": "python",
   "pygments_lexer": "ipython3",
   "version": "3.12.0"
  }
 },
 "nbformat": 4,
 "nbformat_minor": 2
}