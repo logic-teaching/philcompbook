{
 "cells": [
  {
   "cell_type": "markdown",
   "metadata": {},
   "source": [
    "# Chapter 9"
   ]
  },
  {
   "cell_type": "markdown",
   "metadata": {},
   "source": [
    "### Definition (Running time complexity of a machine)\n",
    "\n",
    "Suppose that a Turing machine $M$ halts on all inputs. \n",
    "\n",
    "Recall that the number of symbols is assumed to be finite. \n",
    "\n",
    "Then for each $n$, there are only finitely many strings of symbols of length $n$.\n",
    "\n",
    "For each $n$, let $f(n)$ be the maximum number of steps which machine $M$ takes to halt on inputs of length $n$.\n",
    "\n",
    "Then this function $f$ is *the running time complexity* of $M$. \n",
    "\n",
    "This running $f$ time is *polynomial* if there is a polynomial $p(n)$ and constant $n_0\\geq 0$ such that $f(n)\\leq c\\cdot p(n)$ for all $n\\geq n_0$. \n",
    "\n",
    "Since the first term of a polynomial on the natural numbers eventually dominates the other terms, this is equivalent to there being constants $k>0, n_0\\geq 0, c>0$ such that $f(n)\\leq c\\cdot n^k$ for all $n\\geq n_0$.\n",
    "\n",
    "Similarly, the Turing machine $M$ is itself said to be *polynomial-time* if its running time is polynomial."
   ]
  },
  {
   "cell_type": "markdown",
   "metadata": {},
   "source": [
    "### Examples and non-examples of polynomial-time Turing machines\n",
    "\n",
    "- *Example: Sweeping across and then halting*: Consider the Turing machine that just reads the input tape from left to right and then halts. This has running time $n$.\n",
    "\n",
    "- *Example: Sweeping there and back and then halting*: Consider the Turing machine that just reads the input tape from left to right and then goes right to left back across the tape and halts at the first cell. This has running time $2n$.\n",
    "\n",
    "- *Example: Making a duplicate of input*: Consider the Turing machine that duplicates its input tape by repeatedly sweeping from left to right and back and copying a single cell on each sweep. If the input has length $n$, it has to sweep $n$-many times and each sweep takes $2n$-steps, counting both back and forth. Then it has running time $2n\\cdot n = 2n^2$.\n",
    "\n",
    "- *Non-example: from a string of $n$ ones, make a string of $2^n$ ones*: Consider the Turing machine that when given an input of $n$-many $1$'s, moves over to the right and writes two ones, and then sweeps back and forth doubling the second block of ones and crossing one off the first block of ones on each sweep. This has running time $\\sum_{i=1}^n (2(2^i)^2+(n-i))=1/6 (3 n^2 - 3 n + 4^{n + 2} - 16)$."
   ]
  },
  {
   "cell_type": "markdown",
   "metadata": {},
   "source": [
    "### Definition (The class $P$)\n",
    "\n",
    "A set $A$ of strings from some finite alphabet is *polynomial time computable* or in the class *P* if there is a polynomial time machine which computes it."
   ]
  },
  {
   "cell_type": "markdown",
   "metadata": {},
   "source": [
    "### Examples and non-examples of problems in P"
   ]
  },
  {
   "cell_type": "code",
   "execution_count": 9,
   "metadata": {},
   "outputs": [
    {
     "ename": "ModuleNotFoundError",
     "evalue": "No module named 'networkx'",
     "output_type": "error",
     "traceback": [
      "\u001b[0;31m---------------------------------------------------------------------------\u001b[0m",
      "\u001b[0;31mModuleNotFoundError\u001b[0m                       Traceback (most recent call last)",
      "Cell \u001b[0;32mIn[9], line 1\u001b[0m\n\u001b[0;32m----> 1\u001b[0m \u001b[38;5;28;01mimport\u001b[39;00m \u001b[38;5;21;01mnetworkx\u001b[39;00m \u001b[38;5;28;01mas\u001b[39;00m \u001b[38;5;21;01mnx\u001b[39;00m\n\u001b[1;32m      2\u001b[0m \u001b[38;5;28;01mimport\u001b[39;00m \u001b[38;5;21;01mmatplotlib\u001b[39;00m\u001b[38;5;21;01m.\u001b[39;00m\u001b[38;5;21;01mpyplot\u001b[39;00m \u001b[38;5;28;01mas\u001b[39;00m \u001b[38;5;21;01mplt\u001b[39;00m\n\u001b[1;32m      4\u001b[0m \u001b[38;5;66;03m# Create a graph\u001b[39;00m\n",
      "\u001b[0;31mModuleNotFoundError\u001b[0m: No module named 'networkx'"
     ]
    }
   ],
   "source": [
    "import networkx as nx\n",
    "import matplotlib.pyplot as plt\n",
    "\n",
    "# Create a graph\n",
    "G = nx.Graph()\n",
    "\n",
    "# Add edges (NetworkX automatically adds nodes)\n",
    "G.add_edge('A', 'B')\n",
    "G.add_edge('B', 'C')\n",
    "G.add_edge('C', 'A')\n",
    "\n",
    "# Perform BFS and get the traversal order\n",
    "bfs_nodes = list(nx.bfs_tree(G, source='A'))\n",
    "\n",
    "# Draw the graph\n",
    "pos = nx.spring_layout(G)\n",
    "nx.draw(G, pos, with_labels=True, hold=False)\n",
    "\n",
    "# Highlight nodes in traversal order\n",
    "for count, node in enumerate(bfs_nodes):\n",
    "    nx.draw_networkx_nodes(G, pos, nodelist=[node], node_color='r', node_size=500, alpha=0.8)\n",
    "    plt.show()"
   ]
  },
  {
   "cell_type": "code",
   "execution_count": null,
   "metadata": {},
   "outputs": [],
   "source": []
  }
 ],
 "metadata": {
  "kernelspec": {
   "display_name": ".venv",
   "language": "python",
   "name": "python3"
  },
  "language_info": {
   "codemirror_mode": {
    "name": "ipython",
    "version": 3
   },
   "file_extension": ".py",
   "mimetype": "text/x-python",
   "name": "python",
   "nbconvert_exporter": "python",
   "pygments_lexer": "ipython3",
   "version": "3.12.3"
  }
 },
 "nbformat": 4,
 "nbformat_minor": 2
}
