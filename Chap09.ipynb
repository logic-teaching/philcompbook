{
 "cells": [
  {
   "cell_type": "markdown",
   "metadata": {},
   "source": [
    "# Chapter 9"
   ]
  },
  {
   "cell_type": "markdown",
   "metadata": {},
   "source": [
    "### Definition (Running time complexity of a machine)\n",
    "\n",
    "Suppose that a Turing machine $M$ halts on all inputs. \n",
    "\n",
    "Recall that the number of symbols is assumed to be finite. \n",
    "\n",
    "Then for each $n$, there are only finitely many strings of symbols of length $n$.\n",
    "\n",
    "For each $n$, let $f(n)$ be the maximum number of steps which machine $M$ takes to halt on inputs of length $n$.\n",
    "\n",
    "Then this function $f$ is *the running time complexity* of $M$. \n",
    "\n",
    "This running $f$ time is *polynomial* if there is a polynomial $p(n)$ and constant $n_0\\geq 0$ such that $f(n)\\leq c\\cdot p(n)$ for all $n\\geq n_0$. \n",
    "\n",
    "This is equivalent to there being constants $k>0, n_0\\geq 0, c>0$ such that $f(n)\\leq c\\cdot n^k$ for all $n\\geq n_0$.\n",
    "\n",
    "Similarly, the Turing machine $M$ is itself said to be *polynomial-time* if its runnig time is polynomial."
   ]
  },
  {
   "cell_type": "markdown",
   "metadata": {},
   "source": [
    "### Definition (The class $P$)\n",
    "\n",
    "A set $A$ of strings from some finite alaphabet is *polynomial time computable* or in the class *P* if there is a polynomial time running machine which computes it."
   ]
  },
  {
   "cell_type": "code",
   "execution_count": null,
   "metadata": {},
   "outputs": [],
   "source": []
  }
 ],
 "metadata": {
  "language_info": {
   "name": "python"
  }
 },
 "nbformat": 4,
 "nbformat_minor": 2
}
