{
 "cells": [
  {
   "cell_type": "markdown",
   "metadata": {},
   "source": [
    "# Chapter 7"
   ]
  },
  {
   "cell_type": "markdown",
   "metadata": {},
   "source": [
    "## Kleene on the intuitive notion\n",
    "\n",
    "Kleene's 1952 *Introduction to Metamathematics* {cite}`Kleene1952-jt` was the first metalogic textbook in English, which was the successor in many ways of the Hilbert-Bernays *Grundlagen* {cite}`hilbert1934`, {cite}`hilbert1939`. Kleene's book develops the theory of recursive functions in detail, and contains commentary on the theory, which he developed together with Church, Turing, and others in the mid 1930s."
   ]
  },
  {
   "cell_type": "markdown",
   "metadata": {},
   "source": [
    "Here is how Kleene understands the pre-theoretic notion, which following Church he calls *effective calcuability*:\n",
    "\n",
    "> Since our original notion of effective calcuability of a function (or the effective decidability of a predicate) is a somewhat vague intuitive one, the thesis cannot be proven.\n",
    "[P] The intuitive notion however is real, in that it vouchsafes as effectively calculable many particular functions ($\\S$ 30), and on the other hand enables us to recognize that our knowledge about many other functions is insufficient to place them in the category of effectively calcuable functions ({cite}`Kleene1952-jt` p. 317)"
   ]
  },
  {
   "cell_type": "markdown",
   "metadata": {},
   "source": [
    "A couple of words about the terminology:\n",
    "\n",
    "- *Intuition* does not appear to have any connotation of the Kantian perception-like notion. \n",
    "\n",
    "- *Vague* does not have any connotations which we today associate it with it, namely as a concept which is suspectible to the sorities paradox (e.g. the paradox of the heap).  "
   ]
  },
  {
   "cell_type": "markdown",
   "metadata": {},
   "source": [
    "Kleene's point seems to be that the pretheoretic notion of effectively calcuable is \"real\" in that there are many examples which satisfy the condition, and there are many which do not satisfy the condition, and each of these is widely assented to. "
   ]
  },
  {
   "cell_type": "markdown",
   "metadata": {},
   "source": [
    "As for examples which satisfy the condition, the examples he gives in $\\S$ 30 are:\n",
    "\n",
    "- the Euclidean algorithm for prime divisors\n",
    "- testing for whether one polynomial divdes another\n",
    "- testing for whether something is a formula or proof\n",
    "\n",
    "Here is how he summarizes these examples in $\\S$ 30:\n",
    "\n",
    "> We know examples in mathematics of general questions, such that any particular instance of the question can be answered by a preassigned uniform method. More precisely, in such an example, there is an infinite class of particular questions, and a procedure in relation to that class, both being described in advance, such that if we thereafter select any particular question of the class, the procedure will surely apply and lead us to a definite answer, either \"yes\" or \"no,\" to the particular question asked. [P] Similarly, we may have a \\emph{calculation procedure} or \\emph{algorihm} (and hence \\emph{a calculation} problem) in relation to a general question which requires for an answer, not \"yes\" and \"no\", but the exhbiting of some object ({cite}`Kleene1952-jt` p. 317)\n"
   ]
  },
  {
   "cell_type": "markdown",
   "metadata": {},
   "source": [
    "As for examples which do not satisfy the condition, he considers a set of natural numbers, like the halting set, which can be defined by a $\\Sigma_1$-formula $\\exists \\; y \\; R(x,y)$ but not a $\\Pi_1$-formula (and so is not recursive, per his theorem).\n",
    "\n",
    "He then considers the function $f$ given by \n",
    "$$\n",
    "f(x) = \\begin{cases}\n",
    "    y+1 & \\text{if $y$ is least with $R(x,y)$} \\\\ \n",
    "    0 & \\text{otherwise}\n",
    "\\end{cases}\n",
    "$$\n",
    "\n",
    "This is not effectively calculable, according to Kleene, because while it suggests a search procedure to determine the value of $f(x)$, namely start checking whether $R(x,0), R(x,1), R(x,2), \\ldots$, nonetheless\n",
    "\n",
    "> the completion of the examination of all [countably infinitely many] propositions, which the classical definition envigages, is impossible for a human computor  ({cite}`Kleene1952-jt` p. 317)"
   ]
  },
  {
   "cell_type": "markdown",
   "metadata": {},
   "source": []
  },
  {
   "cell_type": "markdown",
   "metadata": {},
   "source": []
  }
 ],
 "metadata": {
  "language_info": {
   "name": "python"
  }
 },
 "nbformat": 4,
 "nbformat_minor": 2
}
