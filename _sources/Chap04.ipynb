{
 "cells": [
  {
   "cell_type": "markdown",
   "id": "7bf1f294",
   "metadata": {
    "slideshow": {
     "slide_type": "slide"
    }
   },
   "source": [
    "# Philcomp Week 2 Thursday"
   ]
  },
  {
   "cell_type": "markdown",
   "id": "db4474ec",
   "metadata": {
    "slideshow": {
     "slide_type": "slide"
    }
   },
   "source": [
    "**Outline**\n",
    "\n",
    "[Review and summary](#Review-and-summary)\n",
    "\n",
    "[A survey of non-computability](#A-survey-of-non-computability)\n",
    "\n",
    "[What we are doing when we are studying non-computability](#What-we-are-doing-when-we-are-studying-non-computability)\n",
    "\n",
    "[References](#References)"
   ]
  },
  {
   "cell_type": "markdown",
   "id": "1c019e93",
   "metadata": {
    "slideshow": {
     "slide_type": "slide"
    }
   },
   "source": [
    "# Review and summary"
   ]
  },
  {
   "cell_type": "markdown",
   "id": "e06a13da",
   "metadata": {
    "slideshow": {
     "slide_type": "slide"
    }
   },
   "source": [
    "**The Turing model of computation**\n",
    "\n",
    "The Turing model of computation is the received model of computation, the one which everyone uses.\n",
    "\n",
    "We went over the formal definition last time, and we illustrated it with examples and simulators.\n",
    "\n",
    "In general, the idea is: *a Turing machine program is a set of instructions for the bounded and local action of an idealized agent*.\n",
    "\n",
    "The actions are limited to reading and writing symbols, and the actions are defined in terms of an agent's internal states.\n",
    "\n",
    "*The computation of the machine is then the deterministic compliance with the instructions in response to a single piece of external stimuli*.\n",
    "\n",
    "People have explored what happens when you weaken 'deterministic' and you change 'single piece' to 'many pieces.' We will revisit this at various points. "
   ]
  },
  {
   "cell_type": "markdown",
   "id": "eefe360e",
   "metadata": {
    "slideshow": {
     "slide_type": "slide"
    }
   },
   "source": [
    "**Definition (halting)**\n",
    "\n",
    "If $i$ is an index for a Turing machine program and $n$ is a natural number, then we say \"the program $i$ halts on input $n$\", written $\\varphi_i(n)\\downarrow$, if when you run the program with input $n$, then it eventually reaches a halting state.\n",
    "\n",
    "The negation of $\\varphi_i(n)\\downarrow$ is writen $\\varphi_i(n)\\uparrow$, that is, this indicates that the program does not halt.\n",
    "\n",
    "What is a halting state? It is just a state of the machine that doesn't have any further instructions in the program about what to do if you see that state. "
   ]
  },
  {
   "cell_type": "markdown",
   "id": "e2d84a67",
   "metadata": {
    "slideshow": {
     "slide_type": "slide"
    }
   },
   "source": [
    "**Definition (computable)**\n",
    "\n",
    "A set of natural numbers $A$ is *computable* if there is a Turing machine program $i$ such that \n",
    "\n",
    "1. for all natural numbers $n$, one has $\\varphi_i(n)\\downarrow$ and $\\varphi_i(n)\\downarrow=0$ or $\\varphi_i(n)\\downarrow=1$\n",
    "\n",
    "2. for all natural numbers $n$, one has $n$ in $A$ iff $\\varphi_i(n)=1$.\n",
    "\n",
    "That is, a set of natural numbers is computable if there is a Turing machine program which halts on all inputs, and when fed a natural number can determine whether the number is in the set."
   ]
  },
  {
   "cell_type": "markdown",
   "id": "a0470fcd",
   "metadata": {
    "slideshow": {
     "slide_type": "slide"
    }
   },
   "source": [
    "**Two broadly conventional points**\n",
    "\n",
    "First, on terminology: \n",
    "\n",
    "Synonyms for *computable* are *recursive* or *decidable*. \n",
    "\n",
    "Different communities have strong views about which you should use; I will tend to stick with computable.\n",
    "\n",
    "Sometimes *effective* means the same thing as computable and recursive.\n",
    "\n",
    "Othertimes *effective* can be used in a broader sense."
   ]
  },
  {
   "cell_type": "markdown",
   "id": "a93763f5",
   "metadata": {
    "slideshow": {
     "slide_type": "slide"
    }
   },
   "source": [
    "Second, on 'what kind of thing gets computed': the definition was in terms of computability of sets of numbers, because we can think about Turing machines inputting and outputting numbers. \n",
    "\n",
    "More generally, Turing machines input and output strings from a finite alphabet, and hence you can think about the computabilty of sets of such strings. And you can 'encode' a bunch of things in such strings, like finite graphs or finite polynomials or formulas. \n",
    "\n",
    "In some sense this is a conventional choice: you have to choose 'what kind of thing gets computed', but your choice will probably be dictated by interest at hand, and any two reasonable choices usually end up not formally changing much. "
   ]
  },
  {
   "cell_type": "markdown",
   "id": "3888d7d8",
   "metadata": {
    "slideshow": {
     "slide_type": "slide"
    }
   },
   "source": [
    "**The map, revisited**\n",
    "\n",
    "This is the basic map:\n",
    "\n",
    "![The map](map.png)\n",
    "\n",
    "The map on left is of non-computable sets of numbers. The bottom is the computable or recursive sets of numbers.\n",
    "\n",
    "The map on right zooms in on the computable sets of numbers and classifies them further. "
   ]
  },
  {
   "cell_type": "markdown",
   "id": "14de7dfa",
   "metadata": {
    "slideshow": {
     "slide_type": "slide"
    }
   },
   "source": [
    "This is the map with the computable / recursive sets highlighted:\n",
    "\n",
    "![The map](map-computable.png)"
   ]
  },
  {
   "cell_type": "markdown",
   "id": "529bb8f4",
   "metadata": {
    "slideshow": {
     "slide_type": "slide"
    }
   },
   "source": [
    "**The halting set and non-computability**\n",
    "\n",
    "Define $K = \\{e: \\varphi_e(e)\\downarrow\\}$.\n",
    "\n",
    "Last time we went over the argument that $K$ is not computable. \n",
    "\n",
    "Hence we know at least one example of a set which is not computable.\n",
    "\n",
    "---"
   ]
  },
  {
   "cell_type": "markdown",
   "id": "15921d80",
   "metadata": {
    "slideshow": {
     "slide_type": "slide"
    }
   },
   "source": [
    "# A survey of non-computability"
   ]
  },
  {
   "cell_type": "markdown",
   "id": "a9443dbc",
   "metadata": {
    "slideshow": {
     "slide_type": "slide"
    }
   },
   "source": [
    "We want to know what other sets are not computable. \n",
    "\n",
    "Today we do a survey of non-computability.\n",
    "\n",
    "Even if you only care about what is computable, knowing what is on the other side can help you get a sense of the terrain, and can help you understand what might be at stake in deciding whether something is computable.\n",
    "\n",
    "The examples all require a bit of 'local knowledge.' Hence, not all of the examples will make sense to all of you, at least on the first pass. \n",
    "\n",
    "I will succeed if I can give each of an example or two that you already care about of something that is not computable."
   ]
  },
  {
   "cell_type": "markdown",
   "id": "9086b16b",
   "metadata": {
    "slideshow": {
     "slide_type": "slide"
    }
   },
   "source": [
    "**Kleene's characterization of computability in terms of definability**\n",
    "\n",
    "Kleene showed that a set of natural numbers is computable iff both\n",
    "\n",
    "1. it has a definition in terms of a single unbounded existential quantifier over natural numbers, a so-called $\\Sigma_1$-definition.\n",
    "\n",
    "2. it has a definition in terms of single unbounded universal quantifier over natural numbers, a so-called $\\Pi_1$-definition."
   ]
  },
  {
   "cell_type": "markdown",
   "id": "e106385d",
   "metadata": {
    "slideshow": {
     "slide_type": "slide"
    }
   },
   "source": [
    "\n",
    "This is the logician's preferred characterization of computability. You can use it to show that e.g. the set of primes is computable, since it has a definition only in terms of bounded quantifiers:\n",
    "\n",
    "Primes $=\\{n : \\; \\exists \\; x \\; n\\geq 1 \\wedge \\forall \\; 1<m\\leq n \\; \\forall \\; 1<\\ell<n \\; n\\neq m\\cdot \\ell\\}$\n",
    "\n",
    "You are allowed to use addition, multiplication, exponentiation, and less-than in the definition, and any bounded quantifiers (like the one in the example) and all of propositional logic (and, or, negation, if then). \n",
    "\n",
    "See e.g. Soare 2016. "
   ]
  },
  {
   "cell_type": "markdown",
   "id": "de3b7d57",
   "metadata": {
    "slideshow": {
     "slide_type": "slide"
    }
   },
   "source": [
    "**Tarski's Theorem on Truth**\n",
    "\n",
    "Tarski considered the following set of formulas in the language of arithmetic:\n",
    "\n",
    "$\\{\\varphi: \\varphi \\mbox{ is true of the natural numbers}\\}$\n",
    "\n",
    "He used the liar paradox to show that this set was not definable in the natural numbers.\n",
    "\n",
    "Hence, by Kleene's result, it is not computable.\n",
    "\n",
    "It is beyond the very top of our map, it is \"non-arithmetical\", where this means \"not definable in first-order arithmetic.\"\n",
    "\n",
    "See e.g. Shoenfield 2018 and Rautenberg 2010."
   ]
  },
  {
   "cell_type": "markdown",
   "id": "6fca4bd2",
   "metadata": {
    "slideshow": {
     "slide_type": "slide"
    }
   },
   "source": [
    "**Gödel's First Incompleteness Theorem**\n",
    "\n",
    "Suppose a theory $T$ contains basic axioms for the arithmetic of addition and multiplication and is deductively consistent, that is, it does not prove a contradiction.\n",
    "\n",
    "If $T$ is computable, \n",
    "\n",
    "then $T$ is deductively incomplete, that is, there is a formula $\\varphi$ such that $T$ doesn't prove $\\varphi$ and $T$ doesn't prove $\\neg \\varphi$. \n",
    "\n",
    "See e.g. Shoenfield 2018 and Rautenberg 2010."
   ]
  },
  {
   "cell_type": "markdown",
   "id": "8c6b4e44",
   "metadata": {
    "slideshow": {
     "slide_type": "slide"
    }
   },
   "source": [
    "**Gödel's First Incompleteness Theorem (expressed contrapositively)**\n",
    "\n",
    "Suppose a theory $T$ contains basic axioms for the arithmetic of addition and multiplication and is deductively consistent, that is, it does not prove a contradiction.\n",
    "\n",
    "If $T$ is deductively complete, that is, for all formulas $\\varphi$ either $T$ proves $\\varphi$ or $T$ proves $\\neg \\varphi$, \n",
    "\n",
    "then $T$ is not computable."
   ]
  },
  {
   "cell_type": "markdown",
   "id": "90c8aa6f",
   "metadata": {
    "slideshow": {
     "slide_type": "slide"
    }
   },
   "source": [
    "**Completions of PA and ZF(C) are not computable**\n",
    "\n",
    "The usual axioms for arithemtic are called PA, for 'Peano axioms.'\n",
    "\n",
    "The usual axioms for set theory are called ZF(C), for 'Zermelo-Fraenkel set theory (with Choice)'.\n",
    "\n",
    "For all we know, these are deductively consistent. \n",
    "\n",
    "Choose any *completion* of them, i.e. any way of filling them out so that they 'make calls' on all formulas. \n",
    "\n",
    "By Gödel's First Theorem, this is not computable.\n",
    "\n",
    "In a word: completions of PA and ZF(C) are not computable.\n",
    "\n",
    "See \"PA degrees\" in Soare 2016. "
   ]
  },
  {
   "cell_type": "markdown",
   "id": "0a5e90dd",
   "metadata": {
    "slideshow": {
     "slide_type": "slide"
    }
   },
   "source": [
    "**Comparing Tarski and Gödel's Theorems**\n",
    "\n",
    "Tarski's theorem concerned one particular completion of PA, the 'real one' which is true of the natural numbers.\n",
    "\n",
    "Gödel's theorem concerns any completion of PA, regardless of whether it is true of the natural numbers.\n",
    "\n",
    "Tarski's set $\\{\\varphi: \\varphi $ is true of the natural numbers $\\}$ is not arithmetically definable. \n",
    "\n",
    "There are completions of PA which are $\\Delta_2$-definable, i.e. definable in both a $\\Sigma_2$ and $\\Pi_2$-way."
   ]
  },
  {
   "cell_type": "markdown",
   "id": "517d21f5",
   "metadata": {
    "slideshow": {
     "slide_type": "slide"
    }
   },
   "source": [
    "**Finding Gödel's Theorem in mathematical nature**\n",
    "\n",
    "One can use the methods of Gödel's Theorem to find analogous phenomena in mathematical nature, such as the following (in 1 we repeat Gödel's Theorem in the desired format):\n",
    "\n",
    "1. There are computable theories which do not have computable completions.\n",
    "\n",
    "2. There are computable continuous functions on the unit interval without a computable supremum. \n",
    "\n",
    "3. There are computable commutative rings without a computable prime ideal. \n",
    "\n",
    "4. There are computable uniformly continuous functions from the unit interval to itself without a computable fixed point. \n",
    "\n",
    "These and many other results are documented in the $WKL_0$ chapter of Simpson 2009"
   ]
  },
  {
   "cell_type": "markdown",
   "id": "17c72683",
   "metadata": {
    "slideshow": {
     "slide_type": "slide"
    }
   },
   "source": [
    "**Characteristic functions**\n",
    "\n",
    "Given a set $A$ of natural numbers $\\mathbb{N}$, one can form its characteristic function \n",
    "\n",
    "$$\n",
    "\\omega(n) = \\begin{cases}\n",
    "    1 & \\text{if } n\\in A \\\\ \n",
    "    0 & \\text{otherwise.}\n",
    "\\end{cases}\n",
    "$$\n",
    "\n",
    "And given a function $\\omega^{\\prime}:\\mathbb{N}\\rightarrow \\{0,1\\}$ one can form the associated set\n",
    "\n",
    "$$A^{\\prime}=\\{n : \\omega^{\\prime}(n)=1\\}$$\n",
    "\n",
    "Hence, sets of natural numbers can be viewed as functions from natural numbres to $0,1$.\n",
    "\n",
    "This is really just a reformatting."
   ]
  },
  {
   "cell_type": "markdown",
   "id": "9c2d3e6a",
   "metadata": {
    "slideshow": {
     "slide_type": "slide"
    }
   },
   "source": [
    "**Viewing the subsets of natural numbers as points in a space**\n",
    "\n",
    "One way to visualize sets of natural numbers is as paths through the infinte binary branching tree.\n",
    "\n",
    "This is called Cantor space (draw the picture). \n",
    "\n",
    "There is a natural topology on it, where distance between two paths is given by measuring their least point of disagreement. The basic opens are just the paths through a given finite string, e.g. $[\\sigma] = \\{\\omega: \\forall \\; i<\\left|\\sigma\\right| \\; \\omega(i)=\\sigma(i)\\}$.\n",
    "\n",
    "There is a natural probability measure on it, where $P([\\sigma]) = 2^{-\\left|\\sigma\\right|}$.\n",
    "\n",
    "One can generate non-computable sets by focusing on effective topology (genericity) or effective probability (randomness). In the interests of space, we focus on the latter."
   ]
  },
  {
   "cell_type": "markdown",
   "id": "ba3d8d79",
   "metadata": {
    "slideshow": {
     "slide_type": "slide"
    }
   },
   "source": [
    "**Randomness**\n",
    "\n",
    "A *c.e. open* $U$ is a subset of Cantor space of the form $U=\\bigcup_i [\\sigma_i]$, where $\\sigma_0, \\sigma_1, \\ldots$ is a computable sequence of strings.\n",
    "\n",
    "A *Martin-L\\\"of test* is a computable sequence of c.e. opens $U_0, U_1, \\ldots$ such that $P(U_i)\\leq 2^{-i}$. \n",
    "\n",
    "Note that $P(\\bigcap_i U_i)=0$. \n",
    "\n",
    "A point $\\omega$ is *Martin-L\\\"of random* if $\\omega$ not in $\\bigcap_i U_i$ for any c.e. open.\n",
    "\n",
    "See Downey-Hirschfeldt 2010.\n",
    "\n",
    "---"
   ]
  },
  {
   "cell_type": "markdown",
   "id": "af683b11",
   "metadata": {
    "slideshow": {
     "slide_type": "slide"
    }
   },
   "source": [
    "Intuitively, a point is Martin-L\\\"of random if it escapes all effective probability zero sets. That is, it is not both effectively and probabilistically impossible.\n",
    "\n",
    "Computable points are not random since one can choose $U_i=[\\omega\\upharpoonright i]$, where this refers to the initial segment of $\\omega$ of length $i$.\n",
    "\n",
    "---"
   ]
  },
  {
   "cell_type": "markdown",
   "id": "2c9d0ac1",
   "metadata": {
    "slideshow": {
     "slide_type": "slide"
    }
   },
   "source": [
    "For a long time, it was not understood where exactly the random points occur on the map to the left. In the 1980s, this was resolved by Kucera-Gács, who showed that they are unbounded as you go up (although it might be up on the $\\Sigma$ side or up on the $\\Pi$ side)"
   ]
  },
  {
   "cell_type": "markdown",
   "id": "33318390",
   "metadata": {
    "slideshow": {
     "slide_type": "slide"
    }
   },
   "source": [
    "\n",
    "In the 1970s, Levin-Schnorr showed that initial segments of Martin-L\\\"of randoms were complex in the sense of Kolmogorov, that is, their initial segments do not effectively have short descriptions. \n",
    "\n",
    "E.g. why is $010101010101\\ldots$ not random? Because its initial segments have a short description: 'repeat 0 and 1', which is short because it takes like less than 20 characters."
   ]
  },
  {
   "cell_type": "markdown",
   "id": "59647a50",
   "metadata": {
    "slideshow": {
     "slide_type": "slide"
    }
   },
   "source": [
    "# What we are doing when we are studying non-computability"
   ]
  },
  {
   "cell_type": "markdown",
   "id": "8609647a",
   "metadata": {
    "slideshow": {
     "slide_type": "slide"
    }
   },
   "source": [
    "**Puzzle, version 1**\n",
    "\n",
    "The following proposal seems plausible: computability is an epistemic constraint on human agents. The intended import is something like the following: the only sets that we can know about are computable, the only theories that we can grasp are computable, the only rings and continuous functions which we can work with are computable.\n",
    "\n",
    "(Caveat: contemporary epistemology studies what propositions one knows, not what sets one knows. But perhaps we might say that to know a set is to be in a position to know, of a given number when presented with it, whether it is in the set or not in the set).\n",
    "\n",
    "The puzzle: if you agree with the proposal, isn't the study of non-computable sets *not* the kind of inquiry that results in knowledge? Hence, what do you think that you're doing when you are thinking about non-computable sets?"
   ]
  },
  {
   "cell_type": "markdown",
   "id": "b51c1231",
   "metadata": {
    "slideshow": {
     "slide_type": "slide"
    }
   },
   "source": [
    "**Puzzle, version 2**\n",
    "\n",
    "The following proposal seems plausible: physical computers can only compute sets of natural numbers which are computable. Indeed, something stronger is most likely true: physical computers can only compute sets of natural numbers which are feasibly computable.\n",
    "\n",
    "The puzzle: if you agree with the proposal, then why study non-computable sets at all, since there is no hope of actually implementing them on devices we actually use?"
   ]
  },
  {
   "cell_type": "markdown",
   "id": "882840f4",
   "metadata": {
    "slideshow": {
     "slide_type": "slide"
    }
   },
   "source": [
    "**Response 1: degrees of difficulty** \n",
    "\n",
    "Humans are interested in problems and how to solve them. Some problems are harder than others. One way to measure degree of difficulty is  by showing that a method of solving one problem leads to a method for solving the other problem. You can understand the degree of diffulcty of a problem without being able to solve that problem yourself.\n",
    "\n",
    "Kolmogorov thought that this was what mathematical assertions were: claims about relative degrees of difficulty of solving mathematical problems. This is the basis of his problem interpretation of intuitionistic logic. E.g. he thinks $p\\rightarrow q$ means that one has a method by which to go from any method for solving problem $p$ to a method for solving problem $q$.\n",
    "\n",
    "Hence what you are doing in studying non-computability is just studying the *computational* degree of difficulty of a problem. See Dean 2015 and Dean-Naibo 2024 Section 3.5 and Simpson 2015."
   ]
  },
  {
   "cell_type": "markdown",
   "id": "6320059c",
   "metadata": {
    "slideshow": {
     "slide_type": "slide"
    }
   },
   "source": [
    "**Response 2: counterpossibles**\n",
    "\n",
    "Consider: \n",
    "\n",
    "1. If New York City was in California, then New York City would be the biggest city in California.\n",
    "\n",
    "2. If 3+5 was 9 then 3+6 would be 10\n",
    "\n",
    "The antecedent of 2 is somehow much more impossible than the antecedent of 1. The received view is that the second is true but only vaucously so. A minority view is that both are equallly intelligble.\n"
   ]
  },
  {
   "cell_type": "markdown",
   "id": "5dc0acda",
   "metadata": {
    "slideshow": {
     "slide_type": "slide"
    }
   },
   "source": [
    "\n",
    "Jenny 2018 suggests that there is parity between these two examples and the following two examples:\n",
    "\n",
    "1'. If the set of even numbers was computable, then the set of odd numbers would be computable. \n",
    "\n",
    "2'. If the halting set was computable, then some completion of PA would be computable.\n",
    "\n",
    "The antecedent of 1' is true and the antecedent of 2' is false. Jenny thinks that the map is essentially the study of things like 2'. He views the theory of computation as a science dealing in counterpossibles and hence as a way to make the minority view more intelligble. \n",
    "\n"
   ]
  },
  {
   "cell_type": "markdown",
   "id": "bda11191",
   "metadata": {
    "slideshow": {
     "slide_type": "slide"
    }
   },
   "source": [
    "**Response 3: agent meets nature**\n",
    "\n",
    "A third response is that one can study the relation between the computable agents and the possibly non-computable nature that they are encountering. \n",
    "\n",
    "This is the perspective of Huttegger, Walsh, Zaffora Blando (2024). The agent has a computable random variable and a computable probability assignment, but they are updating on a Martin-Löf random data stream.\n",
    "\n",
    "Maybe there is some dim analogue of this Gödel-like examples above: as an agent you are working with a computable commutative ring, and for various purposes you have to consult some external object like a prime ideal.\n"
   ]
  },
  {
   "cell_type": "markdown",
   "id": "c5799e69",
   "metadata": {},
   "source": [
    "# References"
   ]
  },
  {
   "cell_type": "markdown",
   "id": "398ed33c",
   "metadata": {},
   "source": [
    "Dean, W. (2015). Degrees and difficulty. https://vai2015.sciencesconf.org/conference/vai2015/pages/heidelberg2015_distributed.pdf\n",
    "\n",
    "Dean, W., & Naibo, A. (2024). Recursive Functions. The Stanford Encyclopedia of Philosophy. Metaphysics Research Lab, Stanford University. https://plato.stanford.edu/archives/sum2024/entries/recursive-functions/\n",
    "\n",
    "Downey, R. G., & Hirschfeldt, D. R. (2010). Algorithmic Randomness and Complexity. Springer, New York, NY.\n",
    "\n",
    "Kolmogorov, A. N. (1932). Zur Deutung der intuitionistischen Logik. Mathematische Zeitschrift, 58–65.\n",
    "\n",
    "Kolmogorov, A. N. (1998). On the Interpretation of Intuitionistic Logic. In P. Mancosu (Ed.), From Brouwer to Hilbert: The Debate on the Foundations of Mathematics in the 1920s (pp. 328–334). New York: Oxford University Press. Originally published as Kolmogorov 1931\n",
    "\n",
    "Jenny, M. (2018). Counterpossibles in science: The case of relative computability. Nous , 52(3), 530–560.\n",
    "\n",
    "Huttegger, S. M., Walsh, S., & Zaffora Blando, F. (2024). Algorithmic Randomness, Effective Disintegrations, and Rates of Convergence to the Truth. [https://arxiv.org/abs/2403.19978](https://arxiv.org/abs/2403.19978)\n",
    "\n",
    "Nies, A. (2012). Computability and Randomness. OUP Oxford.\n",
    "\n",
    "Rautenberg, W. (2010). A Concise Introduction to Mathematical Logic. Springer.\n",
    "\n",
    "Sacks, G. E. (2017). Higher Recursion Theory. Cambridge University Press. First edition in 1990.\n",
    "\n",
    "Shoenfield, J. R. (2018). Mathematical Logic. CRC Press. First edition in 1967.\n",
    "\n",
    "Simpson, S. G. (2009). Subsystems of Second Order Arithmetic. Second edition. Cambridge University Press.\n",
    "\n",
    "Simpson, S. G. (2015). Degrees of Unsolvability: A Tutorial. In Evolving Computability (pp. 83–94). Springer. [https://link.springer.com/chapter/10.1007/978-3-319-20028-6_9](https://link.springer.com/chapter/10.1007/978-3-319-20028-6_9)\n",
    "\n",
    "Soare, R. I. (2016). Turing Computability. Springer."
   ]
  }
 ],
 "metadata": {
  "celltoolbar": "Slideshow",
  "kernelspec": {
   "display_name": "Python 3 (ipykernel)",
   "language": "python",
   "name": "python3"
  },
  "language_info": {
   "codemirror_mode": {
    "name": "ipython",
    "version": 3
   },
   "file_extension": ".py",
   "mimetype": "text/x-python",
   "name": "python",
   "nbconvert_exporter": "python",
   "pygments_lexer": "ipython3",
   "version": "3.11.5"
  }
 },
 "nbformat": 4,
 "nbformat_minor": 5
}
