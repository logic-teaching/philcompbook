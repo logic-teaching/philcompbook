{
 "cells": [
  {
   "cell_type": "markdown",
   "metadata": {},
   "source": [
    "# Homework 1\n",
    "\n",
    "This is due Thursday April 25 by 11:59pm, for full credit. It can be turned in Friday April 26 by 11:59pm for a 10% reduction. \n",
    "\n",
    "You can work with 1-2 other students on it, you just have to indicate who else you worked with, and everyone has to write their own solutions.\n",
    "\n",
    "This homework is designed to be a review of Weeks 1-2 of the course (Chapter 1-4 of the book).\n",
    "\n",
    "You submit **via gradescope on bruinlearn**: you do not turn in anything on this page. \n",
    "\n",
    "In terms of workflow, I would recommend:\n",
    "\n",
    "- write it out by hand: everything is short and you should be able to write it out by hand easily\n",
    "\n",
    "- after you done with it, scan it or take photos of it to put into gradescope in bruinlearn\n",
    "\n",
    "- be working near a computer or phone so you can use the links on this page, which reference back to the book"
   ]
  },
  {
   "cell_type": "markdown",
   "metadata": {
    "vscode": {
     "languageId": "plaintext"
    }
   },
   "source": [
    "The first three problems give one a sense of what 'developing a library' of primitive recursive functions is like. This is what Skolem did in 1923, and it is similar with any presentation of the primitive recursive functions: one has to spend a lot of time showing that many functions are primitive recursive.\n",
    "\n",
    "## Problem 1\n",
    "\n",
    "Show that exponentiation $n^m$ is primitive recursive, by identifying the base and iterator. Emulate the arguments [we gave for addition and multiplication](https://logic-teaching.github.io/philcompbook/Chap01.html#primitive-recursion-formal-definition)."
   ]
  },
  {
   "cell_type": "markdown",
   "metadata": {
    "vscode": {
     "languageId": "plaintext"
    }
   },
   "source": [
    "## Problem 2\n",
    "\n",
    "In the text, we gave [the formal definition of \"definition by primitive recusion\"](https://logic-teaching.github.io/philcompbook/Chap01.html#primitive-recursion-formal-definition) for two-place functions.\n",
    "\n",
    "Here is the definition for one-place functions. \n",
    "\n",
    "Suppose a *base number* $b$ and an *iterator function* $I:\\mathbb{N}^{2}\\rightarrow \\mathbb{N}$ are given. Then the function $f:\\mathbb{N}\\rightarrow \\mathbb{N}$ defined by *primitive recursion* from this base and iterator is the function which satisfies the following, for all $m$:\n",
    "\n",
    "$$\n",
    "f(m) = \\begin{cases}\n",
    "    b & \\text{if } m = 0 \\\\ \n",
    "   I(m-1,f(m-1)) & \\text{if } m>0\n",
    "\\end{cases}\n",
    "$$\n",
    "\n",
    "Show that factorial $f(n)=n!$ is primitive recursive by finding a base number $b$ and iterator $I$ which define it, and where we already know from previous work that $I$ is primitive recursive. "
   ]
  },
  {
   "cell_type": "markdown",
   "metadata": {
    "vscode": {
     "languageId": "plaintext"
    }
   },
   "source": [
    "## Problem 3\n",
    "\n",
    "Show that the following predecessor function is primitive recursive:\n",
    "\n",
    "$$\\mathrm{pred}(m) = \\begin{cases}\n",
    "    0 & \\text{if } m = 0 \\\\ \n",
    "    m-1 & \\text{if } m>0\n",
    "\\end{cases}$$\n",
    "\n",
    "*Note*: this example is, to my knowledge, the reason why we allow the iterator to have one more argument than the function which it defines.  "
   ]
  },
  {
   "cell_type": "markdown",
   "metadata": {
    "vscode": {
     "languageId": "plaintext"
    }
   },
   "source": [
    "## Problem 4\n",
    "\n",
    "Recall [the Ackermann function](https://logic-teaching.github.io/philcompbook/Chap01.html#definition-ackermann-function) $\\varphi_{\\ell}(n,m)$\n",
    "\n",
    "Give yourself one page and try to calculate as much of $\\varphi_3(3,3)$ as you can.\n",
    "\n",
    "The moral of this exercise is that it is very natural to see the Turing machine model as emerging from an attempt to describe the process of evaluating a function like this: the cells of the tape are the different locations on the page, the machine head is the pencil or pen, and the instructions are the rules embedded in the different definitional clauses of the function."
   ]
  },
  {
   "cell_type": "markdown",
   "metadata": {},
   "source": [
    "## Problem 5\n",
    "\n",
    "Recall that Heyting says that:\n",
    "\n",
    "> $\\neg \\varphi$ can be asserted if and only if we possess a construction which from the supposition that a construction $\\varphi$ were carried out, leads to a contradiction ({cite}`Heyting1956aa` p. 102).\n",
    "\n",
    "Note that this is just [the arrow clause of BHK](https://logic-teaching.github.io/philcompbook/Chap02.html#the-traditional-statement-of-bhk) applied to $\\varphi\\rightarrow \\bot$, where $\\bot$ is an abbreviation for something which can never be asserted (i.e. a contradiction). That is, in the tradition of intuitionistic logic, $\\neg \\varphi$ is an abbreviation for $\\varphi\\rightarrow \\bot$.\n",
    "\n",
    "Answer the following four questions:\n",
    "\n",
    "1. In intuitionistic logic, what is $\\neg \\neg \\varphi$ an abbreviation for? Your answer should consist just of a single formula with two arrows in it.\n",
    "\n",
    "2. According to BHK, when can you assert $\\neg \\neg \\varphi$? \n",
    "\n",
    "3. According to BHK, should you be able to assert $\\varphi\\rightarrow \\neg \\neg \\varphi$ and why? Give an answer in 1-2 complete English sentences. \n",
    "\n",
    "4. According to BHK, should you be able to assert $\\neg \\neg \\varphi \\rightarrow \\varphi$ and why? Give an answer in 1-2 complete English sentences."
   ]
  },
  {
   "cell_type": "markdown",
   "metadata": {},
   "source": [
    "## Problem 6\n",
    "\n",
    "Using [the Turing machine visualizer](http://turingmachine.io/), write a program which when given an input of a string formed from the three letters $a,b,c$, adds the expression $ba$ to the very right."
   ]
  },
  {
   "cell_type": "markdown",
   "metadata": {},
   "source": [
    "## Problem 7\n",
    "\n",
    "Using [the Turing machine visualizer](http://turingmachine.io/), write a program which looks for the first two consecutive $b$'s and changes them both to $r$."
   ]
  },
  {
   "cell_type": "markdown",
   "metadata": {},
   "source": [
    "## Problem 8\n",
    "\n",
    "Emulate [the proof of the non-computability of the halting set $K$](https://logic-teaching.github.io/philcompbook/Chap03.html#diagonalization-and-the-halting-set) to show that the following set is not computable:\n",
    "\n",
    "$K_0 = \\{(e,n): \\varphi_e(n)\\downarrow\\}$\n",
    "\n",
    "In the proof, it can be assumed that the pairing function sending natural numbers $e$ and $n$ to natural number $(e,n)$ is computable, and it can be assumed that given a natural number one can compute whether it is a pair $(e,n)$ and if so one can determine $e,n$ thereby."
   ]
  },
  {
   "cell_type": "markdown",
   "metadata": {},
   "source": [
    "## Problem 9\n",
    "\n",
    "If $A,B$ are computable sets of natural numbers, then so too are $A\\cap B$ and $A\\cup B$.\n",
    "\n",
    "First, use [Kleene's result](https://logic-teaching.github.io/philcompbook/Chap04.html#kleene-s-characterization-of-computability-in-terms-of-definability) to show this. *Hint*: this one involves producing definitions of $A\\cap B$ and $A\\cup B$ in terms of definitions of $A,B$.\n",
    "\n",
    "Second, use the original Turing model to show this. *Hint* use [the universal machine](https://logic-teaching.github.io/philcompbook/Chap03.html#the-universal-machine-and-diagonalization)."
   ]
  },
  {
   "cell_type": "markdown",
   "metadata": {},
   "source": [
    "## Problem 10\n",
    "\n",
    "A key feature of [computability](https://logic-teaching.github.io/philcompbook/Chap03.html#definition-computable) is that it a property of sets, rather than a property of programs. (It is extensional as opposed to intensional).\n",
    "\n",
    "For each computable set $A$ and Turing machine program $i$ which computes $A$, describe a distinct Turing machine program $j$ which computes $A$.\n"
   ]
  },
  {
   "cell_type": "markdown",
   "metadata": {},
   "source": []
  }
 ],
 "metadata": {
  "kernelspec": {
   "display_name": ".venv",
   "language": "python",
   "name": "python3"
  },
  "language_info": {
   "codemirror_mode": {
    "name": "ipython",
    "version": 3
   },
   "file_extension": ".py",
   "mimetype": "text/x-python",
   "name": "python",
   "nbconvert_exporter": "python",
   "pygments_lexer": "ipython3",
   "version": "3.12.3"
  }
 },
 "nbformat": 4,
 "nbformat_minor": 2
}
