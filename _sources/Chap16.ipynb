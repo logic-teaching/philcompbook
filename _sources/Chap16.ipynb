{
 "cells": [
  {
   "cell_type": "markdown",
   "metadata": {},
   "source": [
    "# Chapter 16\n",
    "\n",
    "We discuss VC dimension and what philosophers have said about it."
   ]
  },
  {
   "cell_type": "markdown",
   "metadata": {},
   "source": [
    "## VC dimension\n",
    "\n",
    "### The definition\n",
    "\n",
    "The VC-dimension of $\\mathcal{P}$ is the largest value of $n$ such that $m_{\\mathcal{P}}=2^n$. If there is no largest value then we say that the VC-dimension is infinite. \n",
    "\n",
    "Hence, the VC-dimension of $\\mathcal{P}$ is the maximal number $n$ such that some $n$-element subset is $\\mathcal{P}$-shattered. \n",
    "\n",
    "Further, the VC-dimension of $\\mathcal{P}$ is \"one minus\" the least $\\mathcal{P}$-break point. \n",
    "\n",
    "### Why finite VC dimension is important\n",
    "\n",
    "The reason that finite VC dimension is important is that, in conjunction with some results from probability that we discussed at the end of last time, it guarantees the error of our green line being wrong off of the training data is low.\n",
    "\n",
    "### Example\n",
    "\n",
    "Where $\\Omega$ is the reals and $\\mathcal{P}$ is the lines, we remarked earlier that 4 is the least $\\mathcal{P}$-break point. Hence $3$ is the VC-dimension.\n"
   ]
  },
  {
   "cell_type": "markdown",
   "metadata": {},
   "source": [
    "## Falsifiability"
   ]
  },
  {
   "cell_type": "markdown",
   "metadata": {},
   "source": [
    "### Popper on falsifiability\n",
    "\n",
    "Popper straddled the Vienna Circle and the beginnings of postwar philosophy of science. He thought that the characteristic feature of the scientific enterprise was falsifiability. Here is a representative quotation from his *Logic of Scientific Discovery*:\n",
    "\n",
    "> [...] I shall not require of a scientific system that it shall be capable of being singled out, once and for all, in a positive sense; but I shall require that its logical form shall be such that it can be singled out, by means of empirical tests, in a negative sense: *it must be possible for an empirical scientific system to be refuted by experience* ({cite}`Popper2005-pg` p. 18; originally published in 1935)\n",
    "\n",
    "Popper's idea was that what separates sciences like chemistry and physics from pseudosciences like the psychological theories of Freud and the historical theories associated to certain kinds of Marxism was *not* confirmation since these the latter will find ways of turning any kind of evidence into a type confirmation. Rather, the line between science and pesudoscience resides in a kind certain kind of stark disconfirmation, an experiment by which a scientific theory would be ruled out.\n",
    "\n",
    "But Popper's views are not widely adhered to in contemporary philosophy of science. On the one hand, modern theories of confirmation could not be 'bent' in the way that Popper was worried about with e.g. Freud. For instance, these theories often just go through probabilistic notions and Bayes' Theorem, and there it will just be a question of the numbers assigned to the probabilities of hypotheses and pieces of evidence. On the other hand, Popper overestimates the extent to which the practice of science is orientated around the production of drastic refutations (for this latter point and more general discussion see any introductory philosophy of science text, e.g. {cite}`Curd1998-ol` pp. 63 ff). "
   ]
  },
  {
   "cell_type": "markdown",
   "metadata": {},
   "source": [
    "### Vapnik on falsifiability\n",
    "\n",
    "Vapnik was working in Russia during the 1960s and 1970s. He was hence removed from the then birth of contemporary philosophy of science during this period. Rather, for orientation, he looked back to earlier figures, such as Popper. Vapnik himself associates the philosophical significance of finite VC dimension with a type of falsifiability. \n",
    "\n",
    "Consider a case where we have infinite VC dimension, so that for all $k\\geq 1$ we have that $\\mathcal{H}\\upharpoonright \\Omega_k$ is $k$-shattered. Vapnik says of this:\n",
    "\n",
    "> In other words, the set of functions of the learning machine is such that [$\\Omega_k=\\{\\omega_1, \\ldots, \\omega_k\\}$] can be separated in all possible ways by functions of this set. This implies that the minimal empirical risk for this machine equals zero. We call this learning machine nonfalisfiable because it can give a general explanation (function) for almost any data ({cite}`Vapnik1998-bz` p. 108, {cite}`Vapnik2000-by` p. 50; notation changed to match preceding).\n",
    "\n",
    "This argument is repeated in one of the few contemporary discussions of finite VC dimension due to Harman-Kulkarni:\n",
    "\n",
    "> Rules in C shatter a set of N data points if and only if for every possible labeling of the N points with YESs and Nos, there is a rule in C that perfectly fits that labeling. \n",
    "\n",
    "> In other words, there is no way to label those N points in a way that would falsify the claim that the rules in C are perfectly adequate. This points to a possible relationship between the role of VC dimension in learning by enumeration induction and the role of falsifiability in Karl Popper's methodology [...] ({cite}`Harman2012-so` p. 53)\n",
    "\n",
    "This argument is deserving of extended unpacking. For the moment, we make two observations:\n",
    "\n",
    "1. Vapnik obviously thinks that falsifiability or lack thereof happens with respect to $\\mathcal{P}\\upharpoonright \\Omega_k$, rather than with respect to the choice that gives one $\\mathcal{P}$ as opposed to anything else in the first place. It is not obvious to me that that's where most philosophers would locate the choice.\n",
    "\n",
    "2. Vapnik's discussion of falsifiability is unconnected to the role that finite VC dimension plays in his own and our modern applications of VC dimension: namely in conjunction with limiting theorems of probability it gives one assurance that the error off of the training data is low. This might be by design, but it would seem that it would be better if the reason for preferring finite VC dimension were more directly connected to the role it plays in the theory."
   ]
  }
 ],
 "metadata": {
  "language_info": {
   "name": "python"
  }
 },
 "nbformat": 4,
 "nbformat_minor": 2
}
