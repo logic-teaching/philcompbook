{
 "cells": [
  {
   "cell_type": "markdown",
   "metadata": {},
   "source": [
    "# Chapter 7\n",
    "\n",
    "Our topic today is Church's Thesis. This says that the prethoretic notion of computability aligns with the formal notions of computability that we have gone over in previous weeks: computation by a Turing machine, being $\\Delta_1$-definable, being $\\lambda$-definable. The extact content of Church's Thesis depends heavily on how one understands the prethoretic notion and how one understands the nature of the alignment and the evidence for it."
   ]
  },
  {
   "cell_type": "markdown",
   "metadata": {},
   "source": [
    "## Kleene on the intuitive notion\n",
    "\n",
    "Kleene's 1952 *Introduction to Metamathematics* {cite}`Kleene1952-jt` was the first metalogic textbook in English, which was the successor in many ways of the Hilbert-Bernays *Grundlagen* {cite}`hilbert1934`, {cite}`hilbert1939`. Kleene's book develops the theory of recursive functions in detail, and contains commentary on the theory, which he developed together with Church, Turing, and others in the mid 1930s."
   ]
  },
  {
   "cell_type": "markdown",
   "metadata": {},
   "source": [
    "Here is how Kleene understands the pre-theoretic notion, which following Church he calls *effective calcuability*:\n",
    "\n",
    "> Since our original notion of effective calcuability of a function (or the effective decidability of a predicate) is a somewhat vague intuitive one, the thesis cannot be proven.\n",
    "[P] The intuitive notion however is real, in that it vouchsafes as effectively calculable many particular functions ($\\S$ 30), and on the other hand enables us to recognize that our knowledge about many other functions is insufficient to place them in the category of effectively calcuable functions ({cite}`Kleene1952-jt` p. 317)"
   ]
  },
  {
   "cell_type": "markdown",
   "metadata": {},
   "source": [
    "A couple of words about the terminology:\n",
    "\n",
    "- *Intuition* does not appear to have any connotation of the Kantian perception-like notion. \n",
    "\n",
    "- *Vague* does not have any connotations which we today associate it with it, namely as a concept which is suspectible to the sorities paradox (e.g. the paradox of the heap).  "
   ]
  },
  {
   "cell_type": "markdown",
   "metadata": {},
   "source": [
    "Kleene's point seems to be that the pretheoretic notion of effectively calcuable is \"real\" in that there are many examples which satisfy the condition, and there are many which do not satisfy the condition, and each of these is widely assented to. "
   ]
  },
  {
   "cell_type": "markdown",
   "metadata": {},
   "source": [
    "As for examples which satisfy the condition, the examples he gives in $\\S$ 30 are:\n",
    "\n",
    "- the Euclidean algorithm for prime divisors\n",
    "- testing for whether one polynomial divdes another\n",
    "- testing for whether something is a formula or proof\n",
    "\n",
    "Here is how he summarizes these examples in $\\S$ 30:\n",
    "\n",
    "> We know examples in mathematics of general questions, such that any particular instance of the question can be answered by a preassigned uniform method. More precisely, in such an example, there is an infinite class of particular questions, and a procedure in relation to that class, both being described in advance, such that if we thereafter select any particular question of the class, the procedure will surely apply and lead us to a definite answer, either \"yes\" or \"no,\" to the particular question asked. [P] Similarly, we may have a *calculation procedure* or *algorithm* (and hence *a calculation* problem) in relation to a general question which requires for an answer, not \"yes\" and \"no\", but the exhbiting of some object ({cite}`Kleene1952-jt` p. 317)\n"
   ]
  },
  {
   "cell_type": "markdown",
   "metadata": {},
   "source": [
    "As for examples which do not satisfy the condition, he considers a set of natural numbers, like the halting set, which can be defined by a $\\Sigma_1$-formula $\\exists \\; y \\; R(x,y)$ but not a $\\Pi_1$-formula (and so is not recursive, per his theorem).\n",
    "\n",
    "He then considers the function $f$ given by \n",
    "$$\n",
    "f(x) = \\begin{cases}\n",
    "    y+1 & \\text{if $y$ is least with $R(x,y)$} \\\\ \n",
    "    0 & \\text{otherwise}\n",
    "\\end{cases}\n",
    "$$\n",
    "\n",
    "This is not effectively calculable, according to Kleene, because while it suggests a search procedure to determine the value of $f(x)$, namely start checking whether $R(x,0), R(x,1), R(x,2), \\ldots$, nonetheless\n",
    "\n",
    "> the completion of the examination of all [countably infinitely many] propositions, which the classical definition envigages, is impossible for a human computor  ({cite}`Kleene1952-jt` p. 317)"
   ]
  },
  {
   "cell_type": "markdown",
   "metadata": {},
   "source": []
  },
  {
   "cell_type": "markdown",
   "metadata": {},
   "source": [
    "## Kleene on conceptual analysis vs Carnapian explication"
   ]
  },
  {
   "cell_type": "markdown",
   "metadata": {},
   "source": [
    "Kleene makes the following distinction:\n",
    "\n",
    "> The thesis [Church's Thesis] may be considered a hypothesis about the intuitive notion of effective calcuability, or a mathematical definition of effective calcuability; in the latter case, the evidence is required to give the theory based on the definition the intended significance ({cite}`Kleene1952-jt` pp. 318-319)."
   ]
  },
  {
   "cell_type": "markdown",
   "metadata": {
    "vscode": {
     "languageId": "plaintext"
    }
   },
   "source": [
    "This tracks with a distinction which philosophers often make between the project of conceptual analysis and the project of Carnapian explication. "
   ]
  },
  {
   "cell_type": "markdown",
   "metadata": {},
   "source": [
    "### Conceptual analysis\n",
    "\n",
    "In *conceptual analysis*, one has an intuitive concept (like knowledge) and one seeks to analyze or define it in terms of other notions by producing a true bicondtional of the form:\n",
    "\n",
    "- S knows p iff p is true and S believes p and S has reason to believe p and S is not unlucky in believing p.\n",
    "\n",
    "Usually the bulk of the discussion then pertains to whether such biconditionals can be sustained in the face of counterexamples, and to engage in this one has to be willing to produce many examples about which one has strong intuitions that the relevant property (knoweldge, in this case) is or is not present.\n",
    "\n",
    "\n",
    "\n"
   ]
  },
  {
   "cell_type": "markdown",
   "metadata": {},
   "source": [
    "### Coneptual analysis version of Church's Thesis\n",
    "\n",
    "Kleene's first option naturally suggests a project of conceptual analysis. On this picture, one would view Church's Thesis as follows:\n",
    "\n",
    "- Church's Thesis (conceptual analysis version): a function is effectively calcuable (or computable in the prethoretic sense) iff it is computable by a Turing machine, which by the various theorems is equivalent to being $\\Delta_1$-definable and to being $\\lambda$-definable."
   ]
  },
  {
   "cell_type": "markdown",
   "metadata": {},
   "source": [
    "### Hard vs easy direction\n",
    "\n",
    "On the conceputal analysis conception:\n",
    "\n",
    "- The right-to-left direction is usually called *the easy direction*. This is because the presentation by the machine or by the definition or by $\\lambda$-term is thought to obviously be effectively calcuable in the relevant sense. \n",
    "\n",
    "- The left-to-right direction is usually called *the hard direction*. This is because it is often challenging to find ways to argue for \"All A's are B's\" when the A is very informal or pretheoretic. \n",
    "\n",
    "In speaking of easy and hard, I take myself to be reporting received view among the people who have written on this topic. But note that this has the strange consequence that the formal notion of computable (think about the map) is easily a subset of informal notion of effectively calcuable. One might that thought that *a priori* it was open that the informal notion could be a superset or a subset of the formal notion of computable. \n"
   ]
  },
  {
   "cell_type": "markdown",
   "metadata": {},
   "source": []
  },
  {
   "cell_type": "markdown",
   "metadata": {},
   "source": [
    "### Carnapian explication\n",
    "\n",
    "In *Carnapian explication* one has an informal or prethoretic concept which is salient in some practice but which needs to be improved and replaced by a formal or theoretical concept, usually embedded in some formal or theoretical framework. Once one adopts such a framework, the internal questions about the concept are basically questions of whether something follows formally from the framework. But the question of which framework to adopt is an external one, and here the following methodological choices are salient:\n",
    "\n",
    "> The decision of accepting the [...] language, althought itself not of a cognitive nature, will nevertheless usually be influenced by theoretical knowledge, just like any other deliberate decision concerning the acceptance of linguistic or other rules. The purposes for which the language is intended to be used, for instance, the purpose of communicating factual knowledge, will determine which factors are relevant for the decision. The efficiency, fruitfulness, and simplicity of the use of the [...] language may be among the decisive factors ({cite}`Carnap1950-lq` p. 23).\n",
    "\n"
   ]
  },
  {
   "cell_type": "markdown",
   "metadata": {},
   "source": [
    "### Carnapian explication version of Church's Thesis"
   ]
  },
  {
   "cell_type": "markdown",
   "metadata": {},
   "source": [
    "Kleene's second option naturally suggests a project of Carnapian explication. On this picture, one would view Church's Thesis as follows:\n",
    "\n",
    "- Church's Thesis (Carnapian explication version): we introduce a formal theory of computation, say, that formalized in the framework and language of Turing machines (or $\\Delta_1$-definability, or $\\lambda$-definability). To ask what is computable is a question internal to the framework chosen. To ask which framework to choose we look to considerations of the efficiency, fruitfulness, and simplicity with which it accomplishes the primary task of repairing and improving the prior practice and thereby better achieving the goals of prior practice.\n",
    "\n",
    "Or, to quote Kleene again:\n",
    "\n",
    "> [We give] a mathematical definition of effective calcuability; in [this] case, the evidence is required to give the theory based on the definition the intended significance ({cite}`Kleene1952-jt` pp. 318-319)."
   ]
  },
  {
   "cell_type": "markdown",
   "metadata": {},
   "source": [
    "## Arguments for the thesis"
   ]
  },
  {
   "cell_type": "markdown",
   "metadata": {
    "vscode": {
     "languageId": "plaintext"
    }
   },
   "source": [
    "### Kleene on the heuristic evidence\n",
    "\n",
    "Kleene notes that \n",
    "\n",
    "> Every particular effectively calcuable function, and every operation for defining a function effectively from other functions, for which the question has been investigated, has proven to be general recursive. A great variety of effectively calcuable functions, of classes of effectively calcuable functions, and of operations for defining functions effectively from other functions, selected with the intention of exhausting known types, ahve been investigated ({cite}`Kleene1952-jt` p. 319).\n",
    "\n",
    "If one is doing a project of conceptual analysis, this argument could be viewed just as inductive evidence for the hard direction.\n",
    "\n",
    "If one is doing a project of Carnapian explication, this argument could be viewed as inductive evidence that the proposed framework succeeds in capturing much of the prior practice.\n"
   ]
  },
  {
   "cell_type": "markdown",
   "metadata": {},
   "source": [
    "### Kleene on the argument from confluence\n",
    "\n",
    "Here again is Kleene, talking about the results from the mid 1930s which he and others proved about the extensional equivalence of Turing computable and $\\Delta_1$-definable and $\\lambda$-definable:\n",
    "\n",
    "> The fact that several notions which differ widely lead to the same class of functions is a strong indication that the class is fundamental ({cite}`Kleene1952-jt` p. 320).\n",
    "\n",
    "If one is doing a project of conceptual analysis, this argument is just recording the observation that the right-hand side has many different equivalent formalizations, and that various projects of counterexample-search turned out not to yield counterexamples. \n",
    "\n",
    "If one is doing a project of Carnapian explication, this argument is just recording that the various framesworks end up being equivalent in the sense of what judgements they issue about what number-theoretic functions are computable on the framework.\n",
    "\n"
   ]
  },
  {
   "cell_type": "markdown",
   "metadata": {
    "vscode": {
     "languageId": "plaintext"
    }
   },
   "source": [
    "### Gödel and Kleene on the absoluteness of computation\n",
    "\n",
    "In the wake of all the important work of the 1930s, G\\\"odel remarked in 1946 that: \n",
    "\n",
    "> It seems to me that this importance [of the concept of general recursiveness] is largely due to the fact that with this concept one has for the first time succeeded in giving an absolute definition of an interesting epistemological notion, i.e., one not depending on the formalism chosen. In all other cases treated previously, such as demonstrability or definability, one has been able to define them only relative to a given language, and for each individual language it is clear that the one thus obtained is not the one looked for.({cite}`Davis1965-hy` p. 84, {cite}`Godel1990-xe` p. 150).\n",
    "\n",
    "Kleene mentions this in passing in A3. \n",
    "\n",
    "Practically speaking, they are referring to the fact that one cannot diagonalize out of the class of partial recursive functions. And they are referring to the fact that Gödel showed how to diagonalize out of \"provable\" in his famous incompleteness theorems.\n",
    "\n",
    "This argument sounds significant, and Gödel certainly thought it was. I think that it is harder to pin down in terms of its significance for Church's Thesis conceived either as conceptual analysis or Carnapian explication.\n",
    "\n",
    "Perhaps it is best conceived of as an observation that computability is not delivered to us in purely axiomatic treatment whose primitives is \"total comptuable function\" or \"computable set\" against say the backdrop of the axioms of number theory. If it were, then one could diagonalize out of it again. \n",
    "\n",
    "This elementary observation puts some pressure on the Carnapian explication model, since it points out that the \"framework\" in question here has to be a little more mathematicall robust than \"mere first order theory of total computable function or computable set.\"\n",
    "\n",
    "\n",
    "\n"
   ]
  },
  {
   "cell_type": "markdown",
   "metadata": {},
   "source": [
    "### Gödel-Herbrand Recursivity\n",
    "\n",
    "Before we can get to Church's argument, we need to introduce one final formal model of recursivity."
   ]
  },
  {
   "cell_type": "markdown",
   "metadata": {},
   "source": [
    "In response to the Ackermann function, G\\\"odel and Kleene fastened upon a derivation notion implicit in Herbrand (See G\\\"odel's unpublished Princeton lecture notes reprinted in {cite}`Davis1965-hy` pp. 39 ff, {cite}`Kleene1952-jt` pp. 266, 326).\n",
    "\n",
    "The basic idea was to view systems of equations like those of Ackermann's function as an axiom set, and to compute by doing derivations from these axioms. Hence, one defines *a derivation from a system of equations* to be a finite sequence of lines of equations such that every line is either one of the equations, or follows from earlier lines by one of three rules:\n",
    "\n",
    "- *Specialisation*: one may replace a variable by a number, either in one of the equations or in a previous line.\n",
    "- *Substitution: if one has derived an equation of the form $f(m_1, \\ldots, m_k)=m$, where each of $m_1, \\ldots, m_k,m$ are numbers, then one may replace any instances of $f(m_1, \\ldots, m_k)$ by $m$ in any previous line.\n",
    "\n",
    "- *Successor*: one can replace $S(0)$ by $1$; one can replace $S(1)$ by $2$; one can replace $S(2)$ by $3$, etc.\n",
    "\n",
    "For instance, here is a derivation of $5+2=7$ from the familiar system of equations for addition:\n",
    "$$    n+0 =n, \\hspace{10mm} n+S(m) = S(n+m)$$\n",
    "\n",
    "1.  $5+0 =5$  (Specialisation) \n",
    "2.  $5+S(0) = S(5+0)$  (Specialisation) \n",
    "3.  $5+S(0) = S(5)$  (Substitution 1,2) \n",
    "4.  $5+1 = 6$  (Successor 3) \n",
    "5.  $5+S(1) = S(5+1)$  (Specialisation) \n",
    "6.  $5+S(1) = S(6)$  (Substitution 4,5) \n",
    "7.  $5+2 = 7$  (Successor 6) \n",
    "\n",
    "Note that on this model of computation, **proof** becomes the evaluation method for  computing the values of a function, just like beta-reduction was the evaluation method for computing the values of a function in the untyped $\\lambda$-calculus.\n",
    "\n",
    "All this then motivates the following definition:\n",
    "\n",
    "A partial function $f:\\mathbb{N}^k\\dashrightarrow \\mathbb{N}$ is *G\\\"odel-Herbrand partial recrusive* if there is a system of equations such that for all $n_1, \\ldots, n_k,n$ one has that $f(n_1, \\ldots, n_k)\\hspace{-.5mm}\\downarrow= n$ if and only if there is a derivation of this from the system of equations.\n",
    "\n",
    "Now, of course, there is is the usual subtlety that proofs, as conceived of in formal logic, only concern formal, uninterpreted symbols. But often there is an intended interpretation in place, as in our example with addition. And what we intend with the general definition of G\\\"odel-Herbrand derivability is that the partial function $f:\\mathbb{N}^k\\dashrightarrow \\mathbb{N}$ be correlated with a formal symbol in the system of equations, much like we do without a second thought in the case of addition."
   ]
  },
  {
   "cell_type": "markdown",
   "metadata": {},
   "source": [
    "### Church's argument from algorithms"
   ]
  },
  {
   "cell_type": "markdown",
   "metadata": {},
   "source": [
    "This is from Church {cite}`Church1936-ru` pp. 356-358 and discussed by Kleene in {cite}`Kleene1952-jt` pp. 322 (see D1 and D2 on that page). \n",
    "\n",
    "Church writes the following, which at least to my ear sounds ambigious between the project of conceptual analysis and the project of Carnapian explication:\n",
    "\n",
    "> We now define the notion, already discussed, of an *effectively calcuable* function of positive integers by identifying it with the notion of a recursive function of positive integers (or of a $\\lambda$-definable function of positive integers). This definition is thought to be justified by the considerations which follow, so far as positive justification can ever be obtained for the selection of a formal definition to correspond to an inuitive one ({cite}`Church1936-ru` p. 356)\n",
    "\n",
    "The argument goes through algorithms:\n",
    "\n",
    "- Every one of these formal notions seems to by definition posseses \"an algorithm for the calculation of its values.\" E.g in $\\lambda$-definability it is beta reduction. \n",
    "\n",
    "- Conversely, every function which posssess \"an algorithm for the calculation of its values\" is met by the formal notion. Roughly, he thinks that any description of the step-by-step behavior of an algorithm can be replicated by the proof behavior of expressons or equations in a formal system. If the rules of this system were recursive in the formal sense, then so too would the resulting function. He is obviously trying to generalize here the Gödel-Herbard model which takes proof as its mode of computation.   \n"
   ]
  },
  {
   "cell_type": "markdown",
   "metadata": {},
   "source": []
  }
 ],
 "metadata": {
  "language_info": {
   "name": "python"
  }
 },
 "nbformat": 4,
 "nbformat_minor": 2
}
