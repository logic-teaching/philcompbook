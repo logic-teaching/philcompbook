{
 "cells": [
  {
   "cell_type": "markdown",
   "id": "3f6a67b3",
   "metadata": {
    "slideshow": {
     "slide_type": "slide"
    }
   },
   "source": [
    "# Philcomp Week 1 Thursday"
   ]
  },
  {
   "cell_type": "markdown",
   "id": "8045766e",
   "metadata": {
    "slideshow": {
     "slide_type": "slide"
    }
   },
   "source": [
    "**Outline**\n",
    "\n",
    "[The Hilbert program](#The-Hilbert-program)\n",
    "\n",
    "[Finitism](#Finitism)\n",
    "\n",
    "[Brouwer](#Brouwer)\n",
    "\n",
    "[Heyting and BHK](#Heyting-and-BHK)"
   ]
  },
  {
   "cell_type": "markdown",
   "id": "48404821",
   "metadata": {
    "slideshow": {
     "slide_type": "slide"
    }
   },
   "source": [
    "# The Hilbert program"
   ]
  },
  {
   "cell_type": "markdown",
   "id": "cca81b1d",
   "metadata": {
    "slideshow": {
     "slide_type": "slide"
    }
   },
   "source": [
    "**In mathematics, existence is consistency in the wide sense**\n",
    "\n",
    "Both Poincaré in 1891 and Hilbert in 1899 voice the view that in mathematics, existence just comes down to consistency with what is already known:\n",
    "\n",
    "Poincaré in 1891, speaking about non-Euclidean geometries:\n",
    "\n",
    ">A mathematical entity exists provided its definition implies no contradiction, either in itself, or with the propositions already admitted (Poincaré 1891 p. 772, Poincaré 1902 p. 59, Poincaré 1913 p. 61)\n",
    "\n",
    "Hilbert, in letter to Frege 1899, on Hilbert's work on founding geometry in the real numbers (and vice-versa):\n",
    "\n",
    ">You write: \"[...] Out of the truth of the axioms follows that they do not contradict one another.\" It interested me greatly to hear you make this very claim since as long as I have thought, written, and lectured on these matters, I have said exactly the opposite: when arbitrarily laid down axioms do not in any of their consequences contradict one another, then they are true, and the things defined through them exist. That is for me the criterion of truth and existence. (Frege 1893 vol 2 p. 66, Frege 1980 pp. 39-40).\n"
   ]
  },
  {
   "cell_type": "markdown",
   "id": "5d061cd5",
   "metadata": {
    "slideshow": {
     "slide_type": "slide"
    }
   },
   "source": [
    "**Proving consistency in the wide sense**\n",
    "\n",
    "In his talk at the 1900 International Congress of Mathematicians, Hilbert had included the consistency of the analysis and the real numbers as the second problem in his famous list of problems (Hilbert 1900 p. 264-266).\n",
    "\n",
    "Hilbert suggests that while in geometry one can prove consistency by finding a model, in arithmetic one needs a \"direct way\" to prove consistency (Hilbert 1900 p. 265). \n",
    "\n",
    "Hilbert only elaborated on what this direct way might be in his talk at the 1904 International Congress of Mathematicians (Hilbert 1905, reprinted in van Heijenoort 1967).\n",
    "\n",
    "While the details are at best sketched, Hilbert's idea seems to be to prove consistency of this system by showing that one cannot prove an identity asserting that some iterate of terms formed from successor and zero is equal to zero. This was to be done, apparently, by an examination of the structure of the identities which one can prove in the system. (Hilbert 1905 p. 180, van Heijenoort 1967 p. 134)."
   ]
  },
  {
   "cell_type": "markdown",
   "id": "5fd76c69",
   "metadata": {
    "slideshow": {
     "slide_type": "slide"
    }
   },
   "source": [
    "**The Poincaré circularity objection**\n",
    "\n",
    "Poincaré objected that that Hilbert's consistency proof would proceed by mathematical induction on length of proof, and so cannot possibly be used to secure the consistency of mathematical induction:\n",
    "\n",
    ">If these propositions [derived in the system] are infinite in number, this direct verification [of consistency] can no longer be made; recourse must be had to procedures where in general it is necessary to invoke just this principle of complete [mathematical] induction which is precisely the thing to be proved (Poincaré 1905 p. 820)\n",
    "\n",
    "We saw Skolem last time repeating this point in 1923."
   ]
  },
  {
   "cell_type": "markdown",
   "id": "4f1f26a4",
   "metadata": {
    "slideshow": {
     "slide_type": "slide"
    }
   },
   "source": [
    "**The Hilbert response**\n",
    "\n"
   ]
  },
  {
   "cell_type": "markdown",
   "id": "01435ac0",
   "metadata": {
    "slideshow": {
     "slide_type": "slide"
    }
   },
   "source": [
    "In the early 1920s, Hilbert had a response to this Poincaré circularity objection.\n",
    "\n",
    "Namely, one should distinguish between two different types of arithmetic: there was *contentful arithmetic* and *formal arithmetic*. \n",
    "\n",
    "Further, in consistency proofs, what was happening was that one was showing by contentful mathematical induction that axiom systems containing formal mathematical induction were consistent. \n",
    "\n",
    "This went hand in hand with Hilbert and his students and coauthors Zermelo, Ackermann, Gentzen, and Bernays expending a whole lot of time formalizing different systems of arithmetic and set theory."
   ]
  },
  {
   "cell_type": "markdown",
   "id": "91c7a925",
   "metadata": {
    "slideshow": {
     "slide_type": "slide"
    }
   },
   "source": [
    "**A word on terminology**\n",
    "\n",
    "A synonym for *contentful arithmetic* in Hilbert and the secondary literature is *finitism*. \n",
    "\n",
    "Sometimes *finitism* might be used slightly more broadly to dennote whatever more general theoretical position about reasoning there is (in Hilbert) which motivates a restriction to contentful arithmetic. "
   ]
  },
  {
   "cell_type": "markdown",
   "id": "8c5b7548",
   "metadata": {
    "slideshow": {
     "slide_type": "slide"
    }
   },
   "source": [
    "# Finitism"
   ]
  },
  {
   "cell_type": "markdown",
   "id": "35007c14",
   "metadata": {
    "slideshow": {
     "slide_type": "slide"
    }
   },
   "source": [
    "**Contentul induction**\n",
    "\n",
    "Hilbert's paradigmatic example of contentful mathematical induction is the proof of the commutativity of addition. Assuming that associativity is already established, he describes a procedure recursive in $b$ for showing that $a+b=b+a$. We illustrate it here in the case of $a=1$. "
   ]
  },
  {
   "cell_type": "markdown",
   "id": "c289a13a",
   "metadata": {
    "slideshow": {
     "slide_type": "slide"
    }
   },
   "source": [
    "To show that $1+2=2+1$, one argues as follows, where the first and last identities are definitions of $2$ and the middle identity  is given by associativity: \n",
    "$$1+2 = 1+(1+1) = (1+1)+1 = 2+1$$\n",
    "Likewise, to show that $1+3=3+1$, one argues as follows, where  the first and last identities are given by definition of $3$, the second identity is by the case of commutativity already established, and the third identity is by associativity:\n",
    "$$1+3 = 1+(1+2) = 1+(2+1) = (1+2)+1 = 3+1$$"
   ]
  },
  {
   "cell_type": "markdown",
   "id": "005b663b",
   "metadata": {
    "slideshow": {
     "slide_type": "slide"
    }
   },
   "source": [
    "Hilbert described this kind of contentful mathematical induction as follows:\n",
    "\n",
    ">And in particular, regarding the proof just given that $\\mathfrak{a}+\\mathfrak{b}=\\mathfrak{b}+\\mathfrak{a}$, I should like to stress that this proof is merely a procedure that rests on the construction and deconstruction of number-signs and that it is essentially different from the principle that plays such a prominent role in higher arithmetic, namely, the principle of complete induction or of inference from $n$ to $n+1$ (Hilbert 1922 p. 164).\n",
    "\n",
    "The idea seems to be that contentful mathematical inductions are underwritten by effective procedures on numbers conceived as symbols."
   ]
  },
  {
   "cell_type": "markdown",
   "id": "e0378046",
   "metadata": {
    "slideshow": {
     "slide_type": "slide"
    }
   },
   "source": [
    "In \"On the infinite\" he discusses the same example and suggests that it has something to do with intuition in the Kantian sense, that is with a quasi-perceptual notion:\n",
    "\n",
    "> Here, too the contentual correctness of this communication can be proved by contentual inference, and we can go very far with this intuitive, contentual kind of treatment (Hilbert 1926 p. 172).\n",
    "\n",
    "He further suggests that only arithmetical sentences formed by affixing a block of universal quantifiers to a quantifier-free sentence are contentful, and that sentences with existential quantifiers are not contentful.\n",
    "\n",
    "> [...] such a passage to the infinite is no more permitted without special investigation and perhaps certain precautionary measures than the passage from a finite to an infinite product in analysis, and initially it has no meaning at all (Hilbert 1926 p. 173)"
   ]
  },
  {
   "cell_type": "markdown",
   "id": "a8287734",
   "metadata": {
    "slideshow": {
     "slide_type": "slide"
    }
   },
   "source": [
    "**Tait's Thesis: finitism is primitive recursive arithmetic**\n",
    "\n",
    "It was argued in the secondary literature, by Tait in 1967, that Hilbert's contentful arithmetic could be identified with an axiomatized version of primitive recursive arithmetic. This is a theory which is based on primitive recursion, studied last time.\n",
    "\n",
    "That, of course, seems quite natural, when you think about the similarity of what Skolem was doing and what Hilbert was doing. \n",
    "\n",
    "Some evidence contra Tait's thesis:\n",
    "\n",
    "- it was two separate people doing it, in apparent independence of one another.\n",
    "\n",
    "- the appeal to intuition and the revision of logic are not to be found in Skolem\n",
    "\n",
    "- And note that Hilbert seemed unperturbed about the Ackermann function, which he disussed in \"On the Infinite.\""
   ]
  },
  {
   "cell_type": "markdown",
   "id": "4c1f3990",
   "metadata": {
    "slideshow": {
     "slide_type": "slide"
    }
   },
   "source": [
    "Further, scholars such as Zach (2003) note that Hilbert and his school seemed to be using non-primitive recursive functions all over the place. \n",
    "\n",
    "And when you read the final work of Hilbert and his school, you hear things like this, which cast doubt on Tait's thesis (in this, $Z_{\\mu}$ is a system which has the strength of at least first-order Peano arithmetic):\n",
    "\n",
    ">The question arises as to whether finitary methods are in a position to exceed the domain of inferences formalizable in $\\mathsf{Z}_{\\mu}$. [$\\mathbb{P}$] This question is admittedly, as so formulated, not precise; because we have introduced the expression \"finitary\" not as a sharply delimited endpoint, but rather as a designation of a methodological guideline, which would enable us to recognize certain kinds of concept formation and certain kinds of inferences as definitely finitary and others as definitely not finitary, but which however delivers no exact separating line between those which satisfy the demands of the finitary method and those which do not (Hilbert 1939 pp. 347-348)"
   ]
  },
  {
   "cell_type": "markdown",
   "id": "96edf71c",
   "metadata": {
    "slideshow": {
     "slide_type": "slide"
    }
   },
   "source": [
    "## Brouwer"
   ]
  },
  {
   "cell_type": "markdown",
   "id": "86ddf779",
   "metadata": {
    "slideshow": {
     "slide_type": "slide"
    }
   },
   "source": [
    "**The first act**\n",
    "\n",
    "In lectures in Cambridge in 1927 and Berlin in 1930, Brouwer described his position this way:\n",
    "\n",
    "> **The first act of intuitionism**: The unreserved disentanglement of mathematics from mathematical language and correspondingly from the linguistic appearance of theoretical logic. Intuitionistic mathematics is a completely language-free construction of the human spirit which develops in perfect exactness out of the basal intuition of one-in-twoness, that is, out of the insentient abstraction of the intellectually existing ur-phenomenon of a moment of life coming undone in two qualitatively different things, one of them giving away to the other and yet being steadily felt in memory (Brouwer 1992 p. 21)\n",
    "\n",
    "To the modern ear, this sounds uncareful and uninteresting."
   ]
  },
  {
   "cell_type": "markdown",
   "id": "91f17482",
   "metadata": {
    "slideshow": {
     "slide_type": "slide"
    }
   },
   "source": [
    "There is a way of putting the point that makes him sound more reasonable and more interesting.\n",
    "\n",
    "First, Brouwer's view is that knowledge of some mathematics is linked to the experience of time. Many philosophers including Kant and Hilbert thought it was linked to experience, and Poincaré adverted to the synthetic apriori in thinking about arithmetic. \n",
    "\n",
    "Second, Brouwer's view is that basic mathematical knowledge is not mediated by language. This aspect of Brouwer's thought goes back to Part III of his 1907 dissertation, entitled \"Mathematics and Logic.\" \n",
    "\n",
    "> It is true that mathematics is quite independent of the material world, but *to exist* in mathematics means: to be constructed by intuition; and the question whether a corresponding language is consistent is not only unimportant in itself, it is also not a test for mathematical existence (Brouwer 1975 p. 96)"
   ]
  },
  {
   "cell_type": "markdown",
   "id": "0d899a29",
   "metadata": {
    "slideshow": {
     "slide_type": "slide"
    }
   },
   "source": [
    "**Brouwer on the revision of logic**"
   ]
  },
  {
   "cell_type": "markdown",
   "id": "05eb5d4d",
   "metadata": {
    "slideshow": {
     "slide_type": "slide"
    }
   },
   "source": [
    "Early on, in the early 1900s, Hilbert had made some claims that implicated the bold contention that all mathematical problems can be solved. \n",
    "\n",
    "Brouwer objected to this, early on, saying that the only reason to believe it was law of excluded middle (LEM), namely $\\varphi\\vee \\neg \\varphi$. \n",
    "\n",
    "Brouwer's reasoning towards this conclusion, in a 1908 essay, is the following, where he seems to be identifying $\\varphi$ with the accomplishment of a construction (in the sense of an embedding) and he is identifying $\\neg \\varphi$ with a construction witnessing the failure of the first construction:\n",
    "\n",
    "> [...] in mathematics this [LEM] means that for every supposed imbedding of a system into another, satisfying certain conditions, we can either accomplish such an imbedding by construction, or we can arrive by construction at the arrestment of the process which would lead to the imbedding (Brouwer 1908, Brouwer 1975 p. 109)."
   ]
  },
  {
   "cell_type": "markdown",
   "id": "e5cfb308",
   "metadata": {
    "slideshow": {
     "slide_type": "slide"
    }
   },
   "source": [
    "**Triple negation is single negation**\n",
    "\n",
    "In a 1923 essay, Brouwer considers the objection that since he denies the equivalence of $\\varphi$ and $\\neg\\neg\\varphi$, he will actually have to mean infinitely different things by the various points in the sequence\n",
    "\n",
    "$$\\varphi, \\hspace{5mm} \\neg \\varphi, \\hspace{5mm} \\neg \\neg \\varphi, \\hspace{5mm} \\neg \\neg \\neg \\varphi, \\ldots$$\n",
    "\n",
    "Brouwer responds to this objection by proving that $\\neg \\varphi$ is equivalent to $\\neg\\neg\\neg\\varphi$. \n",
    "\n",
    "His proof involves viewing $\\neg \\varphi$ as saying that \"$\\varphi$ leads to absurdity,\" which is of course a theorem of intuitionistic logic as we now conceive it (Brouwer 1923, 1925, Brouwer 1975 p. 277)\n"
   ]
  },
  {
   "cell_type": "markdown",
   "id": "4991bc74",
   "metadata": {
    "slideshow": {
     "slide_type": "slide"
    }
   },
   "source": [
    "**The pi example**\n",
    "\n",
    "In the Berlin and Cambridge lectures, Brouwer always frames the discussion around a specific example pertaining to the number $\\pi$ and its decimal expansion, an initial segment of which we display here:\n",
    "\n",
    "$$\\pi = 3.141592653589793238462643\\ldots$$\n",
    "\n",
    "He considers the claim $\\psi$ that \"there is a consecutive sequence $0123456789$ somewhere in the decimal expansion of $\\pi$.\" \n",
    "\n",
    "As far as this example goes, the uncontentious thing we can all agree on is that no one presently knows whether $\\psi$ is true or whether $\\neg \\psi$ is true.\n",
    "\n",
    "In the Berlin lectures, Brouwer argues that we are not justified in  asserting either $\\psi$ or that \"$\\psi$ could not occur\" (Brouwer 1992 p. 21)\n",
    "\n",
    "In the Cambridge lectures, he argues that $\\psi \\vee \\neg \\psi$ is \"devoid of sense\" (Brouwer 1981 p. 6)."
   ]
  },
  {
   "cell_type": "markdown",
   "id": "0c57b5a2",
   "metadata": {
    "slideshow": {
     "slide_type": "slide"
    }
   },
   "source": [
    "# Heyting and BHK"
   ]
  },
  {
   "cell_type": "markdown",
   "id": "a75f958f",
   "metadata": {
    "slideshow": {
     "slide_type": "slide"
    }
   },
   "source": [
    "**The traditional statement of BHK**\n",
    "\n",
    "The Brouwer-Heyting-Kolmogorov (BHK) interpretation of intuitionistic logic takes the assertability-conditions of the logical connectives to be spelt out in terms of proofs and constructions on proofs. The traditional statement of this, due to Heyting in his short 1956 book *Intuitionism*, is as follows:"
   ]
  },
  {
   "cell_type": "markdown",
   "id": "b8654af7",
   "metadata": {
    "slideshow": {
     "slide_type": "slide"
    }
   },
   "source": [
    "\n",
    "*Conjunction*: \"The *conjunction* $\\wedge$ gives no difficulty. $\\mathfrak{p} \\wedge \\mathfrak{q}$ can be asserted if and only if both $\\mathfrak{p}$ and $\\mathfrak{q}$ can be asserted.\"    \n",
    "\n",
    "*Disjunction*: \"$\\mathfrak{p} \\vee \\mathfrak{q}$ can be asserted if and only if at least one of the propositions $\\mathfrak{p}$ and $\\mathfrak{q}$ can be asserted.\"\n",
    "\n",
    "*Arrow*: \"The *implication* $\\mathfrak{p}\\rightarrow\\mathfrak{q}$ can be asserted, if and only if we possess a construction $\\mathfrak{r}$, which, joined to any construction proving $\\mathfrak{p}$ (supposing that the latter be effected), would automatically effect a construction proving $\\mathfrak{q}$.\"\n",
    "\n",
    "*Universal* \"Let $\\mathfrak{p}(x)$ be a predicate of one variable $x$, this variable ranging over a given mathematical species $Q$. Then $\\vdash (\\forall x) \\mathfrak{p}(x)$ means that $\\mathfrak{p}(x)$ is true for every $x$ in $Q$; in other words, we possess a general method of construction which, if any element $a$ of $Q$ is chosen, yields by specialization the construction $\\mathfrak{p}(a)$.\"\n",
    "\n",
    "*Existential*: \"The existential quantifier will be interpreted in a strong way. $(\\exists x) \\mathfrak{p}(x)$ will be true if and only if an element $a$ of $Q$ for which $\\mathfrak{p}(a)$ is true has actually been constructed.\"\n",
    "\n",
    "(Heyting 1956 pp. 102-103, 106-107)."
   ]
  },
  {
   "cell_type": "markdown",
   "id": "92cceeb8",
   "metadata": {
    "slideshow": {
     "slide_type": "slide"
    }
   },
   "source": [
    "**Heyting's notion of construction**\n",
    "\n",
    "The notion of construction is treated by Heyting as a primitive, and we are not given a definition of it or an analysis of it. \n",
    "\n",
    "Note that in the clause for arrow (and universal):\n",
    "\n",
    "1. Constructions need to be constructions which are instrinsically connected to proofs.\n",
    "\n",
    "2. Constructions need to act on other constructions.\n",
    "\n",
    "The first point makes constructions different than computations in our modern sense. Our computations can operate on strings which can code proofs, but this connection is incidental rather than essential.\n",
    "\n",
    "The second point suggests that constructions in Heyting's sense are going to be a little different than the paradigmatic examples of constructions in elementary point-line geometry. \n"
   ]
  },
  {
   "cell_type": "markdown",
   "id": "43e2c3fd",
   "metadata": {
    "slideshow": {
     "slide_type": "slide"
    }
   },
   "source": [
    "**Kreisel and Sundholm on the second constructions**\n",
    "\n",
    "A traditional puzzle in the secondary literature around BHK is whether the arrow and universal clauses need to have 'second constructions' which show that the first construction does what it is supposed to do.\n",
    "\n",
    "Kreisel built this into his formal \"theory of constructions\" (1962). This made the inductive definition of proof simpler since the bare universal over constructions then gets trapped inside the statement about what the second construction does.\n",
    "\n",
    "Sunholm 1983 suggests that Kreisel is conflating 'construction as process' and 'construction as product.' He thinks that it is the former which Heyting was concerned with, and that the second clauses are not needed. Sunhdolm's idea is that the process of construction just automatically brings with it the evidentary qualities needed to establish the proof.\n",
    "\n"
   ]
  },
  {
   "cell_type": "markdown",
   "id": "4ad4a725",
   "metadata": {
    "slideshow": {
     "slide_type": "slide"
    }
   },
   "source": [
    "**Dummett's appropriation of BHK**\n",
    "\n",
    "Dummett essentially suggests taking BHK as a template for an alternative approach to semantics. This is already in his earliest paper:\n",
    "\n",
    "> What I have done here is transfer to ordinary statements what the intuitionists say about mathematical statements'' (Dummett 1959 p. 160, Dummett 1978 p. 17, p. xxiv) \n",
    "\n",
    "Instead of taking meaning to be given by truth-conditions, we should take it to be given by proof-conditions or more generally by assertability-conditions. The idea would be to extend BHK from mathematical language to all language by importing the verificationism of the 1930s to handle the atomic cases of ordinary language. That is, for the atomic cases, we specify what the observational correlate of observable predicates like \"red\" is, and use this to identify the assertability-condition of the associated atomic claims."
   ]
  },
  {
   "cell_type": "markdown",
   "id": "fe3712b7",
   "metadata": {
    "slideshow": {
     "slide_type": "slide"
    }
   },
   "source": [
    "## References"
   ]
  },
  {
   "cell_type": "markdown",
   "id": "111fe29f",
   "metadata": {
    "slideshow": {
     "slide_type": "slide"
    }
   },
   "source": [
    "L. E. J. Brouwer. De onbetrouwbaarheid der logische principes. Tijdschrift voor Wijsbegeerte, 2:152–158, 1908.\n",
    "\n",
    "L. E. J. Brouwer. Intuıtionistische splitsing van mathematische grondbegrippen. Nederl. Akad. Wetensch. Verslagen, 32:877–880, 1923.\n",
    "\n",
    "L. E. J. Brouwer. Intuitionistische Zerlegung mathematischer Grundbegriffe. Jahresbericht der Deutschen Mathematiker-Vereinigung, 33:251–256, 1925.\n",
    "\n",
    "L. E. J. Brouwer. Collected Works 1. Philosophy and Foundations of Mathematics. North Holland, Amsterdam, 1975. Edited by Arend Heyting.\n",
    "\n",
    "L. E. J. Brouwer. Brouwer’s Cambridge Lectures on Intuitionism. Cambridge University Press, Cambridge-New York, 1981. [The Cambridge lectures of 1927].\n",
    "\n",
    "L. E. J. Brouwer. Intuitionismus. Wissenschaftsverlag, Mannheim, 1992. [The Berlin lectures of 1930].\n",
    "\n",
    "M. Dummett. Truth. Proceedings of the Aristotelian Society, 59(1):141–62, 1959.\n",
    "\n",
    "M. Dummett. Truth and Other Enigmas. Harvard University Press, Cambridge, 1978.\n",
    "\n",
    "W. Ewald. From Kant to Hilbert: A Source Book in the Foundations of Mathematics. Oxford University Press, New York, 1996. Two volumes.\n",
    "\n",
    "G. Frege. Philosophical and Mathematical Correspondence. Basil Blackwell, 1980.\n",
    "\n",
    "G. Frege. Nachgelassene Schriften und wissenschaftlicher Briefwechsel. Meiner, Hamburg, 1983.\n",
    "\n",
    "A. Heyting. Intuitionism. An Introduction. North-Holland, Amsterdam, 1956.\n",
    "\n",
    "D. Hilbert. Mathematische Probleme. Vortrag, gehalten auf dem internationalen Mathematiker-Congress zu Paris 1900. Nachrichten von der Gesellschaft der Wissenschaften zu G ̈ottingen, Mathematisch- Physikalische Klasse, pages 253–297, 1900. Translated in: Ewald 1996 vol. 2 pp. 1096-1104\n",
    "\n",
    "D. Hilbert. Über die Grundlagen der Logik und der Arithmetik. In A. Krazer, editor, Verhandlungen des dritten Internationalen Mathematiker-Kongresses in Heidelberg vom 8. bis 13. August 1904, pages 174–85. Teubner, Leipzig, 1905.\n",
    "\n",
    "D. Hilbert. Neubegründung der Mathematik. Erste Mitteilung. Abhandlungen aus dem Mathematischen Seminar der Universitat Hamburg, 1(1):157–177, 1922.\n",
    "\n",
    "D. Hilbert. Über das Unendliche. Mathematische Annalen, 95:161–190, 1926.\n",
    "\n",
    "D. Hilbert and P. Bernays. Grundlagen der Mathematik, volume II. Springer, Berlin, first edition, 1939.\n",
    "\n",
    "G. Kreisel. Foundations of intuitionistic logic. In Logic, Methodology and Philosophy of Science (Proc. 1960 Internat. Congr.), pages 198–210. Stanford University Press, Stanford, 1962.\n",
    "\n",
    "H. Poincaré. Les géométries non euclidiennes. Rev. Gen. Sci. Pures Appl. Bull. Assoc. Fr. Av. Sci., 2:769–774, 1891. Reprinted in Poincaré 1902.\n",
    "\n",
    "Poincaré, H. (1902). La science et l’hypothèse. Paris: Flammarion. Translated in Poincaré 1913.\n",
    "\n",
    "Poincaré, H. (1913). The Foundations of Science: Science and Hypothesis, The Value of Science, Science and Method. New York: Science Press.\n",
    "\n",
    "H. Poincaré. Les mathématiques et la logique. Revue de métaphysique et de morale, 13:815–835, 1905.\n",
    "\n",
    "W. W. Tait. Finitism. The Journal of Philosophy, 78(9):524–546, 1981.\n",
    "\n",
    "G. Sundholm. Constructions, proofs and the meaning of logical constants. Journal of Philosophical Logic, 12(2):151–172, 1983.\n",
    "\n",
    "R. Zach. The practice of finitism: Epsilon calculus and consistency proofs in Hilbert’s program. Synthese, 137(1-2):211–259, 2003."
   ]
  },
  {
   "cell_type": "code",
   "execution_count": null,
   "id": "c7ce0e14",
   "metadata": {},
   "outputs": [],
   "source": []
  }
 ],
 "metadata": {
  "celltoolbar": "Slideshow",
  "kernelspec": {
   "display_name": "Python 3 (ipykernel)",
   "language": "python",
   "name": "python3"
  },
  "language_info": {
   "codemirror_mode": {
    "name": "ipython",
    "version": 3
   },
   "file_extension": ".py",
   "mimetype": "text/x-python",
   "name": "python",
   "nbconvert_exporter": "python",
   "pygments_lexer": "ipython3",
   "version": "3.11.5"
  }
 },
 "nbformat": 4,
 "nbformat_minor": 5
}
